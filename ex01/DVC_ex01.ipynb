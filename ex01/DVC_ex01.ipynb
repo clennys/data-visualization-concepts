{
  "nbformat": 4,
  "nbformat_minor": 0,
  "metadata": {
    "colab": {
      "provenance": []
    },
    "kernelspec": {
      "name": "python3",
      "display_name": "Python 3"
    },
    "language_info": {
      "name": "python"
    }
  },
  "cells": [
    {
      "cell_type": "code",
      "execution_count": 15,
      "metadata": {
        "id": "9E4yNtqPSrvw",
        "colab": {
          "base_uri": "https://localhost:8080/",
          "height": 17
        },
        "outputId": "b461b2b0-29d6-4eb4-ce8b-eae43cef4ac4"
      },
      "outputs": [
        {
          "output_type": "display_data",
          "data": {
            "text/plain": [
              "<IPython.core.display.HTML object>"
            ],
            "text/html": [
              "\n",
              "  <style>\n",
              "    pre {\n",
              "        white-space: pre-wrap;\n",
              "    }\n",
              "  </style>\n",
              "  "
            ]
          },
          "metadata": {}
        }
      ],
      "source": [
        "import pandas as pd\n",
        "from bokeh.plotting import figure\n",
        "from bokeh.io import output_file, save, show, output_notebook\n",
        "from bokeh.models import ColumnDataSource, HoverTool, FactorRange, NumeralTickFormatter\n",
        "from bokeh.layouts import gridplot\n",
        "from bokeh.transform import factor_cmap\n",
        "from bokeh.models.annotations import Label\n",
        "from bokeh.palettes import Blues\n"
      ]
    },
    {
      "cell_type": "code",
      "source": [
        "# Enable viewing Bokeh plots in the notebook\n",
        "output_notebook()"
      ],
      "metadata": {
        "id": "cuHFuuJFVnxx",
        "colab": {
          "base_uri": "https://localhost:8080/",
          "height": 17
        },
        "outputId": "358bf611-36c6-4143-b476-c975375ae184"
      },
      "execution_count": 16,
      "outputs": [
        {
          "output_type": "display_data",
          "data": {
            "text/plain": [
              "<IPython.core.display.HTML object>"
            ],
            "text/html": [
              "\n",
              "  <style>\n",
              "    pre {\n",
              "        white-space: pre-wrap;\n",
              "    }\n",
              "  </style>\n",
              "  "
            ]
          },
          "metadata": {}
        }
      ]
    },
    {
      "cell_type": "code",
      "source": [
        "# For google collab to wrap output\n",
        "from IPython.display import HTML, display\n",
        "\n",
        "def set_css():\n",
        "  display(HTML('''\n",
        "  <style>\n",
        "    pre {\n",
        "        white-space: pre-wrap;\n",
        "    }\n",
        "  </style>\n",
        "  '''))\n",
        "get_ipython().events.register('pre_run_cell', set_css)"
      ],
      "metadata": {
        "id": "BqLiYoFclTRO",
        "colab": {
          "base_uri": "https://localhost:8080/",
          "height": 17
        },
        "outputId": "2818cdb8-4852-485c-85e5-8b17bfc2ca89"
      },
      "execution_count": 17,
      "outputs": [
        {
          "output_type": "display_data",
          "data": {
            "text/plain": [
              "<IPython.core.display.HTML object>"
            ],
            "text/html": [
              "\n",
              "  <style>\n",
              "    pre {\n",
              "        white-space: pre-wrap;\n",
              "    }\n",
              "  </style>\n",
              "  "
            ]
          },
          "metadata": {}
        }
      ]
    },
    {
      "cell_type": "markdown",
      "source": [
        "# Task 1: Prepare the Data\n",
        "\n",
        "## 1.1: Use pandas to read a csv file into a dataframe from a link\n",
        "You may refer to:  https://pythoninoffice.com/how-to-read-google-sheet-into-pandas/"
      ],
      "metadata": {
        "id": "fyPczUEDTOpd"
      }
    },
    {
      "cell_type": "code",
      "source": [
        "url = 'https://docs.google.com/spreadsheets/d/e/2PACX-1vQdNgN-88U31tk1yQytaJdmoLrxuFn1LnbwTubwCd8se2aHh8656xLLHzxHSoiaXMUu8rIcu6gMj5Oq/pub?gid=1242961990&single=true&output=csv'\n",
        "MAGMA_financials = pd.read_csv( url )\n",
        "MAGMA_financials"
      ],
      "metadata": {
        "colab": {
          "base_uri": "https://localhost:8080/",
          "height": 503
        },
        "id": "BUBCHcweTmYR",
        "outputId": "db1ddd8e-d8ab-44da-90ec-4ac5d044b0b5"
      },
      "execution_count": 18,
      "outputs": [
        {
          "output_type": "display_data",
          "data": {
            "text/plain": [
              "<IPython.core.display.HTML object>"
            ],
            "text/html": [
              "\n",
              "  <style>\n",
              "    pre {\n",
              "        white-space: pre-wrap;\n",
              "    }\n",
              "  </style>\n",
              "  "
            ]
          },
          "metadata": {}
        },
        {
          "output_type": "display_data",
          "data": {
            "text/plain": [
              "<IPython.core.display.HTML object>"
            ],
            "text/html": [
              "\n",
              "  <style>\n",
              "    pre {\n",
              "        white-space: pre-wrap;\n",
              "    }\n",
              "  </style>\n",
              "  "
            ]
          },
          "metadata": {}
        },
        {
          "output_type": "execute_result",
          "data": {
            "text/plain": [
              "   Symbol Quarter Ended  Revenue  Cost of Revenue  Gross Profit  \\\n",
              "0    META        2019Q1    15077             2816         12261   \n",
              "1    META        2019Q2    16886             3307         13579   \n",
              "2    META        2019Q3    17652             3155         14497   \n",
              "3    META        2019Q4    21082             3491         17591   \n",
              "4    META        2020Q1    17737             3459         14278   \n",
              "..    ...           ...      ...              ...           ...   \n",
              "75   AMZN        2021Q4   137412            82835         54577   \n",
              "76   AMZN        2022Q1   116444            66499         49945   \n",
              "77   AMZN        2022Q2   121234            66424         54810   \n",
              "78   AMZN        2022Q3   127101            70268         56833   \n",
              "79   AMZN        2022Q4   149204            85640         63564   \n",
              "\n",
              "    Selling, General & Admin  Research & Development  Operating Expenses  \\\n",
              "0                       6084                    2860                8944   \n",
              "1                       5638                    3315                8953   \n",
              "2                       3764                    3548                7312   \n",
              "3                       4855                    3878                8733   \n",
              "4                       4370                    4015                8385   \n",
              "..                       ...                     ...                 ...   \n",
              "75                     13335                   15313               51117   \n",
              "76                     10914                   14842               46276   \n",
              "77                     12989                   18072               51493   \n",
              "78                     14075                   19485               54308   \n",
              "79                     16151                   20814               60827   \n",
              "\n",
              "    Operating Income  Net Income  \n",
              "0               3317        2429  \n",
              "1               4626        2616  \n",
              "2               7185        6091  \n",
              "3               8858        7349  \n",
              "4               5893        4902  \n",
              "..               ...         ...  \n",
              "75              3460       14323  \n",
              "76              3669       -3844  \n",
              "77              3317       -2028  \n",
              "78              2525        2872  \n",
              "79              2737         278  \n",
              "\n",
              "[80 rows x 10 columns]"
            ],
            "text/html": [
              "\n",
              "  <div id=\"df-55fbb030-1d6b-49ec-85f4-249554acb613\">\n",
              "    <div class=\"colab-df-container\">\n",
              "      <div>\n",
              "<style scoped>\n",
              "    .dataframe tbody tr th:only-of-type {\n",
              "        vertical-align: middle;\n",
              "    }\n",
              "\n",
              "    .dataframe tbody tr th {\n",
              "        vertical-align: top;\n",
              "    }\n",
              "\n",
              "    .dataframe thead th {\n",
              "        text-align: right;\n",
              "    }\n",
              "</style>\n",
              "<table border=\"1\" class=\"dataframe\">\n",
              "  <thead>\n",
              "    <tr style=\"text-align: right;\">\n",
              "      <th></th>\n",
              "      <th>Symbol</th>\n",
              "      <th>Quarter Ended</th>\n",
              "      <th>Revenue</th>\n",
              "      <th>Cost of Revenue</th>\n",
              "      <th>Gross Profit</th>\n",
              "      <th>Selling, General &amp; Admin</th>\n",
              "      <th>Research &amp; Development</th>\n",
              "      <th>Operating Expenses</th>\n",
              "      <th>Operating Income</th>\n",
              "      <th>Net Income</th>\n",
              "    </tr>\n",
              "  </thead>\n",
              "  <tbody>\n",
              "    <tr>\n",
              "      <th>0</th>\n",
              "      <td>META</td>\n",
              "      <td>2019Q1</td>\n",
              "      <td>15077</td>\n",
              "      <td>2816</td>\n",
              "      <td>12261</td>\n",
              "      <td>6084</td>\n",
              "      <td>2860</td>\n",
              "      <td>8944</td>\n",
              "      <td>3317</td>\n",
              "      <td>2429</td>\n",
              "    </tr>\n",
              "    <tr>\n",
              "      <th>1</th>\n",
              "      <td>META</td>\n",
              "      <td>2019Q2</td>\n",
              "      <td>16886</td>\n",
              "      <td>3307</td>\n",
              "      <td>13579</td>\n",
              "      <td>5638</td>\n",
              "      <td>3315</td>\n",
              "      <td>8953</td>\n",
              "      <td>4626</td>\n",
              "      <td>2616</td>\n",
              "    </tr>\n",
              "    <tr>\n",
              "      <th>2</th>\n",
              "      <td>META</td>\n",
              "      <td>2019Q3</td>\n",
              "      <td>17652</td>\n",
              "      <td>3155</td>\n",
              "      <td>14497</td>\n",
              "      <td>3764</td>\n",
              "      <td>3548</td>\n",
              "      <td>7312</td>\n",
              "      <td>7185</td>\n",
              "      <td>6091</td>\n",
              "    </tr>\n",
              "    <tr>\n",
              "      <th>3</th>\n",
              "      <td>META</td>\n",
              "      <td>2019Q4</td>\n",
              "      <td>21082</td>\n",
              "      <td>3491</td>\n",
              "      <td>17591</td>\n",
              "      <td>4855</td>\n",
              "      <td>3878</td>\n",
              "      <td>8733</td>\n",
              "      <td>8858</td>\n",
              "      <td>7349</td>\n",
              "    </tr>\n",
              "    <tr>\n",
              "      <th>4</th>\n",
              "      <td>META</td>\n",
              "      <td>2020Q1</td>\n",
              "      <td>17737</td>\n",
              "      <td>3459</td>\n",
              "      <td>14278</td>\n",
              "      <td>4370</td>\n",
              "      <td>4015</td>\n",
              "      <td>8385</td>\n",
              "      <td>5893</td>\n",
              "      <td>4902</td>\n",
              "    </tr>\n",
              "    <tr>\n",
              "      <th>...</th>\n",
              "      <td>...</td>\n",
              "      <td>...</td>\n",
              "      <td>...</td>\n",
              "      <td>...</td>\n",
              "      <td>...</td>\n",
              "      <td>...</td>\n",
              "      <td>...</td>\n",
              "      <td>...</td>\n",
              "      <td>...</td>\n",
              "      <td>...</td>\n",
              "    </tr>\n",
              "    <tr>\n",
              "      <th>75</th>\n",
              "      <td>AMZN</td>\n",
              "      <td>2021Q4</td>\n",
              "      <td>137412</td>\n",
              "      <td>82835</td>\n",
              "      <td>54577</td>\n",
              "      <td>13335</td>\n",
              "      <td>15313</td>\n",
              "      <td>51117</td>\n",
              "      <td>3460</td>\n",
              "      <td>14323</td>\n",
              "    </tr>\n",
              "    <tr>\n",
              "      <th>76</th>\n",
              "      <td>AMZN</td>\n",
              "      <td>2022Q1</td>\n",
              "      <td>116444</td>\n",
              "      <td>66499</td>\n",
              "      <td>49945</td>\n",
              "      <td>10914</td>\n",
              "      <td>14842</td>\n",
              "      <td>46276</td>\n",
              "      <td>3669</td>\n",
              "      <td>-3844</td>\n",
              "    </tr>\n",
              "    <tr>\n",
              "      <th>77</th>\n",
              "      <td>AMZN</td>\n",
              "      <td>2022Q2</td>\n",
              "      <td>121234</td>\n",
              "      <td>66424</td>\n",
              "      <td>54810</td>\n",
              "      <td>12989</td>\n",
              "      <td>18072</td>\n",
              "      <td>51493</td>\n",
              "      <td>3317</td>\n",
              "      <td>-2028</td>\n",
              "    </tr>\n",
              "    <tr>\n",
              "      <th>78</th>\n",
              "      <td>AMZN</td>\n",
              "      <td>2022Q3</td>\n",
              "      <td>127101</td>\n",
              "      <td>70268</td>\n",
              "      <td>56833</td>\n",
              "      <td>14075</td>\n",
              "      <td>19485</td>\n",
              "      <td>54308</td>\n",
              "      <td>2525</td>\n",
              "      <td>2872</td>\n",
              "    </tr>\n",
              "    <tr>\n",
              "      <th>79</th>\n",
              "      <td>AMZN</td>\n",
              "      <td>2022Q4</td>\n",
              "      <td>149204</td>\n",
              "      <td>85640</td>\n",
              "      <td>63564</td>\n",
              "      <td>16151</td>\n",
              "      <td>20814</td>\n",
              "      <td>60827</td>\n",
              "      <td>2737</td>\n",
              "      <td>278</td>\n",
              "    </tr>\n",
              "  </tbody>\n",
              "</table>\n",
              "<p>80 rows × 10 columns</p>\n",
              "</div>\n",
              "      <button class=\"colab-df-convert\" onclick=\"convertToInteractive('df-55fbb030-1d6b-49ec-85f4-249554acb613')\"\n",
              "              title=\"Convert this dataframe to an interactive table.\"\n",
              "              style=\"display:none;\">\n",
              "        \n",
              "  <svg xmlns=\"http://www.w3.org/2000/svg\" height=\"24px\"viewBox=\"0 0 24 24\"\n",
              "       width=\"24px\">\n",
              "    <path d=\"M0 0h24v24H0V0z\" fill=\"none\"/>\n",
              "    <path d=\"M18.56 5.44l.94 2.06.94-2.06 2.06-.94-2.06-.94-.94-2.06-.94 2.06-2.06.94zm-11 1L8.5 8.5l.94-2.06 2.06-.94-2.06-.94L8.5 2.5l-.94 2.06-2.06.94zm10 10l.94 2.06.94-2.06 2.06-.94-2.06-.94-.94-2.06-.94 2.06-2.06.94z\"/><path d=\"M17.41 7.96l-1.37-1.37c-.4-.4-.92-.59-1.43-.59-.52 0-1.04.2-1.43.59L10.3 9.45l-7.72 7.72c-.78.78-.78 2.05 0 2.83L4 21.41c.39.39.9.59 1.41.59.51 0 1.02-.2 1.41-.59l7.78-7.78 2.81-2.81c.8-.78.8-2.07 0-2.86zM5.41 20L4 18.59l7.72-7.72 1.47 1.35L5.41 20z\"/>\n",
              "  </svg>\n",
              "      </button>\n",
              "      \n",
              "  <style>\n",
              "    .colab-df-container {\n",
              "      display:flex;\n",
              "      flex-wrap:wrap;\n",
              "      gap: 12px;\n",
              "    }\n",
              "\n",
              "    .colab-df-convert {\n",
              "      background-color: #E8F0FE;\n",
              "      border: none;\n",
              "      border-radius: 50%;\n",
              "      cursor: pointer;\n",
              "      display: none;\n",
              "      fill: #1967D2;\n",
              "      height: 32px;\n",
              "      padding: 0 0 0 0;\n",
              "      width: 32px;\n",
              "    }\n",
              "\n",
              "    .colab-df-convert:hover {\n",
              "      background-color: #E2EBFA;\n",
              "      box-shadow: 0px 1px 2px rgba(60, 64, 67, 0.3), 0px 1px 3px 1px rgba(60, 64, 67, 0.15);\n",
              "      fill: #174EA6;\n",
              "    }\n",
              "\n",
              "    [theme=dark] .colab-df-convert {\n",
              "      background-color: #3B4455;\n",
              "      fill: #D2E3FC;\n",
              "    }\n",
              "\n",
              "    [theme=dark] .colab-df-convert:hover {\n",
              "      background-color: #434B5C;\n",
              "      box-shadow: 0px 1px 3px 1px rgba(0, 0, 0, 0.15);\n",
              "      filter: drop-shadow(0px 1px 2px rgba(0, 0, 0, 0.3));\n",
              "      fill: #FFFFFF;\n",
              "    }\n",
              "  </style>\n",
              "\n",
              "      <script>\n",
              "        const buttonEl =\n",
              "          document.querySelector('#df-55fbb030-1d6b-49ec-85f4-249554acb613 button.colab-df-convert');\n",
              "        buttonEl.style.display =\n",
              "          google.colab.kernel.accessAllowed ? 'block' : 'none';\n",
              "\n",
              "        async function convertToInteractive(key) {\n",
              "          const element = document.querySelector('#df-55fbb030-1d6b-49ec-85f4-249554acb613');\n",
              "          const dataTable =\n",
              "            await google.colab.kernel.invokeFunction('convertToInteractive',\n",
              "                                                     [key], {});\n",
              "          if (!dataTable) return;\n",
              "\n",
              "          const docLinkHtml = 'Like what you see? Visit the ' +\n",
              "            '<a target=\"_blank\" href=https://colab.research.google.com/notebooks/data_table.ipynb>data table notebook</a>'\n",
              "            + ' to learn more about interactive tables.';\n",
              "          element.innerHTML = '';\n",
              "          dataTable['output_type'] = 'display_data';\n",
              "          await google.colab.output.renderOutput(dataTable, element);\n",
              "          const docLink = document.createElement('div');\n",
              "          docLink.innerHTML = docLinkHtml;\n",
              "          element.appendChild(docLink);\n",
              "        }\n",
              "      </script>\n",
              "    </div>\n",
              "  </div>\n",
              "  "
            ]
          },
          "metadata": {},
          "execution_count": 18
        }
      ]
    },
    {
      "cell_type": "markdown",
      "source": [
        "### What are panda DataFrames?\n",
        "DataFrame consists of three main components: the data, the index, and the columns.\n",
        "\n",
        "\n",
        "1. Firstly, the DataFrame can contain data that is:\n",
        "\n",
        "  *  Pandas DataFrame\n",
        "  *  Pandas Series: a one-dimensional labeled array capable of holding any data type with axis labels or index. An example of a Series object is one column from a DataFrame.\n",
        "  * NumPy ndarray (also 2D) \n",
        "  * Dictionary of 1D ndarray's, list, dictionarys and series\n",
        "\n",
        "2. The index, on the one hand, indicates the difference in rows.\n",
        "\n",
        "3. the column names indicate the difference in columns.\n",
        "\n",
        "#### Create a Data Frame\n",
        "\n",
        "```python\n",
        "data = np.array([['','Col1','Col2'],\n",
        "                ['Row1',1,2],\n",
        "                ['Row2',3,4]])\n",
        "                \n",
        "print(pd.DataFrame(data=data[1:,1:],\n",
        "                  index=data[1:,0],\n",
        "                  columns=data[0,1:]))\n",
        "\n",
        "\n",
        "    Col1 Col2\n",
        "\n",
        "Row1    1    2\n",
        "\n",
        "Row2    3    4\n",
        "```\n",
        "#### Accessing data\n",
        "\n",
        "```python\n",
        "# Single Values\n",
        "\n",
        "# Using `iloc[]`\n",
        "# Works on the positions in your index.\n",
        "# This means that if you give in iloc[2], you look for the values of your DataFrame that are at index ’2`.\n",
        "df.iloc[0][0]\n",
        "\n",
        "# Using `loc[]`\n",
        "# Works on labels of your index. \n",
        "# This means that if you give in loc[2], you look for the values of your DataFrame that have an index labeled 2.\n",
        "df.loc[0]['A']\n",
        "\n",
        "# Using `at[]`\n",
        "df.at[0,'A']\n",
        "\n",
        "# Using `iat[]`\n",
        "df.iat[0,0]\n",
        "\n",
        "#Selecting rows or cols\n",
        "\n",
        "# Use `iloc[]` to select row `0`\n",
        "df.iloc[0]\n",
        "\n",
        "# Use `loc[]` to select column `'A'`\n",
        "f.loc[:,'A']\n",
        "```\n",
        "#### Manipulating Data\n",
        "\n",
        "```python\n",
        "# Adding \n",
        "\n",
        "# Rows\n",
        "# This will make an index labeled `2` and add the new values\n",
        "df.loc[2] = [11, 12, 13]\n",
        "\n",
        "​# Cols\n",
        "# Append a column to `df`\n",
        "df.loc[:, 4] = pd.Series(['5', '6', '7'], index=df.index)\n",
        "\n",
        "# Resetting the Index of your DataFrame\n",
        "# Use `reset_index()` to reset the values. \n",
        "df_reset = df.reset_index(level=0, drop=True)\n",
        "\n",
        "# Deleting an Col from your DataFrame\n",
        "# Drop the column with label 'A'                  \n",
        "df.drop('A', axis=1, inplace=True)\n",
        "\n",
        "# Drop the column at position 1\n",
        "df.drop(df.columns[[1]], axis=1)\n",
        "\n",
        "# Renaming\n",
        "newcols = {\n",
        "    'A': 'new_column_1', \n",
        "    'B': 'new_column_2', \n",
        "    'C': 'new_column_3'\n",
        "}\n",
        "\n",
        "# Use `rename()` to rename your columns\n",
        "df.rename(columns=newcols, inplace=True)\n",
        "\n",
        "# Rename your index\n",
        "df.rename(index={1: 'a'})\n",
        "```\n",
        "\n",
        "#### Format\n",
        "\n",
        "\n",
        "```python\n",
        "# Replacing all Occurrences of a String in a DataFrame\n",
        "\n",
        "# Replace the strings by numerical values (0-4)\n",
        "df.replace(['Awful', 'Poor', 'OK', 'Acceptable', 'Perfect'], [0, 1, 2, 3, 4]) \n",
        "\n",
        "# Regex\n",
        "# Replace strings by others with `regex`\n",
        "df.replace({'\\n': ''}, regex=True)\n",
        "\n",
        "# Removing Parts from Strings in the Cells of your DataFrame\n",
        "# Delete unwanted parts from the strings in the first column\n",
        "df[0] = df[0].map(lambda x: x.lstrip('+-').rstrip('aAbBcC'))\n",
        "\n",
        "# Splitting Text in a Column into Multiple Rows\n",
        "# Split out the two values in the third row\n",
        "# Make it a Series\n",
        "# Stack the values\n",
        "ticket_series = df['Ticket'].str.split(' ').apply(pd.Series, 1).stack()\n",
        "\n",
        "# Get rid of the stack:\n",
        "# Drop the level to line up with the DataFrame\n",
        "ticket_series.index = ticket_series.index.droplevel(-1)\n",
        "\n",
        "# Applying a Function to your Pandas DataFrame’s Columns or Rows\n",
        "doubler = lambda x: x*2\n",
        "df['A'].apply(doubler)\n",
        "df.loc[0].apply(doubler)\n",
        "\n",
        "def doubler(x):\n",
        "    if x % 2 == 0:\n",
        "        return x\n",
        "    else:\n",
        "        return x * 2\n",
        "\n",
        "# Use `applymap()` to apply `doubler()` to your DataFrame\n",
        "doubled_df = df.applymap(doubler)\n",
        "\n",
        "```\n",
        "#### Iterating\n",
        "\n",
        "\n",
        "\n",
        "```python\n",
        "for index, row in df.iterrows() :\n",
        "    print(row['A'], row['B'])\n",
        "\n",
        "```"
      ],
      "metadata": {
        "id": "zYQ82Ayy-UUu"
      }
    },
    {
      "cell_type": "markdown",
      "source": [
        "## 1.2: Inspect the columns in the dataframe\n",
        "- 'Symbol':  The stock ticker symbols of five companies -> META, AAPL, GOOGL, MSFT, AMZN \n",
        "\n",
        "- 'Quarter Ended': The time when the companies filed their quarterly financial statements to SEC -> from 2019Q1 to 2022Q4\n",
        "\n",
        "- The other columns, 'Revenue', 'Gross Profit', etc.: are several items in the financial statements\n",
        "\n",
        "Your task is to select a subset of the financial items of a company and visualize them in a grouped bar chart\n",
        "Select a subset of the financial items, e.g. ['Net Income', 'Operating Expenses', 'Selling, General & Admin']"
      ],
      "metadata": {
        "id": "PSCnV0p2V4Qa"
      }
    },
    {
      "cell_type": "code",
      "source": [
        "subset = [\"Net Income\", \"Revenue\", \"Cost of Revenue\"]"
      ],
      "metadata": {
        "colab": {
          "base_uri": "https://localhost:8080/",
          "height": 17
        },
        "id": "KZwE93FWYxk6",
        "outputId": "f7e23efa-8243-46cd-89a2-b3ca00f759f8"
      },
      "execution_count": 19,
      "outputs": [
        {
          "output_type": "display_data",
          "data": {
            "text/plain": [
              "<IPython.core.display.HTML object>"
            ],
            "text/html": [
              "\n",
              "  <style>\n",
              "    pre {\n",
              "        white-space: pre-wrap;\n",
              "    }\n",
              "  </style>\n",
              "  "
            ]
          },
          "metadata": {}
        },
        {
          "output_type": "display_data",
          "data": {
            "text/plain": [
              "<IPython.core.display.HTML object>"
            ],
            "text/html": [
              "\n",
              "  <style>\n",
              "    pre {\n",
              "        white-space: pre-wrap;\n",
              "    }\n",
              "  </style>\n",
              "  "
            ]
          },
          "metadata": {}
        }
      ]
    },
    {
      "cell_type": "markdown",
      "source": [
        "## 1.3: Create a nested categorical coordinate\n",
        "\n",
        " To see the trend, you'll use 'Quarter Ended' in the x axis\n",
        " Each item has 16 quarters' data, and each quarter has a subset of items\n",
        " To make the x axis clear and readable, \n",
        " you'll create a nested (hierarchical) categorical coordinate as x\n",
        " Namely, it will group the bars in nested levels of (year, quarter, item)\n",
        " e.g. x = [ ('2019', 'Q1', 'item 1'),  ('2019', 'Q1', 'item 2'), ...]\n",
        "\n",
        " You may refer to:\n",
        " bokeh tutorial 07 - Bar and Categorical Data Plots - Grouped Bar Charts\n"
      ],
      "metadata": {
        "id": "WZPKJ6unbwk1"
      }
    },
    {
      "cell_type": "code",
      "source": [
        "years = ['2019', '2020', '2021', '2022']\n",
        "quarters = ['Q1', 'Q2', 'Q3', 'Q4']\n",
        "x = []\n",
        "for y in years:\n",
        "  for q in quarters:\n",
        "    for s in subset:\n",
        "      x.append((y,q,s))\n",
        " "
      ],
      "metadata": {
        "colab": {
          "base_uri": "https://localhost:8080/",
          "height": 17
        },
        "id": "RRTQHfot4w1O",
        "outputId": "544f742d-0250-4ac6-fb45-1af4924c792e"
      },
      "execution_count": 20,
      "outputs": [
        {
          "output_type": "display_data",
          "data": {
            "text/plain": [
              "<IPython.core.display.HTML object>"
            ],
            "text/html": [
              "\n",
              "  <style>\n",
              "    pre {\n",
              "        white-space: pre-wrap;\n",
              "    }\n",
              "  </style>\n",
              "  "
            ]
          },
          "metadata": {}
        },
        {
          "output_type": "display_data",
          "data": {
            "text/plain": [
              "<IPython.core.display.HTML object>"
            ],
            "text/html": [
              "\n",
              "  <style>\n",
              "    pre {\n",
              "        white-space: pre-wrap;\n",
              "    }\n",
              "  </style>\n",
              "  "
            ]
          },
          "metadata": {}
        }
      ]
    },
    {
      "cell_type": "markdown",
      "source": [
        "## 1.4: Use ColumnDataSource to generate data sources\n",
        "\n",
        "- For reusability, you'll define a function to create the data source\n",
        "- You may refer to: bokeh tutorial 03 - Data Sources and Transformations - Creating with Python Dicts\n",
        "- This function takes a company symbol as an argument and returns the corresponding data source\n"
      ],
      "metadata": {
        "id": "8ByZ8s7HYUDu"
      }
    },
    {
      "cell_type": "code",
      "source": [
        "def create_source(symbol):\n",
        "    \n",
        "    # Select the company's data from the dataframe\n",
        "    # You may refer to:\n",
        "    # https://pandas.pydata.org/pandas-docs/stable/user_guide/indexing.html\n",
        "    \n",
        "    data = MAGMA_financials[MAGMA_financials.Symbol == symbol][subset]\n",
        "\n",
        "    # Flatten the data to a 1d list as y\n",
        "    # corresponding to the nested categorical coordinate of x axis\n",
        "    # You may refer to:\n",
        "    # https://www.datasciencelearner.com/flatten-dataframe-in-pandas-methods/\n",
        "    \n",
        "    y = data.stack().values\n",
        "\n",
        "    # To make the legends later in the bar chart, \n",
        "    # you'll give each bar its item name as a label,\n",
        "    # and put these labels into a legend group\n",
        "    # with the column name 'label' in the data source\n",
        "    # You may refer to:\n",
        "    # https://docs.bokeh.org/en/latest/docs/user_guide/basic/annotations.html#automatic-grouping-python-side\n",
        "    \n",
        "    x_label = subset * 16\n",
        "    \n",
        "    return ColumnDataSource(data=dict(x=x, y=y, label=x_label))\n"
      ],
      "metadata": {
        "colab": {
          "base_uri": "https://localhost:8080/",
          "height": 17
        },
        "id": "CCRV-NjAYi0s",
        "outputId": "43c410a4-f3ff-4b6a-8cb4-2f26e0d71220"
      },
      "execution_count": 21,
      "outputs": [
        {
          "output_type": "display_data",
          "data": {
            "text/plain": [
              "<IPython.core.display.HTML object>"
            ],
            "text/html": [
              "\n",
              "  <style>\n",
              "    pre {\n",
              "        white-space: pre-wrap;\n",
              "    }\n",
              "  </style>\n",
              "  "
            ]
          },
          "metadata": {}
        },
        {
          "output_type": "display_data",
          "data": {
            "text/plain": [
              "<IPython.core.display.HTML object>"
            ],
            "text/html": [
              "\n",
              "  <style>\n",
              "    pre {\n",
              "        white-space: pre-wrap;\n",
              "    }\n",
              "  </style>\n",
              "  "
            ]
          },
          "metadata": {}
        }
      ]
    },
    {
      "cell_type": "code",
      "source": [
        "# Create a source for each company\n",
        "# and put them in a dictionary in the format\n",
        "# sources = { symbol : source, ... }\n",
        "\n",
        "symbols = MAGMA_financials.Symbol.unique()\n",
        "sources = {symbol : create_source(symbol) for symbol in symbols}\n"
      ],
      "metadata": {
        "colab": {
          "base_uri": "https://localhost:8080/",
          "height": 17
        },
        "id": "XInrt65rn_Kj",
        "outputId": "f847bddb-0f23-4eed-fd91-165dc2409331"
      },
      "execution_count": 22,
      "outputs": [
        {
          "output_type": "display_data",
          "data": {
            "text/plain": [
              "<IPython.core.display.HTML object>"
            ],
            "text/html": [
              "\n",
              "  <style>\n",
              "    pre {\n",
              "        white-space: pre-wrap;\n",
              "    }\n",
              "  </style>\n",
              "  "
            ]
          },
          "metadata": {}
        },
        {
          "output_type": "display_data",
          "data": {
            "text/plain": [
              "<IPython.core.display.HTML object>"
            ],
            "text/html": [
              "\n",
              "  <style>\n",
              "    pre {\n",
              "        white-space: pre-wrap;\n",
              "    }\n",
              "  </style>\n",
              "  "
            ]
          },
          "metadata": {}
        }
      ]
    },
    {
      "cell_type": "markdown",
      "source": [
        "# Task 2: Draw the Bar Chart\n",
        "\n",
        "## 2.1: Configure the settings of the figure \n",
        "Set the width and hight of the figure  You'll add a hover tool later, for now set the tools to empty"
      ],
      "metadata": {
        "id": "hp37QLz0ukR8"
      }
    },
    {
      "cell_type": "code",
      "source": [
        "# Set options\n",
        "options = dict(width = 1000, height = 700, tools='')"
      ],
      "metadata": {
        "colab": {
          "base_uri": "https://localhost:8080/",
          "height": 17
        },
        "id": "dTTyNpe_ueBv",
        "outputId": "a18f5749-be55-4a74-a373-f6678a08669a"
      },
      "execution_count": 23,
      "outputs": [
        {
          "output_type": "display_data",
          "data": {
            "text/plain": [
              "<IPython.core.display.HTML object>"
            ],
            "text/html": [
              "\n",
              "  <style>\n",
              "    pre {\n",
              "        white-space: pre-wrap;\n",
              "    }\n",
              "  </style>\n",
              "  "
            ]
          },
          "metadata": {}
        },
        {
          "output_type": "display_data",
          "data": {
            "text/plain": [
              "<IPython.core.display.HTML object>"
            ],
            "text/html": [
              "\n",
              "  <style>\n",
              "    pre {\n",
              "        white-space: pre-wrap;\n",
              "    }\n",
              "  </style>\n",
              "  "
            ]
          },
          "metadata": {}
        }
      ]
    },
    {
      "cell_type": "code",
      "source": [
        "def draw_bar_chart(symbol):\n",
        "    p = figure(x_range=FactorRange(*x), title=symbol, **options)\n",
        "\n",
        "    p.xgrid.grid_line_color = None\n",
        "\n",
        "    p.x_range.range_padding = 0.1\n",
        "\n",
        "    p.xaxis.major_label_text_font_size = \"0pt\"\n",
        "\n",
        "    p.xaxis.major_tick_line_color = None\n",
        "\n",
        "    p.yaxis.axis_label = \"millions USD\"\n",
        "\n",
        "    p.yaxis.formatter = NumeralTickFormatter(format=\"($ 0,0 a)\")\n",
        "\n",
        "    p.vbar(\n",
        "        x=\"x\",\n",
        "        top=\"y\",\n",
        "        width=0.8,\n",
        "        source=sources[symbol],\n",
        "        legend_group=\"label\",\n",
        "        line_color=\"white\",\n",
        "        fill_color=factor_cmap(\"x\", palette=Blues[3], factors=subset, start=2, end=3),\n",
        "    )\n",
        "\n",
        "    p.add_tools(\n",
        "        HoverTool(\n",
        "            tooltips=[\n",
        "                (\"(year, quarter, type = value)\", \"(@x = @y)\"),\n",
        "            ]\n",
        "        )\n",
        "    )\n",
        "\n",
        "    p.legend.label_text_font_size = \"11pt\"\n",
        "    p.legend.label_height = 10\n",
        "    p.legend.glyph_height = 7\n",
        "    p.legend.glyph_width = 20\n",
        "\n",
        "    p.legend.orientation = \"horizontal\"\n",
        "    p.legend.location = \"top_right\"\n",
        "    p.output_backend = \"svg\"\n",
        "\n",
        "    return p\n"
      ],
      "metadata": {
        "colab": {
          "base_uri": "https://localhost:8080/",
          "height": 17
        },
        "id": "l95Tu5d4uxh1",
        "outputId": "64d7f924-4c84-47b3-f73c-ff96d5673b81"
      },
      "execution_count": 24,
      "outputs": [
        {
          "output_type": "display_data",
          "data": {
            "text/plain": [
              "<IPython.core.display.HTML object>"
            ],
            "text/html": [
              "\n",
              "  <style>\n",
              "    pre {\n",
              "        white-space: pre-wrap;\n",
              "    }\n",
              "  </style>\n",
              "  "
            ]
          },
          "metadata": {}
        },
        {
          "output_type": "display_data",
          "data": {
            "text/plain": [
              "<IPython.core.display.HTML object>"
            ],
            "text/html": [
              "\n",
              "  <style>\n",
              "    pre {\n",
              "        white-space: pre-wrap;\n",
              "    }\n",
              "  </style>\n",
              "  "
            ]
          },
          "metadata": {}
        }
      ]
    },
    {
      "cell_type": "code",
      "source": [
        "def make_label(time, number):\n",
        "    label = Label(\n",
        "        x=500,\n",
        "        y=100,\n",
        "        x_units=\"screen\",\n",
        "        y_units=\"screen\",\n",
        "        text=f\"{time}\\nlayoffs\\n{number}\",\n",
        "        text_font_size=\"10pt\",\n",
        "        text_font_style=\"bold\",\n",
        "        text_color=\"black\",\n",
        "        text_align=\"center\",\n",
        "        background_fill_color=\"white\",\n",
        "        background_fill_alpha=0.8,\n",
        "    )\n",
        "\n",
        "    return label"
      ],
      "metadata": {
        "colab": {
          "base_uri": "https://localhost:8080/",
          "height": 17
        },
        "id": "wuhtDEC8N7R5",
        "outputId": "39094b67-139e-43cb-995b-dc7cf5034c31"
      },
      "execution_count": 25,
      "outputs": [
        {
          "output_type": "display_data",
          "data": {
            "text/plain": [
              "<IPython.core.display.HTML object>"
            ],
            "text/html": [
              "\n",
              "  <style>\n",
              "    pre {\n",
              "        white-space: pre-wrap;\n",
              "    }\n",
              "  </style>\n",
              "  "
            ]
          },
          "metadata": {}
        },
        {
          "output_type": "display_data",
          "data": {
            "text/plain": [
              "<IPython.core.display.HTML object>"
            ],
            "text/html": [
              "\n",
              "  <style>\n",
              "    pre {\n",
              "        white-space: pre-wrap;\n",
              "    }\n",
              "  </style>\n",
              "  "
            ]
          },
          "metadata": {}
        }
      ]
    },
    {
      "cell_type": "code",
      "source": [
        "if __name__ == \"__main__\":\n",
        "    p_AMZN = draw_bar_chart(\"AMZN\")\n",
        "    p_META = draw_bar_chart(\"META\")\n",
        "    p_GOOGL = draw_bar_chart(\"GOOGL\")\n",
        "    p_MSFT = draw_bar_chart(\"MSFT\")\n",
        "\n",
        "    labels = {\n",
        "        \"AMZN\": make_label(\"Jan 2023\", \"18,000\"),\n",
        "        \"META\": make_label(\"Nov 2022\", \"11,000\"),\n",
        "        \"GOOGL\": make_label(\"Jan 2023\", \"12,000\"),\n",
        "        \"MSFT\": make_label(\"Jan 2023\", \"10,000\"),\n",
        "    }\n",
        "\n",
        "\n",
        "    p_AMZN = draw_bar_chart(\"AMZN\")\n",
        "    p_AMZN.add_layout(labels[\"AMZN\"])\n",
        "\n",
        "    p_META = draw_bar_chart(\"META\")\n",
        "    p_META.add_layout(labels[\"META\"])\n",
        "\n",
        "    p_GOOGL = draw_bar_chart(\"GOOGL\")\n",
        "    p_GOOGL.add_layout(labels[\"GOOGL\"])\n",
        "\n",
        "    p_MSFT = draw_bar_chart(\"MSFT\")\n",
        "    p_MSFT.add_layout(labels[\"MSFT\"])\n",
        "\n",
        "\n",
        "    p = gridplot([[p_AMZN, None], [p_META, None], [p_GOOGL, None], [p_MSFT, None]], toolbar_location=None)\n",
        "\n",
        "    #output_file(\"dvc_ex1.html\")\n",
        "    #save(p)\n",
        "\n",
        "    show(p)"
      ],
      "metadata": {
        "colab": {
          "base_uri": "https://localhost:8080/",
          "height": 1000
        },
        "id": "zIKoLjiU0BpL",
        "outputId": "d0e11255-4be7-4cea-c7e9-8641e235e23e"
      },
      "execution_count": 27,
      "outputs": [
        {
          "output_type": "display_data",
          "data": {
            "text/plain": [
              "<IPython.core.display.HTML object>"
            ],
            "text/html": [
              "\n",
              "  <style>\n",
              "    pre {\n",
              "        white-space: pre-wrap;\n",
              "    }\n",
              "  </style>\n",
              "  "
            ]
          },
          "metadata": {}
        },
        {
          "output_type": "display_data",
          "data": {
            "text/plain": [
              "<IPython.core.display.HTML object>"
            ],
            "text/html": [
              "\n",
              "  <style>\n",
              "    pre {\n",
              "        white-space: pre-wrap;\n",
              "    }\n",
              "  </style>\n",
              "  "
            ]
          },
          "metadata": {}
        },
        {
          "output_type": "display_data",
          "data": {
            "application/javascript": [
              "(function(root) {\n",
              "  function now() {\n",
              "    return new Date();\n",
              "  }\n",
              "\n",
              "  const force = true;\n",
              "\n",
              "  if (typeof root._bokeh_onload_callbacks === \"undefined\" || force === true) {\n",
              "    root._bokeh_onload_callbacks = [];\n",
              "    root._bokeh_is_loading = undefined;\n",
              "  }\n",
              "\n",
              "const JS_MIME_TYPE = 'application/javascript';\n",
              "  const HTML_MIME_TYPE = 'text/html';\n",
              "  const EXEC_MIME_TYPE = 'application/vnd.bokehjs_exec.v0+json';\n",
              "  const CLASS_NAME = 'output_bokeh rendered_html';\n",
              "\n",
              "  /**\n",
              "   * Render data to the DOM node\n",
              "   */\n",
              "  function render(props, node) {\n",
              "    const script = document.createElement(\"script\");\n",
              "    node.appendChild(script);\n",
              "  }\n",
              "\n",
              "  /**\n",
              "   * Handle when an output is cleared or removed\n",
              "   */\n",
              "  function handleClearOutput(event, handle) {\n",
              "    const cell = handle.cell;\n",
              "\n",
              "    const id = cell.output_area._bokeh_element_id;\n",
              "    const server_id = cell.output_area._bokeh_server_id;\n",
              "    // Clean up Bokeh references\n",
              "    if (id != null && id in Bokeh.index) {\n",
              "      Bokeh.index[id].model.document.clear();\n",
              "      delete Bokeh.index[id];\n",
              "    }\n",
              "\n",
              "    if (server_id !== undefined) {\n",
              "      // Clean up Bokeh references\n",
              "      const cmd_clean = \"from bokeh.io.state import curstate; print(curstate().uuid_to_server['\" + server_id + \"'].get_sessions()[0].document.roots[0]._id)\";\n",
              "      cell.notebook.kernel.execute(cmd_clean, {\n",
              "        iopub: {\n",
              "          output: function(msg) {\n",
              "            const id = msg.content.text.trim();\n",
              "            if (id in Bokeh.index) {\n",
              "              Bokeh.index[id].model.document.clear();\n",
              "              delete Bokeh.index[id];\n",
              "            }\n",
              "          }\n",
              "        }\n",
              "      });\n",
              "      // Destroy server and session\n",
              "      const cmd_destroy = \"import bokeh.io.notebook as ion; ion.destroy_server('\" + server_id + \"')\";\n",
              "      cell.notebook.kernel.execute(cmd_destroy);\n",
              "    }\n",
              "  }\n",
              "\n",
              "  /**\n",
              "   * Handle when a new output is added\n",
              "   */\n",
              "  function handleAddOutput(event, handle) {\n",
              "    const output_area = handle.output_area;\n",
              "    const output = handle.output;\n",
              "\n",
              "    // limit handleAddOutput to display_data with EXEC_MIME_TYPE content only\n",
              "    if ((output.output_type != \"display_data\") || (!Object.prototype.hasOwnProperty.call(output.data, EXEC_MIME_TYPE))) {\n",
              "      return\n",
              "    }\n",
              "\n",
              "    const toinsert = output_area.element.find(\".\" + CLASS_NAME.split(' ')[0]);\n",
              "\n",
              "    if (output.metadata[EXEC_MIME_TYPE][\"id\"] !== undefined) {\n",
              "      toinsert[toinsert.length - 1].firstChild.textContent = output.data[JS_MIME_TYPE];\n",
              "      // store reference to embed id on output_area\n",
              "      output_area._bokeh_element_id = output.metadata[EXEC_MIME_TYPE][\"id\"];\n",
              "    }\n",
              "    if (output.metadata[EXEC_MIME_TYPE][\"server_id\"] !== undefined) {\n",
              "      const bk_div = document.createElement(\"div\");\n",
              "      bk_div.innerHTML = output.data[HTML_MIME_TYPE];\n",
              "      const script_attrs = bk_div.children[0].attributes;\n",
              "      for (let i = 0; i < script_attrs.length; i++) {\n",
              "        toinsert[toinsert.length - 1].firstChild.setAttribute(script_attrs[i].name, script_attrs[i].value);\n",
              "        toinsert[toinsert.length - 1].firstChild.textContent = bk_div.children[0].textContent\n",
              "      }\n",
              "      // store reference to server id on output_area\n",
              "      output_area._bokeh_server_id = output.metadata[EXEC_MIME_TYPE][\"server_id\"];\n",
              "    }\n",
              "  }\n",
              "\n",
              "  function register_renderer(events, OutputArea) {\n",
              "\n",
              "    function append_mime(data, metadata, element) {\n",
              "      // create a DOM node to render to\n",
              "      const toinsert = this.create_output_subarea(\n",
              "        metadata,\n",
              "        CLASS_NAME,\n",
              "        EXEC_MIME_TYPE\n",
              "      );\n",
              "      this.keyboard_manager.register_events(toinsert);\n",
              "      // Render to node\n",
              "      const props = {data: data, metadata: metadata[EXEC_MIME_TYPE]};\n",
              "      render(props, toinsert[toinsert.length - 1]);\n",
              "      element.append(toinsert);\n",
              "      return toinsert\n",
              "    }\n",
              "\n",
              "    /* Handle when an output is cleared or removed */\n",
              "    events.on('clear_output.CodeCell', handleClearOutput);\n",
              "    events.on('delete.Cell', handleClearOutput);\n",
              "\n",
              "    /* Handle when a new output is added */\n",
              "    events.on('output_added.OutputArea', handleAddOutput);\n",
              "\n",
              "    /**\n",
              "     * Register the mime type and append_mime function with output_area\n",
              "     */\n",
              "    OutputArea.prototype.register_mime_type(EXEC_MIME_TYPE, append_mime, {\n",
              "      /* Is output safe? */\n",
              "      safe: true,\n",
              "      /* Index of renderer in `output_area.display_order` */\n",
              "      index: 0\n",
              "    });\n",
              "  }\n",
              "\n",
              "  // register the mime type if in Jupyter Notebook environment and previously unregistered\n",
              "  if (root.Jupyter !== undefined) {\n",
              "    const events = require('base/js/events');\n",
              "    const OutputArea = require('notebook/js/outputarea').OutputArea;\n",
              "\n",
              "    if (OutputArea.prototype.mime_types().indexOf(EXEC_MIME_TYPE) == -1) {\n",
              "      register_renderer(events, OutputArea);\n",
              "    }\n",
              "  }\n",
              "  if (typeof (root._bokeh_timeout) === \"undefined\" || force === true) {\n",
              "    root._bokeh_timeout = Date.now() + 5000;\n",
              "    root._bokeh_failed_load = false;\n",
              "  }\n",
              "\n",
              "  const NB_LOAD_WARNING = {'data': {'text/html':\n",
              "     \"<div style='background-color: #fdd'>\\n\"+\n",
              "     \"<p>\\n\"+\n",
              "     \"BokehJS does not appear to have successfully loaded. If loading BokehJS from CDN, this \\n\"+\n",
              "     \"may be due to a slow or bad network connection. Possible fixes:\\n\"+\n",
              "     \"</p>\\n\"+\n",
              "     \"<ul>\\n\"+\n",
              "     \"<li>re-rerun `output_notebook()` to attempt to load from CDN again, or</li>\\n\"+\n",
              "     \"<li>use INLINE resources instead, as so:</li>\\n\"+\n",
              "     \"</ul>\\n\"+\n",
              "     \"<code>\\n\"+\n",
              "     \"from bokeh.resources import INLINE\\n\"+\n",
              "     \"output_notebook(resources=INLINE)\\n\"+\n",
              "     \"</code>\\n\"+\n",
              "     \"</div>\"}};\n",
              "\n",
              "  function display_loaded() {\n",
              "    const el = document.getElementById(null);\n",
              "    if (el != null) {\n",
              "      el.textContent = \"BokehJS is loading...\";\n",
              "    }\n",
              "    if (root.Bokeh !== undefined) {\n",
              "      if (el != null) {\n",
              "        el.textContent = \"BokehJS \" + root.Bokeh.version + \" successfully loaded.\";\n",
              "      }\n",
              "    } else if (Date.now() < root._bokeh_timeout) {\n",
              "      setTimeout(display_loaded, 100)\n",
              "    }\n",
              "  }\n",
              "\n",
              "  function run_callbacks() {\n",
              "    try {\n",
              "      root._bokeh_onload_callbacks.forEach(function(callback) {\n",
              "        if (callback != null)\n",
              "          callback();\n",
              "      });\n",
              "    } finally {\n",
              "      delete root._bokeh_onload_callbacks\n",
              "    }\n",
              "    console.debug(\"Bokeh: all callbacks have finished\");\n",
              "  }\n",
              "\n",
              "  function load_libs(css_urls, js_urls, callback) {\n",
              "    if (css_urls == null) css_urls = [];\n",
              "    if (js_urls == null) js_urls = [];\n",
              "\n",
              "    root._bokeh_onload_callbacks.push(callback);\n",
              "    if (root._bokeh_is_loading > 0) {\n",
              "      console.debug(\"Bokeh: BokehJS is being loaded, scheduling callback at\", now());\n",
              "      return null;\n",
              "    }\n",
              "    if (js_urls == null || js_urls.length === 0) {\n",
              "      run_callbacks();\n",
              "      return null;\n",
              "    }\n",
              "    console.debug(\"Bokeh: BokehJS not loaded, scheduling load and callback at\", now());\n",
              "    root._bokeh_is_loading = css_urls.length + js_urls.length;\n",
              "\n",
              "    function on_load() {\n",
              "      root._bokeh_is_loading--;\n",
              "      if (root._bokeh_is_loading === 0) {\n",
              "        console.debug(\"Bokeh: all BokehJS libraries/stylesheets loaded\");\n",
              "        run_callbacks()\n",
              "      }\n",
              "    }\n",
              "\n",
              "    function on_error(url) {\n",
              "      console.error(\"failed to load \" + url);\n",
              "    }\n",
              "\n",
              "    for (let i = 0; i < css_urls.length; i++) {\n",
              "      const url = css_urls[i];\n",
              "      const element = document.createElement(\"link\");\n",
              "      element.onload = on_load;\n",
              "      element.onerror = on_error.bind(null, url);\n",
              "      element.rel = \"stylesheet\";\n",
              "      element.type = \"text/css\";\n",
              "      element.href = url;\n",
              "      console.debug(\"Bokeh: injecting link tag for BokehJS stylesheet: \", url);\n",
              "      document.body.appendChild(element);\n",
              "    }\n",
              "\n",
              "    for (let i = 0; i < js_urls.length; i++) {\n",
              "      const url = js_urls[i];\n",
              "      const element = document.createElement('script');\n",
              "      element.onload = on_load;\n",
              "      element.onerror = on_error.bind(null, url);\n",
              "      element.async = false;\n",
              "      element.src = url;\n",
              "      console.debug(\"Bokeh: injecting script tag for BokehJS library: \", url);\n",
              "      document.head.appendChild(element);\n",
              "    }\n",
              "  };\n",
              "\n",
              "  function inject_raw_css(css) {\n",
              "    const element = document.createElement(\"style\");\n",
              "    element.appendChild(document.createTextNode(css));\n",
              "    document.body.appendChild(element);\n",
              "  }\n",
              "\n",
              "  const js_urls = [\"https://cdn.bokeh.org/bokeh/release/bokeh-2.4.3.min.js\", \"https://cdn.bokeh.org/bokeh/release/bokeh-gl-2.4.3.min.js\", \"https://cdn.bokeh.org/bokeh/release/bokeh-widgets-2.4.3.min.js\", \"https://cdn.bokeh.org/bokeh/release/bokeh-tables-2.4.3.min.js\", \"https://cdn.bokeh.org/bokeh/release/bokeh-mathjax-2.4.3.min.js\"];\n",
              "  const css_urls = [];\n",
              "\n",
              "  const inline_js = [    function(Bokeh) {\n",
              "      Bokeh.set_log_level(\"info\");\n",
              "    },\n",
              "function(Bokeh) {\n",
              "    }\n",
              "  ];\n",
              "\n",
              "  function run_inline_js() {\n",
              "    if (root.Bokeh !== undefined || force === true) {\n",
              "          for (let i = 0; i < inline_js.length; i++) {\n",
              "      inline_js[i].call(root, root.Bokeh);\n",
              "    }\n",
              "} else if (Date.now() < root._bokeh_timeout) {\n",
              "      setTimeout(run_inline_js, 100);\n",
              "    } else if (!root._bokeh_failed_load) {\n",
              "      console.log(\"Bokeh: BokehJS failed to load within specified timeout.\");\n",
              "      root._bokeh_failed_load = true;\n",
              "    } else if (force !== true) {\n",
              "      const cell = $(document.getElementById(null)).parents('.cell').data().cell;\n",
              "      cell.output_area.append_execute_result(NB_LOAD_WARNING)\n",
              "    }\n",
              "  }\n",
              "\n",
              "  if (root._bokeh_is_loading === 0) {\n",
              "    console.debug(\"Bokeh: BokehJS loaded, going straight to plotting\");\n",
              "    run_inline_js();\n",
              "  } else {\n",
              "    load_libs(css_urls, js_urls, function() {\n",
              "      console.debug(\"Bokeh: BokehJS plotting callback run at\", now());\n",
              "      run_inline_js();\n",
              "    });\n",
              "  }\n",
              "}(window));"
            ],
            "application/vnd.bokehjs_load.v0+json": "(function(root) {\n  function now() {\n    return new Date();\n  }\n\n  const force = true;\n\n  if (typeof root._bokeh_onload_callbacks === \"undefined\" || force === true) {\n    root._bokeh_onload_callbacks = [];\n    root._bokeh_is_loading = undefined;\n  }\n\n\n  if (typeof (root._bokeh_timeout) === \"undefined\" || force === true) {\n    root._bokeh_timeout = Date.now() + 5000;\n    root._bokeh_failed_load = false;\n  }\n\n  const NB_LOAD_WARNING = {'data': {'text/html':\n     \"<div style='background-color: #fdd'>\\n\"+\n     \"<p>\\n\"+\n     \"BokehJS does not appear to have successfully loaded. If loading BokehJS from CDN, this \\n\"+\n     \"may be due to a slow or bad network connection. Possible fixes:\\n\"+\n     \"</p>\\n\"+\n     \"<ul>\\n\"+\n     \"<li>re-rerun `output_notebook()` to attempt to load from CDN again, or</li>\\n\"+\n     \"<li>use INLINE resources instead, as so:</li>\\n\"+\n     \"</ul>\\n\"+\n     \"<code>\\n\"+\n     \"from bokeh.resources import INLINE\\n\"+\n     \"output_notebook(resources=INLINE)\\n\"+\n     \"</code>\\n\"+\n     \"</div>\"}};\n\n  function display_loaded() {\n    const el = document.getElementById(null);\n    if (el != null) {\n      el.textContent = \"BokehJS is loading...\";\n    }\n    if (root.Bokeh !== undefined) {\n      if (el != null) {\n        el.textContent = \"BokehJS \" + root.Bokeh.version + \" successfully loaded.\";\n      }\n    } else if (Date.now() < root._bokeh_timeout) {\n      setTimeout(display_loaded, 100)\n    }\n  }\n\n  function run_callbacks() {\n    try {\n      root._bokeh_onload_callbacks.forEach(function(callback) {\n        if (callback != null)\n          callback();\n      });\n    } finally {\n      delete root._bokeh_onload_callbacks\n    }\n    console.debug(\"Bokeh: all callbacks have finished\");\n  }\n\n  function load_libs(css_urls, js_urls, callback) {\n    if (css_urls == null) css_urls = [];\n    if (js_urls == null) js_urls = [];\n\n    root._bokeh_onload_callbacks.push(callback);\n    if (root._bokeh_is_loading > 0) {\n      console.debug(\"Bokeh: BokehJS is being loaded, scheduling callback at\", now());\n      return null;\n    }\n    if (js_urls == null || js_urls.length === 0) {\n      run_callbacks();\n      return null;\n    }\n    console.debug(\"Bokeh: BokehJS not loaded, scheduling load and callback at\", now());\n    root._bokeh_is_loading = css_urls.length + js_urls.length;\n\n    function on_load() {\n      root._bokeh_is_loading--;\n      if (root._bokeh_is_loading === 0) {\n        console.debug(\"Bokeh: all BokehJS libraries/stylesheets loaded\");\n        run_callbacks()\n      }\n    }\n\n    function on_error(url) {\n      console.error(\"failed to load \" + url);\n    }\n\n    for (let i = 0; i < css_urls.length; i++) {\n      const url = css_urls[i];\n      const element = document.createElement(\"link\");\n      element.onload = on_load;\n      element.onerror = on_error.bind(null, url);\n      element.rel = \"stylesheet\";\n      element.type = \"text/css\";\n      element.href = url;\n      console.debug(\"Bokeh: injecting link tag for BokehJS stylesheet: \", url);\n      document.body.appendChild(element);\n    }\n\n    for (let i = 0; i < js_urls.length; i++) {\n      const url = js_urls[i];\n      const element = document.createElement('script');\n      element.onload = on_load;\n      element.onerror = on_error.bind(null, url);\n      element.async = false;\n      element.src = url;\n      console.debug(\"Bokeh: injecting script tag for BokehJS library: \", url);\n      document.head.appendChild(element);\n    }\n  };\n\n  function inject_raw_css(css) {\n    const element = document.createElement(\"style\");\n    element.appendChild(document.createTextNode(css));\n    document.body.appendChild(element);\n  }\n\n  const js_urls = [\"https://cdn.bokeh.org/bokeh/release/bokeh-2.4.3.min.js\", \"https://cdn.bokeh.org/bokeh/release/bokeh-gl-2.4.3.min.js\", \"https://cdn.bokeh.org/bokeh/release/bokeh-widgets-2.4.3.min.js\", \"https://cdn.bokeh.org/bokeh/release/bokeh-tables-2.4.3.min.js\", \"https://cdn.bokeh.org/bokeh/release/bokeh-mathjax-2.4.3.min.js\"];\n  const css_urls = [];\n\n  const inline_js = [    function(Bokeh) {\n      Bokeh.set_log_level(\"info\");\n    },\nfunction(Bokeh) {\n    }\n  ];\n\n  function run_inline_js() {\n    if (root.Bokeh !== undefined || force === true) {\n          for (let i = 0; i < inline_js.length; i++) {\n      inline_js[i].call(root, root.Bokeh);\n    }\n} else if (Date.now() < root._bokeh_timeout) {\n      setTimeout(run_inline_js, 100);\n    } else if (!root._bokeh_failed_load) {\n      console.log(\"Bokeh: BokehJS failed to load within specified timeout.\");\n      root._bokeh_failed_load = true;\n    } else if (force !== true) {\n      const cell = $(document.getElementById(null)).parents('.cell').data().cell;\n      cell.output_area.append_execute_result(NB_LOAD_WARNING)\n    }\n  }\n\n  if (root._bokeh_is_loading === 0) {\n    console.debug(\"Bokeh: BokehJS loaded, going straight to plotting\");\n    run_inline_js();\n  } else {\n    load_libs(css_urls, js_urls, function() {\n      console.debug(\"Bokeh: BokehJS plotting callback run at\", now());\n      run_inline_js();\n    });\n  }\n}(window));"
          },
          "metadata": {}
        },
        {
          "output_type": "display_data",
          "data": {
            "text/html": [
              "\n",
              "  <div class=\"bk-root\" id=\"eb73e69b-64df-4d8a-84d6-4a3a15cbea7d\" data-root-id=\"1834\"></div>\n"
            ]
          },
          "metadata": {}
        },
        {
          "output_type": "display_data",
          "data": {
            "application/javascript": [
              "(function(root) {\n",
              "  function embed_document(root) {\n",
              "  const docs_json = {\"e3ea6bf1-b55c-4fbf-9ce3-af5e26ea2f55\":{\"defs\":[],\"roots\":{\"references\":[{\"attributes\":{\"children\":[[{\"id\":\"1631\"},0,0],[{\"id\":\"1673\"},1,0],[{\"id\":\"1715\"},2,0],[{\"id\":\"1757\"},3,0]]},\"id\":\"1834\",\"type\":\"GridBox\"},{\"attributes\":{\"axis\":{\"id\":\"1683\"},\"coordinates\":null,\"grid_line_color\":null,\"group\":null,\"ticker\":null},\"id\":\"1685\",\"type\":\"Grid\"},{\"attributes\":{\"axis\":{\"id\":\"1767\"},\"coordinates\":null,\"grid_line_color\":null,\"group\":null,\"ticker\":null},\"id\":\"1769\",\"type\":\"Grid\"},{\"attributes\":{},\"id\":\"1768\",\"type\":\"CategoricalTicker\"},{\"attributes\":{\"axis_label\":\"millions USD\",\"coordinates\":null,\"formatter\":{\"id\":\"1691\"},\"group\":null,\"major_label_policy\":{\"id\":\"1702\"},\"ticker\":{\"id\":\"1687\"}},\"id\":\"1686\",\"type\":\"LinearAxis\"},{\"attributes\":{\"axis_label\":\"millions USD\",\"coordinates\":null,\"formatter\":{\"id\":\"1775\"},\"group\":null,\"major_label_policy\":{\"id\":\"1786\"},\"ticker\":{\"id\":\"1771\"}},\"id\":\"1770\",\"type\":\"LinearAxis\"},{\"attributes\":{},\"id\":\"1684\",\"type\":\"CategoricalTicker\"},{\"attributes\":{},\"id\":\"1151\",\"type\":\"UnionRenderers\"},{\"attributes\":{\"coordinates\":null,\"formatter\":{\"id\":\"1788\"},\"group\":null,\"major_label_policy\":{\"id\":\"1789\"},\"major_label_text_font_size\":\"0pt\",\"major_tick_line_color\":null,\"ticker\":{\"id\":\"1768\"}},\"id\":\"1767\",\"type\":\"CategoricalAxis\"},{\"attributes\":{},\"id\":\"1660\",\"type\":\"AllLabels\"},{\"attributes\":{\"axis\":{\"id\":\"1686\"},\"coordinates\":null,\"dimension\":1,\"group\":null,\"ticker\":null},\"id\":\"1689\",\"type\":\"Grid\"},{\"attributes\":{\"data\":{\"label\":[\"Net Income\",\"Revenue\",\"Cost of Revenue\",\"Net Income\",\"Revenue\",\"Cost of Revenue\",\"Net Income\",\"Revenue\",\"Cost of Revenue\",\"Net Income\",\"Revenue\",\"Cost of Revenue\",\"Net Income\",\"Revenue\",\"Cost of Revenue\",\"Net Income\",\"Revenue\",\"Cost of Revenue\",\"Net Income\",\"Revenue\",\"Cost of Revenue\",\"Net Income\",\"Revenue\",\"Cost of Revenue\",\"Net Income\",\"Revenue\",\"Cost of Revenue\",\"Net Income\",\"Revenue\",\"Cost of Revenue\",\"Net Income\",\"Revenue\",\"Cost of Revenue\",\"Net Income\",\"Revenue\",\"Cost of Revenue\",\"Net Income\",\"Revenue\",\"Cost of Revenue\",\"Net Income\",\"Revenue\",\"Cost of Revenue\",\"Net Income\",\"Revenue\",\"Cost of Revenue\",\"Net Income\",\"Revenue\",\"Cost of Revenue\"],\"x\":[[\"2019\",\"Q1\",\"Net Income\"],[\"2019\",\"Q1\",\"Revenue\"],[\"2019\",\"Q1\",\"Cost of Revenue\"],[\"2019\",\"Q2\",\"Net Income\"],[\"2019\",\"Q2\",\"Revenue\"],[\"2019\",\"Q2\",\"Cost of Revenue\"],[\"2019\",\"Q3\",\"Net Income\"],[\"2019\",\"Q3\",\"Revenue\"],[\"2019\",\"Q3\",\"Cost of Revenue\"],[\"2019\",\"Q4\",\"Net Income\"],[\"2019\",\"Q4\",\"Revenue\"],[\"2019\",\"Q4\",\"Cost of Revenue\"],[\"2020\",\"Q1\",\"Net Income\"],[\"2020\",\"Q1\",\"Revenue\"],[\"2020\",\"Q1\",\"Cost of Revenue\"],[\"2020\",\"Q2\",\"Net Income\"],[\"2020\",\"Q2\",\"Revenue\"],[\"2020\",\"Q2\",\"Cost of Revenue\"],[\"2020\",\"Q3\",\"Net Income\"],[\"2020\",\"Q3\",\"Revenue\"],[\"2020\",\"Q3\",\"Cost of Revenue\"],[\"2020\",\"Q4\",\"Net Income\"],[\"2020\",\"Q4\",\"Revenue\"],[\"2020\",\"Q4\",\"Cost of Revenue\"],[\"2021\",\"Q1\",\"Net Income\"],[\"2021\",\"Q1\",\"Revenue\"],[\"2021\",\"Q1\",\"Cost of Revenue\"],[\"2021\",\"Q2\",\"Net Income\"],[\"2021\",\"Q2\",\"Revenue\"],[\"2021\",\"Q2\",\"Cost of Revenue\"],[\"2021\",\"Q3\",\"Net Income\"],[\"2021\",\"Q3\",\"Revenue\"],[\"2021\",\"Q3\",\"Cost of Revenue\"],[\"2021\",\"Q4\",\"Net Income\"],[\"2021\",\"Q4\",\"Revenue\"],[\"2021\",\"Q4\",\"Cost of Revenue\"],[\"2022\",\"Q1\",\"Net Income\"],[\"2022\",\"Q1\",\"Revenue\"],[\"2022\",\"Q1\",\"Cost of Revenue\"],[\"2022\",\"Q2\",\"Net Income\"],[\"2022\",\"Q2\",\"Revenue\"],[\"2022\",\"Q2\",\"Cost of Revenue\"],[\"2022\",\"Q3\",\"Net Income\"],[\"2022\",\"Q3\",\"Revenue\"],[\"2022\",\"Q3\",\"Cost of Revenue\"],[\"2022\",\"Q4\",\"Net Income\"],[\"2022\",\"Q4\",\"Revenue\"],[\"2022\",\"Q4\",\"Cost of Revenue\"]],\"y\":[2429,15077,2816,2616,16886,3307,6091,17652,3155,7349,21082,3491,4902,17737,3459,5178,18687,3829,7846,21470,4194,11219,28072,5210,9497,26171,5131,10394,29077,5399,9194,29010,5771,10285,33671,6348,7465,27908,6005,6687,28822,5192,4395,27714,5716,4653,32165,8336]},\"selected\":{\"id\":\"1110\"},\"selection_policy\":{\"id\":\"1109\"}},\"id\":\"1028\",\"type\":\"ColumnDataSource\"},{\"attributes\":{},\"id\":\"1152\",\"type\":\"Selection\"},{\"attributes\":{},\"id\":\"1687\",\"type\":\"BasicTicker\"},{\"attributes\":{\"tools\":[{\"id\":\"1712\"}]},\"id\":\"1690\",\"type\":\"Toolbar\"},{\"attributes\":{\"axis\":{\"id\":\"1770\"},\"coordinates\":null,\"dimension\":1,\"group\":null,\"ticker\":null},\"id\":\"1773\",\"type\":\"Grid\"},{\"attributes\":{},\"id\":\"1771\",\"type\":\"BasicTicker\"},{\"attributes\":{\"end\":3,\"factors\":[\"Net Income\",\"Revenue\",\"Cost of Revenue\"],\"palette\":[\"#3182bd\",\"#9ecae1\",\"#deebf7\"],\"start\":2},\"id\":\"1693\",\"type\":\"CategoricalColorMapper\"},{\"attributes\":{\"tools\":[{\"id\":\"1796\"}]},\"id\":\"1774\",\"type\":\"Toolbar\"},{\"attributes\":{},\"id\":\"1662\",\"type\":\"CategoricalTickFormatter\"},{\"attributes\":{\"fill_color\":{\"field\":\"x\",\"transform\":{\"id\":\"1693\"}},\"line_color\":{\"value\":\"white\"},\"top\":{\"field\":\"y\"},\"width\":{\"value\":0.8},\"x\":{\"field\":\"x\"}},\"id\":\"1695\",\"type\":\"VBar\"},{\"attributes\":{\"fill_alpha\":{\"value\":0.1},\"fill_color\":{\"field\":\"x\",\"transform\":{\"id\":\"1693\"}},\"hatch_alpha\":{\"value\":0.1},\"line_alpha\":{\"value\":0.1},\"line_color\":{\"value\":\"white\"},\"top\":{\"field\":\"y\"},\"width\":{\"value\":0.8},\"x\":{\"field\":\"x\"}},\"id\":\"1696\",\"type\":\"VBar\"},{\"attributes\":{\"end\":3,\"factors\":[\"Net Income\",\"Revenue\",\"Cost of Revenue\"],\"palette\":[\"#3182bd\",\"#9ecae1\",\"#deebf7\"],\"start\":2},\"id\":\"1777\",\"type\":\"CategoricalColorMapper\"},{\"attributes\":{\"fill_color\":{\"field\":\"x\",\"transform\":{\"id\":\"1777\"}},\"line_color\":{\"value\":\"white\"},\"top\":{\"field\":\"y\"},\"width\":{\"value\":0.8},\"x\":{\"field\":\"x\"}},\"id\":\"1779\",\"type\":\"VBar\"},{\"attributes\":{},\"id\":\"1663\",\"type\":\"AllLabels\"},{\"attributes\":{\"fill_alpha\":{\"value\":0.1},\"fill_color\":{\"field\":\"x\",\"transform\":{\"id\":\"1777\"}},\"hatch_alpha\":{\"value\":0.1},\"line_alpha\":{\"value\":0.1},\"line_color\":{\"value\":\"white\"},\"top\":{\"field\":\"y\"},\"width\":{\"value\":0.8},\"x\":{\"field\":\"x\"}},\"id\":\"1780\",\"type\":\"VBar\"},{\"attributes\":{\"coordinates\":null,\"data_source\":{\"id\":\"1028\"},\"glyph\":{\"id\":\"1695\"},\"group\":null,\"hover_glyph\":null,\"muted_glyph\":{\"id\":\"1697\"},\"nonselection_glyph\":{\"id\":\"1696\"},\"view\":{\"id\":\"1699\"}},\"id\":\"1698\",\"type\":\"GlyphRenderer\"},{\"attributes\":{\"coordinates\":null,\"glyph_height\":7,\"group\":null,\"items\":[{\"id\":\"1793\"},{\"id\":\"1794\"},{\"id\":\"1795\"}],\"label_height\":10,\"label_text_font_size\":\"11pt\",\"orientation\":\"horizontal\"},\"id\":\"1792\",\"type\":\"Legend\"},{\"attributes\":{\"coordinates\":null,\"data_source\":{\"id\":\"1031\"},\"glyph\":{\"id\":\"1779\"},\"group\":null,\"hover_glyph\":null,\"muted_glyph\":{\"id\":\"1781\"},\"nonselection_glyph\":{\"id\":\"1780\"},\"view\":{\"id\":\"1783\"}},\"id\":\"1782\",\"type\":\"GlyphRenderer\"},{\"attributes\":{},\"id\":\"1068\",\"type\":\"Selection\"},{\"attributes\":{\"below\":[{\"id\":\"1641\"}],\"center\":[{\"id\":\"1643\"},{\"id\":\"1647\"},{\"id\":\"1666\"},{\"id\":\"1626\"}],\"height\":700,\"left\":[{\"id\":\"1644\"}],\"output_backend\":\"svg\",\"renderers\":[{\"id\":\"1656\"}],\"title\":{\"id\":\"1632\"},\"toolbar\":{\"id\":\"1648\"},\"toolbar_location\":null,\"width\":1000,\"x_range\":{\"id\":\"1630\"},\"x_scale\":{\"id\":\"1637\"},\"y_range\":{\"id\":\"1635\"},\"y_scale\":{\"id\":\"1639\"}},\"id\":\"1631\",\"subtype\":\"Figure\",\"type\":\"Plot\"},{\"attributes\":{},\"id\":\"1635\",\"type\":\"DataRange1d\"},{\"attributes\":{\"background_fill_alpha\":0.8,\"background_fill_color\":\"white\",\"coordinates\":null,\"group\":null,\"text\":\"Jan 2023\\nlayoffs\\n12,000\",\"text_align\":\"center\",\"text_color\":\"black\",\"text_font_size\":\"10pt\",\"text_font_style\":\"bold\",\"x\":500,\"x_units\":\"screen\",\"y\":100,\"y_units\":\"screen\"},\"id\":\"1628\",\"type\":\"Label\"},{\"attributes\":{\"factors\":[[\"2019\",\"Q1\",\"Net Income\"],[\"2019\",\"Q1\",\"Revenue\"],[\"2019\",\"Q1\",\"Cost of Revenue\"],[\"2019\",\"Q2\",\"Net Income\"],[\"2019\",\"Q2\",\"Revenue\"],[\"2019\",\"Q2\",\"Cost of Revenue\"],[\"2019\",\"Q3\",\"Net Income\"],[\"2019\",\"Q3\",\"Revenue\"],[\"2019\",\"Q3\",\"Cost of Revenue\"],[\"2019\",\"Q4\",\"Net Income\"],[\"2019\",\"Q4\",\"Revenue\"],[\"2019\",\"Q4\",\"Cost of Revenue\"],[\"2020\",\"Q1\",\"Net Income\"],[\"2020\",\"Q1\",\"Revenue\"],[\"2020\",\"Q1\",\"Cost of Revenue\"],[\"2020\",\"Q2\",\"Net Income\"],[\"2020\",\"Q2\",\"Revenue\"],[\"2020\",\"Q2\",\"Cost of Revenue\"],[\"2020\",\"Q3\",\"Net Income\"],[\"2020\",\"Q3\",\"Revenue\"],[\"2020\",\"Q3\",\"Cost of Revenue\"],[\"2020\",\"Q4\",\"Net Income\"],[\"2020\",\"Q4\",\"Revenue\"],[\"2020\",\"Q4\",\"Cost of Revenue\"],[\"2021\",\"Q1\",\"Net Income\"],[\"2021\",\"Q1\",\"Revenue\"],[\"2021\",\"Q1\",\"Cost of Revenue\"],[\"2021\",\"Q2\",\"Net Income\"],[\"2021\",\"Q2\",\"Revenue\"],[\"2021\",\"Q2\",\"Cost of Revenue\"],[\"2021\",\"Q3\",\"Net Income\"],[\"2021\",\"Q3\",\"Revenue\"],[\"2021\",\"Q3\",\"Cost of Revenue\"],[\"2021\",\"Q4\",\"Net Income\"],[\"2021\",\"Q4\",\"Revenue\"],[\"2021\",\"Q4\",\"Cost of Revenue\"],[\"2022\",\"Q1\",\"Net Income\"],[\"2022\",\"Q1\",\"Revenue\"],[\"2022\",\"Q1\",\"Cost of Revenue\"],[\"2022\",\"Q2\",\"Net Income\"],[\"2022\",\"Q2\",\"Revenue\"],[\"2022\",\"Q2\",\"Cost of Revenue\"],[\"2022\",\"Q3\",\"Net Income\"],[\"2022\",\"Q3\",\"Revenue\"],[\"2022\",\"Q3\",\"Cost of Revenue\"],[\"2022\",\"Q4\",\"Net Income\"],[\"2022\",\"Q4\",\"Revenue\"],[\"2022\",\"Q4\",\"Cost of Revenue\"]],\"range_padding\":0.1},\"id\":\"1630\",\"type\":\"FactorRange\"},{\"attributes\":{\"index\":2,\"label\":{\"value\":\"Cost of Revenue\"},\"renderers\":[{\"id\":\"1782\"}]},\"id\":\"1793\",\"type\":\"LegendItem\"},{\"attributes\":{\"format\":\"($ 0,0 a)\"},\"id\":\"1649\",\"type\":\"NumeralTickFormatter\"},{\"attributes\":{\"background_fill_alpha\":0.8,\"background_fill_color\":\"white\",\"coordinates\":null,\"group\":null,\"text\":\"Jan 2023\\nlayoffs\\n18,000\",\"text_align\":\"center\",\"text_color\":\"black\",\"text_font_size\":\"10pt\",\"text_font_style\":\"bold\",\"x\":500,\"x_units\":\"screen\",\"y\":100,\"y_units\":\"screen\"},\"id\":\"1626\",\"type\":\"Label\"},{\"attributes\":{\"background_fill_alpha\":0.8,\"background_fill_color\":\"white\",\"coordinates\":null,\"group\":null,\"text\":\"Nov 2022\\nlayoffs\\n11,000\",\"text_align\":\"center\",\"text_color\":\"black\",\"text_font_size\":\"10pt\",\"text_font_style\":\"bold\",\"x\":500,\"x_units\":\"screen\",\"y\":100,\"y_units\":\"screen\"},\"id\":\"1627\",\"type\":\"Label\"},{\"attributes\":{\"background_fill_alpha\":0.8,\"background_fill_color\":\"white\",\"coordinates\":null,\"group\":null,\"text\":\"Jan 2023\\nlayoffs\\n10,000\",\"text_align\":\"center\",\"text_color\":\"black\",\"text_font_size\":\"10pt\",\"text_font_style\":\"bold\",\"x\":500,\"x_units\":\"screen\",\"y\":100,\"y_units\":\"screen\"},\"id\":\"1629\",\"type\":\"Label\"},{\"attributes\":{},\"id\":\"1639\",\"type\":\"LinearScale\"},{\"attributes\":{\"index\":0,\"label\":{\"value\":\"Net Income\"},\"renderers\":[{\"id\":\"1782\"}]},\"id\":\"1794\",\"type\":\"LegendItem\"},{\"attributes\":{\"coordinates\":null,\"formatter\":{\"id\":\"1662\"},\"group\":null,\"major_label_policy\":{\"id\":\"1663\"},\"major_label_text_font_size\":\"0pt\",\"major_tick_line_color\":null,\"ticker\":{\"id\":\"1642\"}},\"id\":\"1641\",\"type\":\"CategoricalAxis\"},{\"attributes\":{\"coordinates\":null,\"group\":null,\"text\":\"AMZN\"},\"id\":\"1632\",\"type\":\"Title\"},{\"attributes\":{},\"id\":\"1637\",\"type\":\"CategoricalScale\"},{\"attributes\":{\"index\":1,\"label\":{\"value\":\"Revenue\"},\"renderers\":[{\"id\":\"1782\"}]},\"id\":\"1795\",\"type\":\"LegendItem\"},{\"attributes\":{},\"id\":\"1642\",\"type\":\"CategoricalTicker\"},{\"attributes\":{\"axis\":{\"id\":\"1641\"},\"coordinates\":null,\"grid_line_color\":null,\"group\":null,\"ticker\":null},\"id\":\"1643\",\"type\":\"Grid\"},{\"attributes\":{\"axis_label\":\"millions USD\",\"coordinates\":null,\"formatter\":{\"id\":\"1649\"},\"group\":null,\"major_label_policy\":{\"id\":\"1660\"},\"ticker\":{\"id\":\"1645\"}},\"id\":\"1644\",\"type\":\"LinearAxis\"},{\"attributes\":{\"source\":{\"id\":\"1028\"}},\"id\":\"1699\",\"type\":\"CDSView\"},{\"attributes\":{\"source\":{\"id\":\"1031\"}},\"id\":\"1783\",\"type\":\"CDSView\"},{\"attributes\":{\"data\":{\"label\":[\"Net Income\",\"Revenue\",\"Cost of Revenue\",\"Net Income\",\"Revenue\",\"Cost of Revenue\",\"Net Income\",\"Revenue\",\"Cost of Revenue\",\"Net Income\",\"Revenue\",\"Cost of Revenue\",\"Net Income\",\"Revenue\",\"Cost of Revenue\",\"Net Income\",\"Revenue\",\"Cost of Revenue\",\"Net Income\",\"Revenue\",\"Cost of Revenue\",\"Net Income\",\"Revenue\",\"Cost of Revenue\",\"Net Income\",\"Revenue\",\"Cost of Revenue\",\"Net Income\",\"Revenue\",\"Cost of Revenue\",\"Net Income\",\"Revenue\",\"Cost of Revenue\",\"Net Income\",\"Revenue\",\"Cost of Revenue\",\"Net Income\",\"Revenue\",\"Cost of Revenue\",\"Net Income\",\"Revenue\",\"Cost of Revenue\",\"Net Income\",\"Revenue\",\"Cost of Revenue\",\"Net Income\",\"Revenue\",\"Cost of Revenue\"],\"x\":[[\"2019\",\"Q1\",\"Net Income\"],[\"2019\",\"Q1\",\"Revenue\"],[\"2019\",\"Q1\",\"Cost of Revenue\"],[\"2019\",\"Q2\",\"Net Income\"],[\"2019\",\"Q2\",\"Revenue\"],[\"2019\",\"Q2\",\"Cost of Revenue\"],[\"2019\",\"Q3\",\"Net Income\"],[\"2019\",\"Q3\",\"Revenue\"],[\"2019\",\"Q3\",\"Cost of Revenue\"],[\"2019\",\"Q4\",\"Net Income\"],[\"2019\",\"Q4\",\"Revenue\"],[\"2019\",\"Q4\",\"Cost of Revenue\"],[\"2020\",\"Q1\",\"Net Income\"],[\"2020\",\"Q1\",\"Revenue\"],[\"2020\",\"Q1\",\"Cost of Revenue\"],[\"2020\",\"Q2\",\"Net Income\"],[\"2020\",\"Q2\",\"Revenue\"],[\"2020\",\"Q2\",\"Cost of Revenue\"],[\"2020\",\"Q3\",\"Net Income\"],[\"2020\",\"Q3\",\"Revenue\"],[\"2020\",\"Q3\",\"Cost of Revenue\"],[\"2020\",\"Q4\",\"Net Income\"],[\"2020\",\"Q4\",\"Revenue\"],[\"2020\",\"Q4\",\"Cost of Revenue\"],[\"2021\",\"Q1\",\"Net Income\"],[\"2021\",\"Q1\",\"Revenue\"],[\"2021\",\"Q1\",\"Cost of Revenue\"],[\"2021\",\"Q2\",\"Net Income\"],[\"2021\",\"Q2\",\"Revenue\"],[\"2021\",\"Q2\",\"Cost of Revenue\"],[\"2021\",\"Q3\",\"Net Income\"],[\"2021\",\"Q3\",\"Revenue\"],[\"2021\",\"Q3\",\"Cost of Revenue\"],[\"2021\",\"Q4\",\"Net Income\"],[\"2021\",\"Q4\",\"Revenue\"],[\"2021\",\"Q4\",\"Cost of Revenue\"],[\"2022\",\"Q1\",\"Net Income\"],[\"2022\",\"Q1\",\"Revenue\"],[\"2022\",\"Q1\",\"Cost of Revenue\"],[\"2022\",\"Q2\",\"Net Income\"],[\"2022\",\"Q2\",\"Revenue\"],[\"2022\",\"Q2\",\"Cost of Revenue\"],[\"2022\",\"Q3\",\"Net Income\"],[\"2022\",\"Q3\",\"Revenue\"],[\"2022\",\"Q3\",\"Cost of Revenue\"],[\"2022\",\"Q4\",\"Net Income\"],[\"2022\",\"Q4\",\"Revenue\"],[\"2022\",\"Q4\",\"Cost of Revenue\"]],\"y\":[6657,36339,16012,9947,38944,17296,7068,40499,17568,10671,46075,21020,6836,41159,18982,6959,38297,18553,11247,46173,21117,15227,56898,26080,17930,55314,24103,18525,61880,26227,18936,65118,27621,20642,75325,32988,16436,68011,29599,16002,69685,30104,13910,69092,31158,13624,76048,35342]},\"selected\":{\"id\":\"1152\"},\"selection_policy\":{\"id\":\"1151\"}},\"id\":\"1030\",\"type\":\"ColumnDataSource\"},{\"attributes\":{},\"id\":\"1067\",\"type\":\"UnionRenderers\"},{\"attributes\":{\"axis\":{\"id\":\"1644\"},\"coordinates\":null,\"dimension\":1,\"group\":null,\"ticker\":null},\"id\":\"1647\",\"type\":\"Grid\"},{\"attributes\":{\"callback\":null,\"tooltips\":[[\"(year, quarter, type = value)\",\"(@x = @y)\"]]},\"id\":\"1712\",\"type\":\"HoverTool\"},{\"attributes\":{},\"id\":\"1645\",\"type\":\"BasicTicker\"},{\"attributes\":{\"callback\":null,\"tooltips\":[[\"(year, quarter, type = value)\",\"(@x = @y)\"]]},\"id\":\"1796\",\"type\":\"HoverTool\"},{\"attributes\":{\"tools\":[{\"id\":\"1670\"}]},\"id\":\"1648\",\"type\":\"Toolbar\"},{\"attributes\":{\"fill_color\":{\"field\":\"x\",\"transform\":{\"id\":\"1651\"}},\"line_color\":{\"value\":\"white\"},\"top\":{\"field\":\"y\"},\"width\":{\"value\":0.8},\"x\":{\"field\":\"x\"}},\"id\":\"1653\",\"type\":\"VBar\"},{\"attributes\":{\"fill_alpha\":{\"value\":0.1},\"fill_color\":{\"field\":\"x\",\"transform\":{\"id\":\"1651\"}},\"hatch_alpha\":{\"value\":0.1},\"line_alpha\":{\"value\":0.1},\"line_color\":{\"value\":\"white\"},\"top\":{\"field\":\"y\"},\"width\":{\"value\":0.8},\"x\":{\"field\":\"x\"}},\"id\":\"1654\",\"type\":\"VBar\"},{\"attributes\":{},\"id\":\"1702\",\"type\":\"AllLabels\"},{\"attributes\":{\"end\":3,\"factors\":[\"Net Income\",\"Revenue\",\"Cost of Revenue\"],\"palette\":[\"#3182bd\",\"#9ecae1\",\"#deebf7\"],\"start\":2},\"id\":\"1651\",\"type\":\"CategoricalColorMapper\"},{\"attributes\":{\"coordinates\":null,\"data_source\":{\"id\":\"1032\"},\"glyph\":{\"id\":\"1653\"},\"group\":null,\"hover_glyph\":null,\"muted_glyph\":{\"id\":\"1655\"},\"nonselection_glyph\":{\"id\":\"1654\"},\"view\":{\"id\":\"1657\"}},\"id\":\"1656\",\"type\":\"GlyphRenderer\"},{\"attributes\":{\"coordinates\":null,\"glyph_height\":7,\"group\":null,\"items\":[{\"id\":\"1709\"},{\"id\":\"1710\"},{\"id\":\"1711\"}],\"label_height\":10,\"label_text_font_size\":\"11pt\",\"orientation\":\"horizontal\"},\"id\":\"1708\",\"type\":\"Legend\"},{\"attributes\":{\"factors\":[[\"2019\",\"Q1\",\"Net Income\"],[\"2019\",\"Q1\",\"Revenue\"],[\"2019\",\"Q1\",\"Cost of Revenue\"],[\"2019\",\"Q2\",\"Net Income\"],[\"2019\",\"Q2\",\"Revenue\"],[\"2019\",\"Q2\",\"Cost of Revenue\"],[\"2019\",\"Q3\",\"Net Income\"],[\"2019\",\"Q3\",\"Revenue\"],[\"2019\",\"Q3\",\"Cost of Revenue\"],[\"2019\",\"Q4\",\"Net Income\"],[\"2019\",\"Q4\",\"Revenue\"],[\"2019\",\"Q4\",\"Cost of Revenue\"],[\"2020\",\"Q1\",\"Net Income\"],[\"2020\",\"Q1\",\"Revenue\"],[\"2020\",\"Q1\",\"Cost of Revenue\"],[\"2020\",\"Q2\",\"Net Income\"],[\"2020\",\"Q2\",\"Revenue\"],[\"2020\",\"Q2\",\"Cost of Revenue\"],[\"2020\",\"Q3\",\"Net Income\"],[\"2020\",\"Q3\",\"Revenue\"],[\"2020\",\"Q3\",\"Cost of Revenue\"],[\"2020\",\"Q4\",\"Net Income\"],[\"2020\",\"Q4\",\"Revenue\"],[\"2020\",\"Q4\",\"Cost of Revenue\"],[\"2021\",\"Q1\",\"Net Income\"],[\"2021\",\"Q1\",\"Revenue\"],[\"2021\",\"Q1\",\"Cost of Revenue\"],[\"2021\",\"Q2\",\"Net Income\"],[\"2021\",\"Q2\",\"Revenue\"],[\"2021\",\"Q2\",\"Cost of Revenue\"],[\"2021\",\"Q3\",\"Net Income\"],[\"2021\",\"Q3\",\"Revenue\"],[\"2021\",\"Q3\",\"Cost of Revenue\"],[\"2021\",\"Q4\",\"Net Income\"],[\"2021\",\"Q4\",\"Revenue\"],[\"2021\",\"Q4\",\"Cost of Revenue\"],[\"2022\",\"Q1\",\"Net Income\"],[\"2022\",\"Q1\",\"Revenue\"],[\"2022\",\"Q1\",\"Cost of Revenue\"],[\"2022\",\"Q2\",\"Net Income\"],[\"2022\",\"Q2\",\"Revenue\"],[\"2022\",\"Q2\",\"Cost of Revenue\"],[\"2022\",\"Q3\",\"Net Income\"],[\"2022\",\"Q3\",\"Revenue\"],[\"2022\",\"Q3\",\"Cost of Revenue\"],[\"2022\",\"Q4\",\"Net Income\"],[\"2022\",\"Q4\",\"Revenue\"],[\"2022\",\"Q4\",\"Cost of Revenue\"]],\"range_padding\":0.1},\"id\":\"1714\",\"type\":\"FactorRange\"},{\"attributes\":{\"index\":2,\"label\":{\"value\":\"Cost of Revenue\"},\"renderers\":[{\"id\":\"1656\"}]},\"id\":\"1667\",\"type\":\"LegendItem\"},{\"attributes\":{\"factors\":[[\"2019\",\"Q1\",\"Net Income\"],[\"2019\",\"Q1\",\"Revenue\"],[\"2019\",\"Q1\",\"Cost of Revenue\"],[\"2019\",\"Q2\",\"Net Income\"],[\"2019\",\"Q2\",\"Revenue\"],[\"2019\",\"Q2\",\"Cost of Revenue\"],[\"2019\",\"Q3\",\"Net Income\"],[\"2019\",\"Q3\",\"Revenue\"],[\"2019\",\"Q3\",\"Cost of Revenue\"],[\"2019\",\"Q4\",\"Net Income\"],[\"2019\",\"Q4\",\"Revenue\"],[\"2019\",\"Q4\",\"Cost of Revenue\"],[\"2020\",\"Q1\",\"Net Income\"],[\"2020\",\"Q1\",\"Revenue\"],[\"2020\",\"Q1\",\"Cost of Revenue\"],[\"2020\",\"Q2\",\"Net Income\"],[\"2020\",\"Q2\",\"Revenue\"],[\"2020\",\"Q2\",\"Cost of Revenue\"],[\"2020\",\"Q3\",\"Net Income\"],[\"2020\",\"Q3\",\"Revenue\"],[\"2020\",\"Q3\",\"Cost of Revenue\"],[\"2020\",\"Q4\",\"Net Income\"],[\"2020\",\"Q4\",\"Revenue\"],[\"2020\",\"Q4\",\"Cost of Revenue\"],[\"2021\",\"Q1\",\"Net Income\"],[\"2021\",\"Q1\",\"Revenue\"],[\"2021\",\"Q1\",\"Cost of Revenue\"],[\"2021\",\"Q2\",\"Net Income\"],[\"2021\",\"Q2\",\"Revenue\"],[\"2021\",\"Q2\",\"Cost of Revenue\"],[\"2021\",\"Q3\",\"Net Income\"],[\"2021\",\"Q3\",\"Revenue\"],[\"2021\",\"Q3\",\"Cost of Revenue\"],[\"2021\",\"Q4\",\"Net Income\"],[\"2021\",\"Q4\",\"Revenue\"],[\"2021\",\"Q4\",\"Cost of Revenue\"],[\"2022\",\"Q1\",\"Net Income\"],[\"2022\",\"Q1\",\"Revenue\"],[\"2022\",\"Q1\",\"Cost of Revenue\"],[\"2022\",\"Q2\",\"Net Income\"],[\"2022\",\"Q2\",\"Revenue\"],[\"2022\",\"Q2\",\"Cost of Revenue\"],[\"2022\",\"Q3\",\"Net Income\"],[\"2022\",\"Q3\",\"Revenue\"],[\"2022\",\"Q3\",\"Cost of Revenue\"],[\"2022\",\"Q4\",\"Net Income\"],[\"2022\",\"Q4\",\"Revenue\"],[\"2022\",\"Q4\",\"Cost of Revenue\"]],\"range_padding\":0.1},\"id\":\"1672\",\"type\":\"FactorRange\"},{\"attributes\":{\"format\":\"($ 0,0 a)\"},\"id\":\"1691\",\"type\":\"NumeralTickFormatter\"},{\"attributes\":{\"source\":{\"id\":\"1032\"}},\"id\":\"1657\",\"type\":\"CDSView\"},{\"attributes\":{},\"id\":\"1789\",\"type\":\"AllLabels\"},{\"attributes\":{\"coordinates\":null,\"formatter\":{\"id\":\"1704\"},\"group\":null,\"major_label_policy\":{\"id\":\"1705\"},\"major_label_text_font_size\":\"0pt\",\"major_tick_line_color\":null,\"ticker\":{\"id\":\"1684\"}},\"id\":\"1683\",\"type\":\"CategoricalAxis\"},{\"attributes\":{},\"id\":\"1677\",\"type\":\"DataRange1d\"},{\"attributes\":{\"fill_alpha\":{\"value\":0.2},\"fill_color\":{\"field\":\"x\",\"transform\":{\"id\":\"1651\"}},\"hatch_alpha\":{\"value\":0.2},\"line_alpha\":{\"value\":0.2},\"line_color\":{\"value\":\"white\"},\"top\":{\"field\":\"y\"},\"width\":{\"value\":0.8},\"x\":{\"field\":\"x\"}},\"id\":\"1655\",\"type\":\"VBar\"},{\"attributes\":{},\"id\":\"1705\",\"type\":\"AllLabels\"},{\"attributes\":{},\"id\":\"1788\",\"type\":\"CategoricalTickFormatter\"},{\"attributes\":{\"index\":0,\"label\":{\"value\":\"Net Income\"},\"renderers\":[{\"id\":\"1656\"}]},\"id\":\"1668\",\"type\":\"LegendItem\"},{\"attributes\":{\"data\":{\"label\":[\"Net Income\",\"Revenue\",\"Cost of Revenue\",\"Net Income\",\"Revenue\",\"Cost of Revenue\",\"Net Income\",\"Revenue\",\"Cost of Revenue\",\"Net Income\",\"Revenue\",\"Cost of Revenue\",\"Net Income\",\"Revenue\",\"Cost of Revenue\",\"Net Income\",\"Revenue\",\"Cost of Revenue\",\"Net Income\",\"Revenue\",\"Cost of Revenue\",\"Net Income\",\"Revenue\",\"Cost of Revenue\",\"Net Income\",\"Revenue\",\"Cost of Revenue\",\"Net Income\",\"Revenue\",\"Cost of Revenue\",\"Net Income\",\"Revenue\",\"Cost of Revenue\",\"Net Income\",\"Revenue\",\"Cost of Revenue\",\"Net Income\",\"Revenue\",\"Cost of Revenue\",\"Net Income\",\"Revenue\",\"Cost of Revenue\",\"Net Income\",\"Revenue\",\"Cost of Revenue\",\"Net Income\",\"Revenue\",\"Cost of Revenue\"],\"x\":[[\"2019\",\"Q1\",\"Net Income\"],[\"2019\",\"Q1\",\"Revenue\"],[\"2019\",\"Q1\",\"Cost of Revenue\"],[\"2019\",\"Q2\",\"Net Income\"],[\"2019\",\"Q2\",\"Revenue\"],[\"2019\",\"Q2\",\"Cost of Revenue\"],[\"2019\",\"Q3\",\"Net Income\"],[\"2019\",\"Q3\",\"Revenue\"],[\"2019\",\"Q3\",\"Cost of Revenue\"],[\"2019\",\"Q4\",\"Net Income\"],[\"2019\",\"Q4\",\"Revenue\"],[\"2019\",\"Q4\",\"Cost of Revenue\"],[\"2020\",\"Q1\",\"Net Income\"],[\"2020\",\"Q1\",\"Revenue\"],[\"2020\",\"Q1\",\"Cost of Revenue\"],[\"2020\",\"Q2\",\"Net Income\"],[\"2020\",\"Q2\",\"Revenue\"],[\"2020\",\"Q2\",\"Cost of Revenue\"],[\"2020\",\"Q3\",\"Net Income\"],[\"2020\",\"Q3\",\"Revenue\"],[\"2020\",\"Q3\",\"Cost of Revenue\"],[\"2020\",\"Q4\",\"Net Income\"],[\"2020\",\"Q4\",\"Revenue\"],[\"2020\",\"Q4\",\"Cost of Revenue\"],[\"2021\",\"Q1\",\"Net Income\"],[\"2021\",\"Q1\",\"Revenue\"],[\"2021\",\"Q1\",\"Cost of Revenue\"],[\"2021\",\"Q2\",\"Net Income\"],[\"2021\",\"Q2\",\"Revenue\"],[\"2021\",\"Q2\",\"Cost of Revenue\"],[\"2021\",\"Q3\",\"Net Income\"],[\"2021\",\"Q3\",\"Revenue\"],[\"2021\",\"Q3\",\"Cost of Revenue\"],[\"2021\",\"Q4\",\"Net Income\"],[\"2021\",\"Q4\",\"Revenue\"],[\"2021\",\"Q4\",\"Cost of Revenue\"],[\"2022\",\"Q1\",\"Net Income\"],[\"2022\",\"Q1\",\"Revenue\"],[\"2022\",\"Q1\",\"Cost of Revenue\"],[\"2022\",\"Q2\",\"Net Income\"],[\"2022\",\"Q2\",\"Revenue\"],[\"2022\",\"Q2\",\"Cost of Revenue\"],[\"2022\",\"Q3\",\"Net Income\"],[\"2022\",\"Q3\",\"Revenue\"],[\"2022\",\"Q3\",\"Cost of Revenue\"],[\"2022\",\"Q4\",\"Net Income\"],[\"2022\",\"Q4\",\"Revenue\"],[\"2022\",\"Q4\",\"Cost of Revenue\"]],\"y\":[8809,30571,10170,13187,33717,10412,10678,33055,10406,11649,36906,12358,10752,35021,10975,11202,38033,12339,13893,37154,11002,15463,43076,14194,15457,41706,13045,16458,46152,13991,20505,45317,13646,18765,51728,16960,16728,49360,15615,16740,51865,16429,17556,50122,15452,16425,52747,17488]},\"selected\":{\"id\":\"1194\"},\"selection_policy\":{\"id\":\"1193\"}},\"id\":\"1031\",\"type\":\"ColumnDataSource\"},{\"attributes\":{\"below\":[{\"id\":\"1683\"}],\"center\":[{\"id\":\"1685\"},{\"id\":\"1689\"},{\"id\":\"1708\"},{\"id\":\"1627\"}],\"height\":700,\"left\":[{\"id\":\"1686\"}],\"output_backend\":\"svg\",\"renderers\":[{\"id\":\"1698\"}],\"title\":{\"id\":\"1674\"},\"toolbar\":{\"id\":\"1690\"},\"toolbar_location\":null,\"width\":1000,\"x_range\":{\"id\":\"1672\"},\"x_scale\":{\"id\":\"1679\"},\"y_range\":{\"id\":\"1677\"},\"y_scale\":{\"id\":\"1681\"}},\"id\":\"1673\",\"subtype\":\"Figure\",\"type\":\"Plot\"},{\"attributes\":{\"callback\":null,\"tooltips\":[[\"(year, quarter, type = value)\",\"(@x = @y)\"]]},\"id\":\"1670\",\"type\":\"HoverTool\"},{\"attributes\":{\"fill_alpha\":{\"value\":0.2},\"fill_color\":{\"field\":\"x\",\"transform\":{\"id\":\"1693\"}},\"hatch_alpha\":{\"value\":0.2},\"line_alpha\":{\"value\":0.2},\"line_color\":{\"value\":\"white\"},\"top\":{\"field\":\"y\"},\"width\":{\"value\":0.8},\"x\":{\"field\":\"x\"}},\"id\":\"1697\",\"type\":\"VBar\"},{\"attributes\":{\"index\":1,\"label\":{\"value\":\"Revenue\"},\"renderers\":[{\"id\":\"1656\"}]},\"id\":\"1669\",\"type\":\"LegendItem\"},{\"attributes\":{\"fill_alpha\":{\"value\":0.2},\"fill_color\":{\"field\":\"x\",\"transform\":{\"id\":\"1777\"}},\"hatch_alpha\":{\"value\":0.2},\"line_alpha\":{\"value\":0.2},\"line_color\":{\"value\":\"white\"},\"top\":{\"field\":\"y\"},\"width\":{\"value\":0.8},\"x\":{\"field\":\"x\"}},\"id\":\"1781\",\"type\":\"VBar\"},{\"attributes\":{},\"id\":\"1193\",\"type\":\"UnionRenderers\"},{\"attributes\":{},\"id\":\"1704\",\"type\":\"CategoricalTickFormatter\"},{\"attributes\":{},\"id\":\"1681\",\"type\":\"LinearScale\"},{\"attributes\":{\"coordinates\":null,\"glyph_height\":7,\"group\":null,\"items\":[{\"id\":\"1667\"},{\"id\":\"1668\"},{\"id\":\"1669\"}],\"label_height\":10,\"label_text_font_size\":\"11pt\",\"orientation\":\"horizontal\"},\"id\":\"1666\",\"type\":\"Legend\"},{\"attributes\":{},\"id\":\"1194\",\"type\":\"Selection\"},{\"attributes\":{\"coordinates\":null,\"group\":null,\"text\":\"META\"},\"id\":\"1674\",\"type\":\"Title\"},{\"attributes\":{},\"id\":\"1786\",\"type\":\"AllLabels\"},{\"attributes\":{},\"id\":\"1679\",\"type\":\"CategoricalScale\"},{\"attributes\":{\"data\":{\"label\":[\"Net Income\",\"Revenue\",\"Cost of Revenue\",\"Net Income\",\"Revenue\",\"Cost of Revenue\",\"Net Income\",\"Revenue\",\"Cost of Revenue\",\"Net Income\",\"Revenue\",\"Cost of Revenue\",\"Net Income\",\"Revenue\",\"Cost of Revenue\",\"Net Income\",\"Revenue\",\"Cost of Revenue\",\"Net Income\",\"Revenue\",\"Cost of Revenue\",\"Net Income\",\"Revenue\",\"Cost of Revenue\",\"Net Income\",\"Revenue\",\"Cost of Revenue\",\"Net Income\",\"Revenue\",\"Cost of Revenue\",\"Net Income\",\"Revenue\",\"Cost of Revenue\",\"Net Income\",\"Revenue\",\"Cost of Revenue\",\"Net Income\",\"Revenue\",\"Cost of Revenue\",\"Net Income\",\"Revenue\",\"Cost of Revenue\",\"Net Income\",\"Revenue\",\"Cost of Revenue\",\"Net Income\",\"Revenue\",\"Cost of Revenue\"],\"x\":[[\"2019\",\"Q1\",\"Net Income\"],[\"2019\",\"Q1\",\"Revenue\"],[\"2019\",\"Q1\",\"Cost of Revenue\"],[\"2019\",\"Q2\",\"Net Income\"],[\"2019\",\"Q2\",\"Revenue\"],[\"2019\",\"Q2\",\"Cost of Revenue\"],[\"2019\",\"Q3\",\"Net Income\"],[\"2019\",\"Q3\",\"Revenue\"],[\"2019\",\"Q3\",\"Cost of Revenue\"],[\"2019\",\"Q4\",\"Net Income\"],[\"2019\",\"Q4\",\"Revenue\"],[\"2019\",\"Q4\",\"Cost of Revenue\"],[\"2020\",\"Q1\",\"Net Income\"],[\"2020\",\"Q1\",\"Revenue\"],[\"2020\",\"Q1\",\"Cost of Revenue\"],[\"2020\",\"Q2\",\"Net Income\"],[\"2020\",\"Q2\",\"Revenue\"],[\"2020\",\"Q2\",\"Cost of Revenue\"],[\"2020\",\"Q3\",\"Net Income\"],[\"2020\",\"Q3\",\"Revenue\"],[\"2020\",\"Q3\",\"Cost of Revenue\"],[\"2020\",\"Q4\",\"Net Income\"],[\"2020\",\"Q4\",\"Revenue\"],[\"2020\",\"Q4\",\"Cost of Revenue\"],[\"2021\",\"Q1\",\"Net Income\"],[\"2021\",\"Q1\",\"Revenue\"],[\"2021\",\"Q1\",\"Cost of Revenue\"],[\"2021\",\"Q2\",\"Net Income\"],[\"2021\",\"Q2\",\"Revenue\"],[\"2021\",\"Q2\",\"Cost of Revenue\"],[\"2021\",\"Q3\",\"Net Income\"],[\"2021\",\"Q3\",\"Revenue\"],[\"2021\",\"Q3\",\"Cost of Revenue\"],[\"2021\",\"Q4\",\"Net Income\"],[\"2021\",\"Q4\",\"Revenue\"],[\"2021\",\"Q4\",\"Cost of Revenue\"],[\"2022\",\"Q1\",\"Net Income\"],[\"2022\",\"Q1\",\"Revenue\"],[\"2022\",\"Q1\",\"Cost of Revenue\"],[\"2022\",\"Q2\",\"Net Income\"],[\"2022\",\"Q2\",\"Revenue\"],[\"2022\",\"Q2\",\"Cost of Revenue\"],[\"2022\",\"Q3\",\"Net Income\"],[\"2022\",\"Q3\",\"Revenue\"],[\"2022\",\"Q3\",\"Cost of Revenue\"],[\"2022\",\"Q4\",\"Net Income\"],[\"2022\",\"Q4\",\"Revenue\"],[\"2022\",\"Q4\",\"Cost of Revenue\"]],\"y\":[3561,59700,33920,2625,63404,36337,2134,69981,41302,3268,87436,53977,2535,75452,44257,5243,88912,52660,6331,96145,57106,7222,125555,79284,8107,108518,62403,7778,113080,64176,3156,110812,62930,14323,137412,82835,-3844,116444,66499,-2028,121234,66424,2872,127101,70268,278,149204,85640]},\"selected\":{\"id\":\"1068\"},\"selection_policy\":{\"id\":\"1067\"}},\"id\":\"1032\",\"type\":\"ColumnDataSource\"},{\"attributes\":{\"index\":1,\"label\":{\"value\":\"Revenue\"},\"renderers\":[{\"id\":\"1740\"}]},\"id\":\"1753\",\"type\":\"LegendItem\"},{\"attributes\":{\"index\":2,\"label\":{\"value\":\"Cost of Revenue\"},\"renderers\":[{\"id\":\"1698\"}]},\"id\":\"1709\",\"type\":\"LegendItem\"},{\"attributes\":{\"format\":\"($ 0,0 a)\"},\"id\":\"1733\",\"type\":\"NumeralTickFormatter\"},{\"attributes\":{\"index\":2,\"label\":{\"value\":\"Cost of Revenue\"},\"renderers\":[{\"id\":\"1740\"}]},\"id\":\"1751\",\"type\":\"LegendItem\"},{\"attributes\":{},\"id\":\"1109\",\"type\":\"UnionRenderers\"},{\"attributes\":{\"factors\":[[\"2019\",\"Q1\",\"Net Income\"],[\"2019\",\"Q1\",\"Revenue\"],[\"2019\",\"Q1\",\"Cost of Revenue\"],[\"2019\",\"Q2\",\"Net Income\"],[\"2019\",\"Q2\",\"Revenue\"],[\"2019\",\"Q2\",\"Cost of Revenue\"],[\"2019\",\"Q3\",\"Net Income\"],[\"2019\",\"Q3\",\"Revenue\"],[\"2019\",\"Q3\",\"Cost of Revenue\"],[\"2019\",\"Q4\",\"Net Income\"],[\"2019\",\"Q4\",\"Revenue\"],[\"2019\",\"Q4\",\"Cost of Revenue\"],[\"2020\",\"Q1\",\"Net Income\"],[\"2020\",\"Q1\",\"Revenue\"],[\"2020\",\"Q1\",\"Cost of Revenue\"],[\"2020\",\"Q2\",\"Net Income\"],[\"2020\",\"Q2\",\"Revenue\"],[\"2020\",\"Q2\",\"Cost of Revenue\"],[\"2020\",\"Q3\",\"Net Income\"],[\"2020\",\"Q3\",\"Revenue\"],[\"2020\",\"Q3\",\"Cost of Revenue\"],[\"2020\",\"Q4\",\"Net Income\"],[\"2020\",\"Q4\",\"Revenue\"],[\"2020\",\"Q4\",\"Cost of Revenue\"],[\"2021\",\"Q1\",\"Net Income\"],[\"2021\",\"Q1\",\"Revenue\"],[\"2021\",\"Q1\",\"Cost of Revenue\"],[\"2021\",\"Q2\",\"Net Income\"],[\"2021\",\"Q2\",\"Revenue\"],[\"2021\",\"Q2\",\"Cost of Revenue\"],[\"2021\",\"Q3\",\"Net Income\"],[\"2021\",\"Q3\",\"Revenue\"],[\"2021\",\"Q3\",\"Cost of Revenue\"],[\"2021\",\"Q4\",\"Net Income\"],[\"2021\",\"Q4\",\"Revenue\"],[\"2021\",\"Q4\",\"Cost of Revenue\"],[\"2022\",\"Q1\",\"Net Income\"],[\"2022\",\"Q1\",\"Revenue\"],[\"2022\",\"Q1\",\"Cost of Revenue\"],[\"2022\",\"Q2\",\"Net Income\"],[\"2022\",\"Q2\",\"Revenue\"],[\"2022\",\"Q2\",\"Cost of Revenue\"],[\"2022\",\"Q3\",\"Net Income\"],[\"2022\",\"Q3\",\"Revenue\"],[\"2022\",\"Q3\",\"Cost of Revenue\"],[\"2022\",\"Q4\",\"Net Income\"],[\"2022\",\"Q4\",\"Revenue\"],[\"2022\",\"Q4\",\"Cost of Revenue\"]],\"range_padding\":0.1},\"id\":\"1756\",\"type\":\"FactorRange\"},{\"attributes\":{\"below\":[{\"id\":\"1767\"}],\"center\":[{\"id\":\"1769\"},{\"id\":\"1773\"},{\"id\":\"1792\"},{\"id\":\"1629\"}],\"height\":700,\"left\":[{\"id\":\"1770\"}],\"output_backend\":\"svg\",\"renderers\":[{\"id\":\"1782\"}],\"title\":{\"id\":\"1758\"},\"toolbar\":{\"id\":\"1774\"},\"toolbar_location\":null,\"width\":1000,\"x_range\":{\"id\":\"1756\"},\"x_scale\":{\"id\":\"1763\"},\"y_range\":{\"id\":\"1761\"},\"y_scale\":{\"id\":\"1765\"}},\"id\":\"1757\",\"subtype\":\"Figure\",\"type\":\"Plot\"},{\"attributes\":{},\"id\":\"1719\",\"type\":\"DataRange1d\"},{\"attributes\":{\"callback\":null,\"tooltips\":[[\"(year, quarter, type = value)\",\"(@x = @y)\"]]},\"id\":\"1754\",\"type\":\"HoverTool\"},{\"attributes\":{},\"id\":\"1110\",\"type\":\"Selection\"},{\"attributes\":{\"index\":0,\"label\":{\"value\":\"Net Income\"},\"renderers\":[{\"id\":\"1698\"}]},\"id\":\"1710\",\"type\":\"LegendItem\"},{\"attributes\":{\"index\":0,\"label\":{\"value\":\"Net Income\"},\"renderers\":[{\"id\":\"1740\"}]},\"id\":\"1752\",\"type\":\"LegendItem\"},{\"attributes\":{\"below\":[{\"id\":\"1725\"}],\"center\":[{\"id\":\"1727\"},{\"id\":\"1731\"},{\"id\":\"1750\"},{\"id\":\"1628\"}],\"height\":700,\"left\":[{\"id\":\"1728\"}],\"output_backend\":\"svg\",\"renderers\":[{\"id\":\"1740\"}],\"title\":{\"id\":\"1716\"},\"toolbar\":{\"id\":\"1732\"},\"toolbar_location\":null,\"width\":1000,\"x_range\":{\"id\":\"1714\"},\"x_scale\":{\"id\":\"1721\"},\"y_range\":{\"id\":\"1719\"},\"y_scale\":{\"id\":\"1723\"}},\"id\":\"1715\",\"subtype\":\"Figure\",\"type\":\"Plot\"},{\"attributes\":{\"index\":1,\"label\":{\"value\":\"Revenue\"},\"renderers\":[{\"id\":\"1698\"}]},\"id\":\"1711\",\"type\":\"LegendItem\"},{\"attributes\":{\"axis_label\":\"millions USD\",\"coordinates\":null,\"formatter\":{\"id\":\"1733\"},\"group\":null,\"major_label_policy\":{\"id\":\"1744\"},\"ticker\":{\"id\":\"1729\"}},\"id\":\"1728\",\"type\":\"LinearAxis\"},{\"attributes\":{\"coordinates\":null,\"group\":null,\"text\":\"GOOGL\"},\"id\":\"1716\",\"type\":\"Title\"},{\"attributes\":{},\"id\":\"1721\",\"type\":\"CategoricalScale\"},{\"attributes\":{\"axis\":{\"id\":\"1725\"},\"coordinates\":null,\"grid_line_color\":null,\"group\":null,\"ticker\":null},\"id\":\"1727\",\"type\":\"Grid\"},{\"attributes\":{},\"id\":\"1747\",\"type\":\"AllLabels\"},{\"attributes\":{\"coordinates\":null,\"formatter\":{\"id\":\"1746\"},\"group\":null,\"major_label_policy\":{\"id\":\"1747\"},\"major_label_text_font_size\":\"0pt\",\"major_tick_line_color\":null,\"ticker\":{\"id\":\"1726\"}},\"id\":\"1725\",\"type\":\"CategoricalAxis\"},{\"attributes\":{},\"id\":\"1723\",\"type\":\"LinearScale\"},{\"attributes\":{},\"id\":\"1726\",\"type\":\"CategoricalTicker\"},{\"attributes\":{},\"id\":\"1746\",\"type\":\"CategoricalTickFormatter\"},{\"attributes\":{\"axis\":{\"id\":\"1728\"},\"coordinates\":null,\"dimension\":1,\"group\":null,\"ticker\":null},\"id\":\"1731\",\"type\":\"Grid\"},{\"attributes\":{},\"id\":\"1729\",\"type\":\"BasicTicker\"},{\"attributes\":{\"tools\":[{\"id\":\"1754\"}]},\"id\":\"1732\",\"type\":\"Toolbar\"},{\"attributes\":{\"fill_color\":{\"field\":\"x\",\"transform\":{\"id\":\"1735\"}},\"line_color\":{\"value\":\"white\"},\"top\":{\"field\":\"y\"},\"width\":{\"value\":0.8},\"x\":{\"field\":\"x\"}},\"id\":\"1737\",\"type\":\"VBar\"},{\"attributes\":{\"fill_alpha\":{\"value\":0.1},\"fill_color\":{\"field\":\"x\",\"transform\":{\"id\":\"1735\"}},\"hatch_alpha\":{\"value\":0.1},\"line_alpha\":{\"value\":0.1},\"line_color\":{\"value\":\"white\"},\"top\":{\"field\":\"y\"},\"width\":{\"value\":0.8},\"x\":{\"field\":\"x\"}},\"id\":\"1738\",\"type\":\"VBar\"},{\"attributes\":{},\"id\":\"1744\",\"type\":\"AllLabels\"},{\"attributes\":{\"end\":3,\"factors\":[\"Net Income\",\"Revenue\",\"Cost of Revenue\"],\"palette\":[\"#3182bd\",\"#9ecae1\",\"#deebf7\"],\"start\":2},\"id\":\"1735\",\"type\":\"CategoricalColorMapper\"},{\"attributes\":{\"coordinates\":null,\"data_source\":{\"id\":\"1030\"},\"glyph\":{\"id\":\"1737\"},\"group\":null,\"hover_glyph\":null,\"muted_glyph\":{\"id\":\"1739\"},\"nonselection_glyph\":{\"id\":\"1738\"},\"view\":{\"id\":\"1741\"}},\"id\":\"1740\",\"type\":\"GlyphRenderer\"},{\"attributes\":{\"fill_alpha\":{\"value\":0.2},\"fill_color\":{\"field\":\"x\",\"transform\":{\"id\":\"1735\"}},\"hatch_alpha\":{\"value\":0.2},\"line_alpha\":{\"value\":0.2},\"line_color\":{\"value\":\"white\"},\"top\":{\"field\":\"y\"},\"width\":{\"value\":0.8},\"x\":{\"field\":\"x\"}},\"id\":\"1739\",\"type\":\"VBar\"},{\"attributes\":{},\"id\":\"1763\",\"type\":\"CategoricalScale\"},{\"attributes\":{\"source\":{\"id\":\"1030\"}},\"id\":\"1741\",\"type\":\"CDSView\"},{\"attributes\":{},\"id\":\"1765\",\"type\":\"LinearScale\"},{\"attributes\":{\"coordinates\":null,\"group\":null,\"text\":\"MSFT\"},\"id\":\"1758\",\"type\":\"Title\"},{\"attributes\":{\"format\":\"($ 0,0 a)\"},\"id\":\"1775\",\"type\":\"NumeralTickFormatter\"},{\"attributes\":{\"coordinates\":null,\"glyph_height\":7,\"group\":null,\"items\":[{\"id\":\"1751\"},{\"id\":\"1752\"},{\"id\":\"1753\"}],\"label_height\":10,\"label_text_font_size\":\"11pt\",\"orientation\":\"horizontal\"},\"id\":\"1750\",\"type\":\"Legend\"},{\"attributes\":{},\"id\":\"1761\",\"type\":\"DataRange1d\"}],\"root_ids\":[\"1834\"]},\"title\":\"Bokeh Application\",\"version\":\"2.4.3\"}};\n",
              "  const render_items = [{\"docid\":\"e3ea6bf1-b55c-4fbf-9ce3-af5e26ea2f55\",\"root_ids\":[\"1834\"],\"roots\":{\"1834\":\"eb73e69b-64df-4d8a-84d6-4a3a15cbea7d\"}}];\n",
              "  root.Bokeh.embed.embed_items_notebook(docs_json, render_items);\n",
              "  }\n",
              "  if (root.Bokeh !== undefined) {\n",
              "    embed_document(root);\n",
              "  } else {\n",
              "    let attempts = 0;\n",
              "    const timer = setInterval(function(root) {\n",
              "      if (root.Bokeh !== undefined) {\n",
              "        clearInterval(timer);\n",
              "        embed_document(root);\n",
              "      } else {\n",
              "        attempts++;\n",
              "        if (attempts > 100) {\n",
              "          clearInterval(timer);\n",
              "          console.log(\"Bokeh: ERROR: Unable to run BokehJS code because BokehJS library is missing\");\n",
              "        }\n",
              "      }\n",
              "    }, 10, root)\n",
              "  }\n",
              "})(window);"
            ],
            "application/vnd.bokehjs_exec.v0+json": ""
          },
          "metadata": {
            "application/vnd.bokehjs_exec.v0+json": {
              "id": "1834"
            }
          }
        }
      ]
    }
  ]
}