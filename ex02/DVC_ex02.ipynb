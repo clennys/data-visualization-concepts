{
  "nbformat": 4,
  "nbformat_minor": 0,
  "metadata": {
    "colab": {
      "provenance": []
    },
    "kernelspec": {
      "name": "python3",
      "display_name": "Python 3"
    },
    "language_info": {
      "name": "python"
    }
  },
  "cells": [
    {
      "cell_type": "code",
      "execution_count": 165,
      "metadata": {
        "colab": {
          "base_uri": "https://localhost:8080/",
          "height": 17
        },
        "id": "hrIFtOxaNZlV",
        "outputId": "c590061b-b5f1-4c08-90d7-2256e3836270"
      },
      "outputs": [
        {
          "output_type": "display_data",
          "data": {
            "text/plain": [
              "<IPython.core.display.HTML object>"
            ],
            "text/html": [
              "\n",
              "  <style>\n",
              "    pre {\n",
              "        white-space: pre-wrap;\n",
              "    }\n",
              "  </style>\n",
              "  "
            ]
          },
          "metadata": {}
        },
        {
          "output_type": "display_data",
          "data": {
            "text/plain": [
              "<IPython.core.display.HTML object>"
            ],
            "text/html": [
              "\n",
              "  <style>\n",
              "    pre {\n",
              "        white-space: pre-wrap;\n",
              "    }\n",
              "  </style>\n",
              "  "
            ]
          },
          "metadata": {}
        },
        {
          "output_type": "display_data",
          "data": {
            "text/plain": [
              "<IPython.core.display.HTML object>"
            ],
            "text/html": [
              "\n",
              "  <style>\n",
              "    pre {\n",
              "        white-space: pre-wrap;\n",
              "    }\n",
              "  </style>\n",
              "  "
            ]
          },
          "metadata": {}
        },
        {
          "output_type": "display_data",
          "data": {
            "text/plain": [
              "<IPython.core.display.HTML object>"
            ],
            "text/html": [
              "\n",
              "  <style>\n",
              "    pre {\n",
              "        white-space: pre-wrap;\n",
              "    }\n",
              "  </style>\n",
              "  "
            ]
          },
          "metadata": {}
        },
        {
          "output_type": "display_data",
          "data": {
            "text/plain": [
              "<IPython.core.display.HTML object>"
            ],
            "text/html": [
              "\n",
              "  <style>\n",
              "    pre {\n",
              "        white-space: pre-wrap;\n",
              "    }\n",
              "  </style>\n",
              "  "
            ]
          },
          "metadata": {}
        },
        {
          "output_type": "display_data",
          "data": {
            "text/plain": [
              "<IPython.core.display.HTML object>"
            ],
            "text/html": [
              "\n",
              "  <style>\n",
              "    pre {\n",
              "        white-space: pre-wrap;\n",
              "    }\n",
              "  </style>\n",
              "  "
            ]
          },
          "metadata": {}
        },
        {
          "output_type": "display_data",
          "data": {
            "text/plain": [
              "<IPython.core.display.HTML object>"
            ],
            "text/html": [
              "\n",
              "  <style>\n",
              "    pre {\n",
              "        white-space: pre-wrap;\n",
              "    }\n",
              "  </style>\n",
              "  "
            ]
          },
          "metadata": {}
        },
        {
          "output_type": "display_data",
          "data": {
            "text/plain": [
              "<IPython.core.display.HTML object>"
            ],
            "text/html": [
              "\n",
              "  <style>\n",
              "    pre {\n",
              "        white-space: pre-wrap;\n",
              "    }\n",
              "  </style>\n",
              "  "
            ]
          },
          "metadata": {}
        }
      ],
      "source": [
        "import pandas as pd\n",
        "from bokeh.plotting import figure \n",
        "from bokeh.io import output_file, save, show, output_notebook\n",
        "from bokeh.layouts import column\n",
        "from bokeh.models import ColumnDataSource, CDSView, BooleanFilter, \\\n",
        "    HoverTool, LinearAxis, NumeralTickFormatter, Range1d, RangeTool"
      ]
    },
    {
      "cell_type": "code",
      "source": [
        "# Enable viewing Bokeh plots in the notebook\n",
        "from bokeh.io import show, output_notebook\n",
        "output_notebook()"
      ],
      "metadata": {
        "id": "cuHFuuJFVnxx",
        "colab": {
          "base_uri": "https://localhost:8080/",
          "height": 17
        },
        "outputId": "dcb63ac3-d2fe-4fd2-b6db-a95097352aea"
      },
      "execution_count": 166,
      "outputs": [
        {
          "output_type": "display_data",
          "data": {
            "text/plain": [
              "<IPython.core.display.HTML object>"
            ],
            "text/html": [
              "\n",
              "  <style>\n",
              "    pre {\n",
              "        white-space: pre-wrap;\n",
              "    }\n",
              "  </style>\n",
              "  "
            ]
          },
          "metadata": {}
        },
        {
          "output_type": "display_data",
          "data": {
            "text/plain": [
              "<IPython.core.display.HTML object>"
            ],
            "text/html": [
              "\n",
              "  <style>\n",
              "    pre {\n",
              "        white-space: pre-wrap;\n",
              "    }\n",
              "  </style>\n",
              "  "
            ]
          },
          "metadata": {}
        },
        {
          "output_type": "display_data",
          "data": {
            "text/plain": [
              "<IPython.core.display.HTML object>"
            ],
            "text/html": [
              "\n",
              "  <style>\n",
              "    pre {\n",
              "        white-space: pre-wrap;\n",
              "    }\n",
              "  </style>\n",
              "  "
            ]
          },
          "metadata": {}
        },
        {
          "output_type": "display_data",
          "data": {
            "text/plain": [
              "<IPython.core.display.HTML object>"
            ],
            "text/html": [
              "\n",
              "  <style>\n",
              "    pre {\n",
              "        white-space: pre-wrap;\n",
              "    }\n",
              "  </style>\n",
              "  "
            ]
          },
          "metadata": {}
        },
        {
          "output_type": "display_data",
          "data": {
            "text/plain": [
              "<IPython.core.display.HTML object>"
            ],
            "text/html": [
              "\n",
              "  <style>\n",
              "    pre {\n",
              "        white-space: pre-wrap;\n",
              "    }\n",
              "  </style>\n",
              "  "
            ]
          },
          "metadata": {}
        },
        {
          "output_type": "display_data",
          "data": {
            "text/plain": [
              "<IPython.core.display.HTML object>"
            ],
            "text/html": [
              "\n",
              "  <style>\n",
              "    pre {\n",
              "        white-space: pre-wrap;\n",
              "    }\n",
              "  </style>\n",
              "  "
            ]
          },
          "metadata": {}
        },
        {
          "output_type": "display_data",
          "data": {
            "text/plain": [
              "<IPython.core.display.HTML object>"
            ],
            "text/html": [
              "\n",
              "  <style>\n",
              "    pre {\n",
              "        white-space: pre-wrap;\n",
              "    }\n",
              "  </style>\n",
              "  "
            ]
          },
          "metadata": {}
        },
        {
          "output_type": "display_data",
          "data": {
            "text/plain": [
              "<IPython.core.display.HTML object>"
            ],
            "text/html": [
              "\n",
              "  <style>\n",
              "    pre {\n",
              "        white-space: pre-wrap;\n",
              "    }\n",
              "  </style>\n",
              "  "
            ]
          },
          "metadata": {}
        }
      ]
    },
    {
      "cell_type": "code",
      "source": [
        "# For google collab to wrap output\n",
        "from IPython.display import HTML, display\n",
        "\n",
        "def set_css():\n",
        "  display(HTML('''\n",
        "  <style>\n",
        "    pre {\n",
        "        white-space: pre-wrap;\n",
        "    }\n",
        "  </style>\n",
        "  '''))\n",
        "get_ipython().events.register('pre_run_cell', set_css)"
      ],
      "metadata": {
        "id": "BqLiYoFclTRO",
        "colab": {
          "base_uri": "https://localhost:8080/",
          "height": 17
        },
        "outputId": "6dd9afcf-ee4b-44c9-e30e-9f46307ba350"
      },
      "execution_count": 167,
      "outputs": [
        {
          "output_type": "display_data",
          "data": {
            "text/plain": [
              "<IPython.core.display.HTML object>"
            ],
            "text/html": [
              "\n",
              "  <style>\n",
              "    pre {\n",
              "        white-space: pre-wrap;\n",
              "    }\n",
              "  </style>\n",
              "  "
            ]
          },
          "metadata": {}
        },
        {
          "output_type": "display_data",
          "data": {
            "text/plain": [
              "<IPython.core.display.HTML object>"
            ],
            "text/html": [
              "\n",
              "  <style>\n",
              "    pre {\n",
              "        white-space: pre-wrap;\n",
              "    }\n",
              "  </style>\n",
              "  "
            ]
          },
          "metadata": {}
        },
        {
          "output_type": "display_data",
          "data": {
            "text/plain": [
              "<IPython.core.display.HTML object>"
            ],
            "text/html": [
              "\n",
              "  <style>\n",
              "    pre {\n",
              "        white-space: pre-wrap;\n",
              "    }\n",
              "  </style>\n",
              "  "
            ]
          },
          "metadata": {}
        },
        {
          "output_type": "display_data",
          "data": {
            "text/plain": [
              "<IPython.core.display.HTML object>"
            ],
            "text/html": [
              "\n",
              "  <style>\n",
              "    pre {\n",
              "        white-space: pre-wrap;\n",
              "    }\n",
              "  </style>\n",
              "  "
            ]
          },
          "metadata": {}
        },
        {
          "output_type": "display_data",
          "data": {
            "text/plain": [
              "<IPython.core.display.HTML object>"
            ],
            "text/html": [
              "\n",
              "  <style>\n",
              "    pre {\n",
              "        white-space: pre-wrap;\n",
              "    }\n",
              "  </style>\n",
              "  "
            ]
          },
          "metadata": {}
        },
        {
          "output_type": "display_data",
          "data": {
            "text/plain": [
              "<IPython.core.display.HTML object>"
            ],
            "text/html": [
              "\n",
              "  <style>\n",
              "    pre {\n",
              "        white-space: pre-wrap;\n",
              "    }\n",
              "  </style>\n",
              "  "
            ]
          },
          "metadata": {}
        },
        {
          "output_type": "display_data",
          "data": {
            "text/plain": [
              "<IPython.core.display.HTML object>"
            ],
            "text/html": [
              "\n",
              "  <style>\n",
              "    pre {\n",
              "        white-space: pre-wrap;\n",
              "    }\n",
              "  </style>\n",
              "  "
            ]
          },
          "metadata": {}
        },
        {
          "output_type": "display_data",
          "data": {
            "text/plain": [
              "<IPython.core.display.HTML object>"
            ],
            "text/html": [
              "\n",
              "  <style>\n",
              "    pre {\n",
              "        white-space: pre-wrap;\n",
              "    }\n",
              "  </style>\n",
              "  "
            ]
          },
          "metadata": {}
        }
      ]
    },
    {
      "cell_type": "code",
      "source": [
        "# Task 1: Prepare the Data\n",
        "stock_url = 'https://docs.google.com/spreadsheets/d/e/2PACX-1vTiM1scE44za7xyuheW_FrUkdSdOKipDgDOWa_03ixmJCWK_ReSqhjzax66nNHyDKARXWIXgFI_EW9X/pub?gid=1661368486&single=true&output=csv'\n",
        "stock = pd.read_csv(stock_url)\n",
        "\n",
        "metrics_url = 'https://docs.google.com/spreadsheets/d/e/2PACX-1vRDaf4y17OWjQqxODuxA4q4hsvXRkSqN0na1KtTIpvOZUdc7xHbrkhcygFfDIyVQWI2UbC3YcKUbser/pub?gid=981872466&single=true&output=csv'\n",
        "metrics = pd.read_csv(metrics_url)"
      ],
      "metadata": {
        "colab": {
          "base_uri": "https://localhost:8080/",
          "height": 17
        },
        "id": "gTPuu_rjPgsj",
        "outputId": "a9e31de5-da26-412b-a0a7-59e14e061c19"
      },
      "execution_count": 168,
      "outputs": [
        {
          "output_type": "display_data",
          "data": {
            "text/plain": [
              "<IPython.core.display.HTML object>"
            ],
            "text/html": [
              "\n",
              "  <style>\n",
              "    pre {\n",
              "        white-space: pre-wrap;\n",
              "    }\n",
              "  </style>\n",
              "  "
            ]
          },
          "metadata": {}
        },
        {
          "output_type": "display_data",
          "data": {
            "text/plain": [
              "<IPython.core.display.HTML object>"
            ],
            "text/html": [
              "\n",
              "  <style>\n",
              "    pre {\n",
              "        white-space: pre-wrap;\n",
              "    }\n",
              "  </style>\n",
              "  "
            ]
          },
          "metadata": {}
        },
        {
          "output_type": "display_data",
          "data": {
            "text/plain": [
              "<IPython.core.display.HTML object>"
            ],
            "text/html": [
              "\n",
              "  <style>\n",
              "    pre {\n",
              "        white-space: pre-wrap;\n",
              "    }\n",
              "  </style>\n",
              "  "
            ]
          },
          "metadata": {}
        },
        {
          "output_type": "display_data",
          "data": {
            "text/plain": [
              "<IPython.core.display.HTML object>"
            ],
            "text/html": [
              "\n",
              "  <style>\n",
              "    pre {\n",
              "        white-space: pre-wrap;\n",
              "    }\n",
              "  </style>\n",
              "  "
            ]
          },
          "metadata": {}
        },
        {
          "output_type": "display_data",
          "data": {
            "text/plain": [
              "<IPython.core.display.HTML object>"
            ],
            "text/html": [
              "\n",
              "  <style>\n",
              "    pre {\n",
              "        white-space: pre-wrap;\n",
              "    }\n",
              "  </style>\n",
              "  "
            ]
          },
          "metadata": {}
        },
        {
          "output_type": "display_data",
          "data": {
            "text/plain": [
              "<IPython.core.display.HTML object>"
            ],
            "text/html": [
              "\n",
              "  <style>\n",
              "    pre {\n",
              "        white-space: pre-wrap;\n",
              "    }\n",
              "  </style>\n",
              "  "
            ]
          },
          "metadata": {}
        },
        {
          "output_type": "display_data",
          "data": {
            "text/plain": [
              "<IPython.core.display.HTML object>"
            ],
            "text/html": [
              "\n",
              "  <style>\n",
              "    pre {\n",
              "        white-space: pre-wrap;\n",
              "    }\n",
              "  </style>\n",
              "  "
            ]
          },
          "metadata": {}
        },
        {
          "output_type": "display_data",
          "data": {
            "text/plain": [
              "<IPython.core.display.HTML object>"
            ],
            "text/html": [
              "\n",
              "  <style>\n",
              "    pre {\n",
              "        white-space: pre-wrap;\n",
              "    }\n",
              "  </style>\n",
              "  "
            ]
          },
          "metadata": {}
        },
        {
          "output_type": "display_data",
          "data": {
            "text/plain": [
              "<IPython.core.display.HTML object>"
            ],
            "text/html": [
              "\n",
              "  <style>\n",
              "    pre {\n",
              "        white-space: pre-wrap;\n",
              "    }\n",
              "  </style>\n",
              "  "
            ]
          },
          "metadata": {}
        }
      ]
    },
    {
      "cell_type": "code",
      "source": [
        "stock"
      ],
      "metadata": {
        "colab": {
          "base_uri": "https://localhost:8080/",
          "height": 424
        },
        "id": "qLXkGq1gUynO",
        "outputId": "d9d27a05-d2a3-4d69-fa51-415f20e92d03"
      },
      "execution_count": 169,
      "outputs": [
        {
          "output_type": "display_data",
          "data": {
            "text/plain": [
              "<IPython.core.display.HTML object>"
            ],
            "text/html": [
              "\n",
              "  <style>\n",
              "    pre {\n",
              "        white-space: pre-wrap;\n",
              "    }\n",
              "  </style>\n",
              "  "
            ]
          },
          "metadata": {}
        },
        {
          "output_type": "display_data",
          "data": {
            "text/plain": [
              "<IPython.core.display.HTML object>"
            ],
            "text/html": [
              "\n",
              "  <style>\n",
              "    pre {\n",
              "        white-space: pre-wrap;\n",
              "    }\n",
              "  </style>\n",
              "  "
            ]
          },
          "metadata": {}
        },
        {
          "output_type": "display_data",
          "data": {
            "text/plain": [
              "<IPython.core.display.HTML object>"
            ],
            "text/html": [
              "\n",
              "  <style>\n",
              "    pre {\n",
              "        white-space: pre-wrap;\n",
              "    }\n",
              "  </style>\n",
              "  "
            ]
          },
          "metadata": {}
        },
        {
          "output_type": "display_data",
          "data": {
            "text/plain": [
              "<IPython.core.display.HTML object>"
            ],
            "text/html": [
              "\n",
              "  <style>\n",
              "    pre {\n",
              "        white-space: pre-wrap;\n",
              "    }\n",
              "  </style>\n",
              "  "
            ]
          },
          "metadata": {}
        },
        {
          "output_type": "display_data",
          "data": {
            "text/plain": [
              "<IPython.core.display.HTML object>"
            ],
            "text/html": [
              "\n",
              "  <style>\n",
              "    pre {\n",
              "        white-space: pre-wrap;\n",
              "    }\n",
              "  </style>\n",
              "  "
            ]
          },
          "metadata": {}
        },
        {
          "output_type": "display_data",
          "data": {
            "text/plain": [
              "<IPython.core.display.HTML object>"
            ],
            "text/html": [
              "\n",
              "  <style>\n",
              "    pre {\n",
              "        white-space: pre-wrap;\n",
              "    }\n",
              "  </style>\n",
              "  "
            ]
          },
          "metadata": {}
        },
        {
          "output_type": "display_data",
          "data": {
            "text/plain": [
              "<IPython.core.display.HTML object>"
            ],
            "text/html": [
              "\n",
              "  <style>\n",
              "    pre {\n",
              "        white-space: pre-wrap;\n",
              "    }\n",
              "  </style>\n",
              "  "
            ]
          },
          "metadata": {}
        },
        {
          "output_type": "display_data",
          "data": {
            "text/plain": [
              "<IPython.core.display.HTML object>"
            ],
            "text/html": [
              "\n",
              "  <style>\n",
              "    pre {\n",
              "        white-space: pre-wrap;\n",
              "    }\n",
              "  </style>\n",
              "  "
            ]
          },
          "metadata": {}
        },
        {
          "output_type": "display_data",
          "data": {
            "text/plain": [
              "<IPython.core.display.HTML object>"
            ],
            "text/html": [
              "\n",
              "  <style>\n",
              "    pre {\n",
              "        white-space: pre-wrap;\n",
              "    }\n",
              "  </style>\n",
              "  "
            ]
          },
          "metadata": {}
        },
        {
          "output_type": "execute_result",
          "data": {
            "text/plain": [
              "     Symbol       Date        Open        High         Low       Close  \\\n",
              "0      META   1/1/2019  128.990005  138.869995  128.559998  138.050003   \n",
              "1      META   1/8/2019  139.889999  146.570007  139.539993  145.389999   \n",
              "2      META  1/15/2019  146.009995  152.429993  145.990005  150.039993   \n",
              "3      META  1/22/2019  149.199997  151.529999  142.520004  147.470001   \n",
              "4      META  1/29/2019  148.089996  171.679993  143.429993  169.250000   \n",
              "...     ...        ...         ...         ...         ...         ...   \n",
              "1065   AAPL   1/3/2023  130.279999  133.410004  124.169998  130.149994   \n",
              "1066   AAPL  1/10/2023  130.259995  134.919998  128.119995  134.759995   \n",
              "1067   AAPL  1/17/2023  134.830002  143.320007  133.770004  141.110001   \n",
              "1068   AAPL  1/24/2023  140.309998  147.229996  138.809998  143.000000   \n",
              "1069   AAPL  1/31/2023  142.699997  157.380005  141.320007  151.729996   \n",
              "\n",
              "       Adj Close     Volume  \n",
              "0     138.050003   99955500  \n",
              "1     145.389999   98023000  \n",
              "2     150.039993   88912200  \n",
              "3     147.470001  101178300  \n",
              "4     169.250000  190321400  \n",
              "...          ...        ...  \n",
              "1065  129.951584  440671200  \n",
              "1066  134.554550  262492700  \n",
              "1067  140.894882  353332300  \n",
              "1068  142.781998  320847600  \n",
              "1069  151.498688  486015300  \n",
              "\n",
              "[1070 rows x 8 columns]"
            ],
            "text/html": [
              "\n",
              "  <div id=\"df-7884c59c-5014-47d7-bb10-ba563ae6bd71\">\n",
              "    <div class=\"colab-df-container\">\n",
              "      <div>\n",
              "<style scoped>\n",
              "    .dataframe tbody tr th:only-of-type {\n",
              "        vertical-align: middle;\n",
              "    }\n",
              "\n",
              "    .dataframe tbody tr th {\n",
              "        vertical-align: top;\n",
              "    }\n",
              "\n",
              "    .dataframe thead th {\n",
              "        text-align: right;\n",
              "    }\n",
              "</style>\n",
              "<table border=\"1\" class=\"dataframe\">\n",
              "  <thead>\n",
              "    <tr style=\"text-align: right;\">\n",
              "      <th></th>\n",
              "      <th>Symbol</th>\n",
              "      <th>Date</th>\n",
              "      <th>Open</th>\n",
              "      <th>High</th>\n",
              "      <th>Low</th>\n",
              "      <th>Close</th>\n",
              "      <th>Adj Close</th>\n",
              "      <th>Volume</th>\n",
              "    </tr>\n",
              "  </thead>\n",
              "  <tbody>\n",
              "    <tr>\n",
              "      <th>0</th>\n",
              "      <td>META</td>\n",
              "      <td>1/1/2019</td>\n",
              "      <td>128.990005</td>\n",
              "      <td>138.869995</td>\n",
              "      <td>128.559998</td>\n",
              "      <td>138.050003</td>\n",
              "      <td>138.050003</td>\n",
              "      <td>99955500</td>\n",
              "    </tr>\n",
              "    <tr>\n",
              "      <th>1</th>\n",
              "      <td>META</td>\n",
              "      <td>1/8/2019</td>\n",
              "      <td>139.889999</td>\n",
              "      <td>146.570007</td>\n",
              "      <td>139.539993</td>\n",
              "      <td>145.389999</td>\n",
              "      <td>145.389999</td>\n",
              "      <td>98023000</td>\n",
              "    </tr>\n",
              "    <tr>\n",
              "      <th>2</th>\n",
              "      <td>META</td>\n",
              "      <td>1/15/2019</td>\n",
              "      <td>146.009995</td>\n",
              "      <td>152.429993</td>\n",
              "      <td>145.990005</td>\n",
              "      <td>150.039993</td>\n",
              "      <td>150.039993</td>\n",
              "      <td>88912200</td>\n",
              "    </tr>\n",
              "    <tr>\n",
              "      <th>3</th>\n",
              "      <td>META</td>\n",
              "      <td>1/22/2019</td>\n",
              "      <td>149.199997</td>\n",
              "      <td>151.529999</td>\n",
              "      <td>142.520004</td>\n",
              "      <td>147.470001</td>\n",
              "      <td>147.470001</td>\n",
              "      <td>101178300</td>\n",
              "    </tr>\n",
              "    <tr>\n",
              "      <th>4</th>\n",
              "      <td>META</td>\n",
              "      <td>1/29/2019</td>\n",
              "      <td>148.089996</td>\n",
              "      <td>171.679993</td>\n",
              "      <td>143.429993</td>\n",
              "      <td>169.250000</td>\n",
              "      <td>169.250000</td>\n",
              "      <td>190321400</td>\n",
              "    </tr>\n",
              "    <tr>\n",
              "      <th>...</th>\n",
              "      <td>...</td>\n",
              "      <td>...</td>\n",
              "      <td>...</td>\n",
              "      <td>...</td>\n",
              "      <td>...</td>\n",
              "      <td>...</td>\n",
              "      <td>...</td>\n",
              "      <td>...</td>\n",
              "    </tr>\n",
              "    <tr>\n",
              "      <th>1065</th>\n",
              "      <td>AAPL</td>\n",
              "      <td>1/3/2023</td>\n",
              "      <td>130.279999</td>\n",
              "      <td>133.410004</td>\n",
              "      <td>124.169998</td>\n",
              "      <td>130.149994</td>\n",
              "      <td>129.951584</td>\n",
              "      <td>440671200</td>\n",
              "    </tr>\n",
              "    <tr>\n",
              "      <th>1066</th>\n",
              "      <td>AAPL</td>\n",
              "      <td>1/10/2023</td>\n",
              "      <td>130.259995</td>\n",
              "      <td>134.919998</td>\n",
              "      <td>128.119995</td>\n",
              "      <td>134.759995</td>\n",
              "      <td>134.554550</td>\n",
              "      <td>262492700</td>\n",
              "    </tr>\n",
              "    <tr>\n",
              "      <th>1067</th>\n",
              "      <td>AAPL</td>\n",
              "      <td>1/17/2023</td>\n",
              "      <td>134.830002</td>\n",
              "      <td>143.320007</td>\n",
              "      <td>133.770004</td>\n",
              "      <td>141.110001</td>\n",
              "      <td>140.894882</td>\n",
              "      <td>353332300</td>\n",
              "    </tr>\n",
              "    <tr>\n",
              "      <th>1068</th>\n",
              "      <td>AAPL</td>\n",
              "      <td>1/24/2023</td>\n",
              "      <td>140.309998</td>\n",
              "      <td>147.229996</td>\n",
              "      <td>138.809998</td>\n",
              "      <td>143.000000</td>\n",
              "      <td>142.781998</td>\n",
              "      <td>320847600</td>\n",
              "    </tr>\n",
              "    <tr>\n",
              "      <th>1069</th>\n",
              "      <td>AAPL</td>\n",
              "      <td>1/31/2023</td>\n",
              "      <td>142.699997</td>\n",
              "      <td>157.380005</td>\n",
              "      <td>141.320007</td>\n",
              "      <td>151.729996</td>\n",
              "      <td>151.498688</td>\n",
              "      <td>486015300</td>\n",
              "    </tr>\n",
              "  </tbody>\n",
              "</table>\n",
              "<p>1070 rows × 8 columns</p>\n",
              "</div>\n",
              "      <button class=\"colab-df-convert\" onclick=\"convertToInteractive('df-7884c59c-5014-47d7-bb10-ba563ae6bd71')\"\n",
              "              title=\"Convert this dataframe to an interactive table.\"\n",
              "              style=\"display:none;\">\n",
              "        \n",
              "  <svg xmlns=\"http://www.w3.org/2000/svg\" height=\"24px\"viewBox=\"0 0 24 24\"\n",
              "       width=\"24px\">\n",
              "    <path d=\"M0 0h24v24H0V0z\" fill=\"none\"/>\n",
              "    <path d=\"M18.56 5.44l.94 2.06.94-2.06 2.06-.94-2.06-.94-.94-2.06-.94 2.06-2.06.94zm-11 1L8.5 8.5l.94-2.06 2.06-.94-2.06-.94L8.5 2.5l-.94 2.06-2.06.94zm10 10l.94 2.06.94-2.06 2.06-.94-2.06-.94-.94-2.06-.94 2.06-2.06.94z\"/><path d=\"M17.41 7.96l-1.37-1.37c-.4-.4-.92-.59-1.43-.59-.52 0-1.04.2-1.43.59L10.3 9.45l-7.72 7.72c-.78.78-.78 2.05 0 2.83L4 21.41c.39.39.9.59 1.41.59.51 0 1.02-.2 1.41-.59l7.78-7.78 2.81-2.81c.8-.78.8-2.07 0-2.86zM5.41 20L4 18.59l7.72-7.72 1.47 1.35L5.41 20z\"/>\n",
              "  </svg>\n",
              "      </button>\n",
              "      \n",
              "  <style>\n",
              "    .colab-df-container {\n",
              "      display:flex;\n",
              "      flex-wrap:wrap;\n",
              "      gap: 12px;\n",
              "    }\n",
              "\n",
              "    .colab-df-convert {\n",
              "      background-color: #E8F0FE;\n",
              "      border: none;\n",
              "      border-radius: 50%;\n",
              "      cursor: pointer;\n",
              "      display: none;\n",
              "      fill: #1967D2;\n",
              "      height: 32px;\n",
              "      padding: 0 0 0 0;\n",
              "      width: 32px;\n",
              "    }\n",
              "\n",
              "    .colab-df-convert:hover {\n",
              "      background-color: #E2EBFA;\n",
              "      box-shadow: 0px 1px 2px rgba(60, 64, 67, 0.3), 0px 1px 3px 1px rgba(60, 64, 67, 0.15);\n",
              "      fill: #174EA6;\n",
              "    }\n",
              "\n",
              "    [theme=dark] .colab-df-convert {\n",
              "      background-color: #3B4455;\n",
              "      fill: #D2E3FC;\n",
              "    }\n",
              "\n",
              "    [theme=dark] .colab-df-convert:hover {\n",
              "      background-color: #434B5C;\n",
              "      box-shadow: 0px 1px 3px 1px rgba(0, 0, 0, 0.15);\n",
              "      filter: drop-shadow(0px 1px 2px rgba(0, 0, 0, 0.3));\n",
              "      fill: #FFFFFF;\n",
              "    }\n",
              "  </style>\n",
              "\n",
              "      <script>\n",
              "        const buttonEl =\n",
              "          document.querySelector('#df-7884c59c-5014-47d7-bb10-ba563ae6bd71 button.colab-df-convert');\n",
              "        buttonEl.style.display =\n",
              "          google.colab.kernel.accessAllowed ? 'block' : 'none';\n",
              "\n",
              "        async function convertToInteractive(key) {\n",
              "          const element = document.querySelector('#df-7884c59c-5014-47d7-bb10-ba563ae6bd71');\n",
              "          const dataTable =\n",
              "            await google.colab.kernel.invokeFunction('convertToInteractive',\n",
              "                                                     [key], {});\n",
              "          if (!dataTable) return;\n",
              "\n",
              "          const docLinkHtml = 'Like what you see? Visit the ' +\n",
              "            '<a target=\"_blank\" href=https://colab.research.google.com/notebooks/data_table.ipynb>data table notebook</a>'\n",
              "            + ' to learn more about interactive tables.';\n",
              "          element.innerHTML = '';\n",
              "          dataTable['output_type'] = 'display_data';\n",
              "          await google.colab.output.renderOutput(dataTable, element);\n",
              "          const docLink = document.createElement('div');\n",
              "          docLink.innerHTML = docLinkHtml;\n",
              "          element.appendChild(docLink);\n",
              "        }\n",
              "      </script>\n",
              "    </div>\n",
              "  </div>\n",
              "  "
            ]
          },
          "metadata": {},
          "execution_count": 169
        }
      ]
    },
    {
      "cell_type": "code",
      "source": [
        "metrics"
      ],
      "metadata": {
        "colab": {
          "base_uri": "https://localhost:8080/",
          "height": 424
        },
        "id": "-oqfVDCzU3Ru",
        "outputId": "2edca53d-cad7-4502-f80b-225b476a2aa5"
      },
      "execution_count": 170,
      "outputs": [
        {
          "output_type": "display_data",
          "data": {
            "text/plain": [
              "<IPython.core.display.HTML object>"
            ],
            "text/html": [
              "\n",
              "  <style>\n",
              "    pre {\n",
              "        white-space: pre-wrap;\n",
              "    }\n",
              "  </style>\n",
              "  "
            ]
          },
          "metadata": {}
        },
        {
          "output_type": "display_data",
          "data": {
            "text/plain": [
              "<IPython.core.display.HTML object>"
            ],
            "text/html": [
              "\n",
              "  <style>\n",
              "    pre {\n",
              "        white-space: pre-wrap;\n",
              "    }\n",
              "  </style>\n",
              "  "
            ]
          },
          "metadata": {}
        },
        {
          "output_type": "display_data",
          "data": {
            "text/plain": [
              "<IPython.core.display.HTML object>"
            ],
            "text/html": [
              "\n",
              "  <style>\n",
              "    pre {\n",
              "        white-space: pre-wrap;\n",
              "    }\n",
              "  </style>\n",
              "  "
            ]
          },
          "metadata": {}
        },
        {
          "output_type": "display_data",
          "data": {
            "text/plain": [
              "<IPython.core.display.HTML object>"
            ],
            "text/html": [
              "\n",
              "  <style>\n",
              "    pre {\n",
              "        white-space: pre-wrap;\n",
              "    }\n",
              "  </style>\n",
              "  "
            ]
          },
          "metadata": {}
        },
        {
          "output_type": "display_data",
          "data": {
            "text/plain": [
              "<IPython.core.display.HTML object>"
            ],
            "text/html": [
              "\n",
              "  <style>\n",
              "    pre {\n",
              "        white-space: pre-wrap;\n",
              "    }\n",
              "  </style>\n",
              "  "
            ]
          },
          "metadata": {}
        },
        {
          "output_type": "display_data",
          "data": {
            "text/plain": [
              "<IPython.core.display.HTML object>"
            ],
            "text/html": [
              "\n",
              "  <style>\n",
              "    pre {\n",
              "        white-space: pre-wrap;\n",
              "    }\n",
              "  </style>\n",
              "  "
            ]
          },
          "metadata": {}
        },
        {
          "output_type": "display_data",
          "data": {
            "text/plain": [
              "<IPython.core.display.HTML object>"
            ],
            "text/html": [
              "\n",
              "  <style>\n",
              "    pre {\n",
              "        white-space: pre-wrap;\n",
              "    }\n",
              "  </style>\n",
              "  "
            ]
          },
          "metadata": {}
        },
        {
          "output_type": "display_data",
          "data": {
            "text/plain": [
              "<IPython.core.display.HTML object>"
            ],
            "text/html": [
              "\n",
              "  <style>\n",
              "    pre {\n",
              "        white-space: pre-wrap;\n",
              "    }\n",
              "  </style>\n",
              "  "
            ]
          },
          "metadata": {}
        },
        {
          "output_type": "display_data",
          "data": {
            "text/plain": [
              "<IPython.core.display.HTML object>"
            ],
            "text/html": [
              "\n",
              "  <style>\n",
              "    pre {\n",
              "        white-space: pre-wrap;\n",
              "    }\n",
              "  </style>\n",
              "  "
            ]
          },
          "metadata": {}
        },
        {
          "output_type": "execute_result",
          "data": {
            "text/plain": [
              "   Symbol Quarter Ended  Revenue Growth (YoY)  EPS Growth  PE Ratio\n",
              "0    META    2019-03-31                0.2600     -0.4970     24.33\n",
              "1    META    2019-06-30                0.2762     -0.4770     32.28\n",
              "2    META    2019-09-30                0.2859      0.2045     28.20\n",
              "3    META    2019-12-31                0.2464      0.0802     31.67\n",
              "4    META    2020-03-31                0.1764      1.0118     22.69\n",
              "..    ...           ...                   ...         ...       ...\n",
              "75   AAPL    2021-12-31                0.1122      0.2500     28.76\n",
              "76   AAPL    2022-03-31                0.0859      0.0857     27.97\n",
              "77   AAPL    2022-06-30                0.0187     -0.0769     23.01\n",
              "78   AAPL    2022-09-30                0.0814      0.0488     24.22\n",
              "79   AAPL    2022-12-31               -0.0548     -0.1048     21.72\n",
              "\n",
              "[80 rows x 5 columns]"
            ],
            "text/html": [
              "\n",
              "  <div id=\"df-cdcd4dc4-5874-4c58-b21b-8828358c14f0\">\n",
              "    <div class=\"colab-df-container\">\n",
              "      <div>\n",
              "<style scoped>\n",
              "    .dataframe tbody tr th:only-of-type {\n",
              "        vertical-align: middle;\n",
              "    }\n",
              "\n",
              "    .dataframe tbody tr th {\n",
              "        vertical-align: top;\n",
              "    }\n",
              "\n",
              "    .dataframe thead th {\n",
              "        text-align: right;\n",
              "    }\n",
              "</style>\n",
              "<table border=\"1\" class=\"dataframe\">\n",
              "  <thead>\n",
              "    <tr style=\"text-align: right;\">\n",
              "      <th></th>\n",
              "      <th>Symbol</th>\n",
              "      <th>Quarter Ended</th>\n",
              "      <th>Revenue Growth (YoY)</th>\n",
              "      <th>EPS Growth</th>\n",
              "      <th>PE Ratio</th>\n",
              "    </tr>\n",
              "  </thead>\n",
              "  <tbody>\n",
              "    <tr>\n",
              "      <th>0</th>\n",
              "      <td>META</td>\n",
              "      <td>2019-03-31</td>\n",
              "      <td>0.2600</td>\n",
              "      <td>-0.4970</td>\n",
              "      <td>24.33</td>\n",
              "    </tr>\n",
              "    <tr>\n",
              "      <th>1</th>\n",
              "      <td>META</td>\n",
              "      <td>2019-06-30</td>\n",
              "      <td>0.2762</td>\n",
              "      <td>-0.4770</td>\n",
              "      <td>32.28</td>\n",
              "    </tr>\n",
              "    <tr>\n",
              "      <th>2</th>\n",
              "      <td>META</td>\n",
              "      <td>2019-09-30</td>\n",
              "      <td>0.2859</td>\n",
              "      <td>0.2045</td>\n",
              "      <td>28.20</td>\n",
              "    </tr>\n",
              "    <tr>\n",
              "      <th>3</th>\n",
              "      <td>META</td>\n",
              "      <td>2019-12-31</td>\n",
              "      <td>0.2464</td>\n",
              "      <td>0.0802</td>\n",
              "      <td>31.67</td>\n",
              "    </tr>\n",
              "    <tr>\n",
              "      <th>4</th>\n",
              "      <td>META</td>\n",
              "      <td>2020-03-31</td>\n",
              "      <td>0.1764</td>\n",
              "      <td>1.0118</td>\n",
              "      <td>22.69</td>\n",
              "    </tr>\n",
              "    <tr>\n",
              "      <th>...</th>\n",
              "      <td>...</td>\n",
              "      <td>...</td>\n",
              "      <td>...</td>\n",
              "      <td>...</td>\n",
              "      <td>...</td>\n",
              "    </tr>\n",
              "    <tr>\n",
              "      <th>75</th>\n",
              "      <td>AAPL</td>\n",
              "      <td>2021-12-31</td>\n",
              "      <td>0.1122</td>\n",
              "      <td>0.2500</td>\n",
              "      <td>28.76</td>\n",
              "    </tr>\n",
              "    <tr>\n",
              "      <th>76</th>\n",
              "      <td>AAPL</td>\n",
              "      <td>2022-03-31</td>\n",
              "      <td>0.0859</td>\n",
              "      <td>0.0857</td>\n",
              "      <td>27.97</td>\n",
              "    </tr>\n",
              "    <tr>\n",
              "      <th>77</th>\n",
              "      <td>AAPL</td>\n",
              "      <td>2022-06-30</td>\n",
              "      <td>0.0187</td>\n",
              "      <td>-0.0769</td>\n",
              "      <td>23.01</td>\n",
              "    </tr>\n",
              "    <tr>\n",
              "      <th>78</th>\n",
              "      <td>AAPL</td>\n",
              "      <td>2022-09-30</td>\n",
              "      <td>0.0814</td>\n",
              "      <td>0.0488</td>\n",
              "      <td>24.22</td>\n",
              "    </tr>\n",
              "    <tr>\n",
              "      <th>79</th>\n",
              "      <td>AAPL</td>\n",
              "      <td>2022-12-31</td>\n",
              "      <td>-0.0548</td>\n",
              "      <td>-0.1048</td>\n",
              "      <td>21.72</td>\n",
              "    </tr>\n",
              "  </tbody>\n",
              "</table>\n",
              "<p>80 rows × 5 columns</p>\n",
              "</div>\n",
              "      <button class=\"colab-df-convert\" onclick=\"convertToInteractive('df-cdcd4dc4-5874-4c58-b21b-8828358c14f0')\"\n",
              "              title=\"Convert this dataframe to an interactive table.\"\n",
              "              style=\"display:none;\">\n",
              "        \n",
              "  <svg xmlns=\"http://www.w3.org/2000/svg\" height=\"24px\"viewBox=\"0 0 24 24\"\n",
              "       width=\"24px\">\n",
              "    <path d=\"M0 0h24v24H0V0z\" fill=\"none\"/>\n",
              "    <path d=\"M18.56 5.44l.94 2.06.94-2.06 2.06-.94-2.06-.94-.94-2.06-.94 2.06-2.06.94zm-11 1L8.5 8.5l.94-2.06 2.06-.94-2.06-.94L8.5 2.5l-.94 2.06-2.06.94zm10 10l.94 2.06.94-2.06 2.06-.94-2.06-.94-.94-2.06-.94 2.06-2.06.94z\"/><path d=\"M17.41 7.96l-1.37-1.37c-.4-.4-.92-.59-1.43-.59-.52 0-1.04.2-1.43.59L10.3 9.45l-7.72 7.72c-.78.78-.78 2.05 0 2.83L4 21.41c.39.39.9.59 1.41.59.51 0 1.02-.2 1.41-.59l7.78-7.78 2.81-2.81c.8-.78.8-2.07 0-2.86zM5.41 20L4 18.59l7.72-7.72 1.47 1.35L5.41 20z\"/>\n",
              "  </svg>\n",
              "      </button>\n",
              "      \n",
              "  <style>\n",
              "    .colab-df-container {\n",
              "      display:flex;\n",
              "      flex-wrap:wrap;\n",
              "      gap: 12px;\n",
              "    }\n",
              "\n",
              "    .colab-df-convert {\n",
              "      background-color: #E8F0FE;\n",
              "      border: none;\n",
              "      border-radius: 50%;\n",
              "      cursor: pointer;\n",
              "      display: none;\n",
              "      fill: #1967D2;\n",
              "      height: 32px;\n",
              "      padding: 0 0 0 0;\n",
              "      width: 32px;\n",
              "    }\n",
              "\n",
              "    .colab-df-convert:hover {\n",
              "      background-color: #E2EBFA;\n",
              "      box-shadow: 0px 1px 2px rgba(60, 64, 67, 0.3), 0px 1px 3px 1px rgba(60, 64, 67, 0.15);\n",
              "      fill: #174EA6;\n",
              "    }\n",
              "\n",
              "    [theme=dark] .colab-df-convert {\n",
              "      background-color: #3B4455;\n",
              "      fill: #D2E3FC;\n",
              "    }\n",
              "\n",
              "    [theme=dark] .colab-df-convert:hover {\n",
              "      background-color: #434B5C;\n",
              "      box-shadow: 0px 1px 3px 1px rgba(0, 0, 0, 0.15);\n",
              "      filter: drop-shadow(0px 1px 2px rgba(0, 0, 0, 0.3));\n",
              "      fill: #FFFFFF;\n",
              "    }\n",
              "  </style>\n",
              "\n",
              "      <script>\n",
              "        const buttonEl =\n",
              "          document.querySelector('#df-cdcd4dc4-5874-4c58-b21b-8828358c14f0 button.colab-df-convert');\n",
              "        buttonEl.style.display =\n",
              "          google.colab.kernel.accessAllowed ? 'block' : 'none';\n",
              "\n",
              "        async function convertToInteractive(key) {\n",
              "          const element = document.querySelector('#df-cdcd4dc4-5874-4c58-b21b-8828358c14f0');\n",
              "          const dataTable =\n",
              "            await google.colab.kernel.invokeFunction('convertToInteractive',\n",
              "                                                     [key], {});\n",
              "          if (!dataTable) return;\n",
              "\n",
              "          const docLinkHtml = 'Like what you see? Visit the ' +\n",
              "            '<a target=\"_blank\" href=https://colab.research.google.com/notebooks/data_table.ipynb>data table notebook</a>'\n",
              "            + ' to learn more about interactive tables.';\n",
              "          element.innerHTML = '';\n",
              "          dataTable['output_type'] = 'display_data';\n",
              "          await google.colab.output.renderOutput(dataTable, element);\n",
              "          const docLink = document.createElement('div');\n",
              "          docLink.innerHTML = docLinkHtml;\n",
              "          element.appendChild(docLink);\n",
              "        }\n",
              "      </script>\n",
              "    </div>\n",
              "  </div>\n",
              "  "
            ]
          },
          "metadata": {},
          "execution_count": 170
        }
      ]
    },
    {
      "cell_type": "code",
      "source": [
        "## 1.1: Convert the data type of time columns to datetime using to_datatime()\n",
        "stock['Date'] = pd.to_datetime(stock['Date'])\n",
        "metrics['Quarter Ended'] = pd.to_datetime(metrics['Quarter Ended'])"
      ],
      "metadata": {
        "colab": {
          "base_uri": "https://localhost:8080/",
          "height": 17
        },
        "id": "Y9oSBx2GQ4VE",
        "outputId": "ea59951e-6af4-4baf-9584-d2a7beafa627"
      },
      "execution_count": 171,
      "outputs": [
        {
          "output_type": "display_data",
          "data": {
            "text/plain": [
              "<IPython.core.display.HTML object>"
            ],
            "text/html": [
              "\n",
              "  <style>\n",
              "    pre {\n",
              "        white-space: pre-wrap;\n",
              "    }\n",
              "  </style>\n",
              "  "
            ]
          },
          "metadata": {}
        },
        {
          "output_type": "display_data",
          "data": {
            "text/plain": [
              "<IPython.core.display.HTML object>"
            ],
            "text/html": [
              "\n",
              "  <style>\n",
              "    pre {\n",
              "        white-space: pre-wrap;\n",
              "    }\n",
              "  </style>\n",
              "  "
            ]
          },
          "metadata": {}
        },
        {
          "output_type": "display_data",
          "data": {
            "text/plain": [
              "<IPython.core.display.HTML object>"
            ],
            "text/html": [
              "\n",
              "  <style>\n",
              "    pre {\n",
              "        white-space: pre-wrap;\n",
              "    }\n",
              "  </style>\n",
              "  "
            ]
          },
          "metadata": {}
        },
        {
          "output_type": "display_data",
          "data": {
            "text/plain": [
              "<IPython.core.display.HTML object>"
            ],
            "text/html": [
              "\n",
              "  <style>\n",
              "    pre {\n",
              "        white-space: pre-wrap;\n",
              "    }\n",
              "  </style>\n",
              "  "
            ]
          },
          "metadata": {}
        },
        {
          "output_type": "display_data",
          "data": {
            "text/plain": [
              "<IPython.core.display.HTML object>"
            ],
            "text/html": [
              "\n",
              "  <style>\n",
              "    pre {\n",
              "        white-space: pre-wrap;\n",
              "    }\n",
              "  </style>\n",
              "  "
            ]
          },
          "metadata": {}
        },
        {
          "output_type": "display_data",
          "data": {
            "text/plain": [
              "<IPython.core.display.HTML object>"
            ],
            "text/html": [
              "\n",
              "  <style>\n",
              "    pre {\n",
              "        white-space: pre-wrap;\n",
              "    }\n",
              "  </style>\n",
              "  "
            ]
          },
          "metadata": {}
        },
        {
          "output_type": "display_data",
          "data": {
            "text/plain": [
              "<IPython.core.display.HTML object>"
            ],
            "text/html": [
              "\n",
              "  <style>\n",
              "    pre {\n",
              "        white-space: pre-wrap;\n",
              "    }\n",
              "  </style>\n",
              "  "
            ]
          },
          "metadata": {}
        },
        {
          "output_type": "display_data",
          "data": {
            "text/plain": [
              "<IPython.core.display.HTML object>"
            ],
            "text/html": [
              "\n",
              "  <style>\n",
              "    pre {\n",
              "        white-space: pre-wrap;\n",
              "    }\n",
              "  </style>\n",
              "  "
            ]
          },
          "metadata": {}
        },
        {
          "output_type": "display_data",
          "data": {
            "text/plain": [
              "<IPython.core.display.HTML object>"
            ],
            "text/html": [
              "\n",
              "  <style>\n",
              "    pre {\n",
              "        white-space: pre-wrap;\n",
              "    }\n",
              "  </style>\n",
              "  "
            ]
          },
          "metadata": {}
        }
      ]
    },
    {
      "cell_type": "code",
      "source": [
        "# Define a function that create a candlestick chart for a company \n",
        "def create_candlestick_chart(symbol):\n",
        "    \n",
        "    ## 2.1 Create the data source and set the basic properties of the figure\n",
        "\n",
        "    # Use ColumnDataSource to create the data source\n",
        "    # The dataframe is not directly used as source here\n",
        "    # because you'll use CDSView filter later\n",
        "    # which works with ColumnDataSource\n",
        "    data = stock[stock.Symbol == symbol]\n",
        "    source = ColumnDataSource(data)\n",
        "    \n",
        "    \n",
        "    p = figure(\n",
        "        width=800, \n",
        "        height=400, \n",
        "        title=symbol, \n",
        "        # Specify the x range to be (min date, max date)\n",
        "        # so that you can refer to this range in other plots\n",
        "        x_range=(data[\"Date\"].min(), data[\"Date\"].max()),            \n",
        "        # Set the x axis to show date time\n",
        "        x_axis_type=\"datetime\", \n",
        "        # Put the x axis to be at the top of the plot\n",
        "        x_axis_location= \"above\",\n",
        "        background_fill_color = '#fbfbfb',\n",
        "        tools=\"pan,wheel_zoom,reset\", \n",
        "        toolbar_location='right',\n",
        "    )\n",
        "    \n",
        "    p.xgrid.grid_line_color='#e5e5e5'\n",
        "    p.ygrid.grid_line_alpha=0.5\n",
        "    p.xaxis.major_label_text_font_size = '10px'\n",
        "    p.yaxis.axis_label = 'Stock Price in USD'\n",
        "    p.yaxis.formatter = NumeralTickFormatter(format=\"($ 0,0 a)\")\n",
        "    \n",
        "    ## 2.2: Manually set the y axis range \n",
        "    \n",
        "    # Make it larger than the (min, max) range of the data\n",
        "    # e.g. (min * 0.9, max * 1.1)\n",
        "    # https://docs.bokeh.org/en/3.0.3/docs/reference/models/ranges.html#bokeh.models.DataRange1d\n",
        "    p.y_range.start = data.Low.min() * 0.9\n",
        "    p.y_range.end = data.High.max() * 1.1\n",
        "    \n",
        "    ## 2.3: Use CDSView to create two filters on the stock data\n",
        "    \n",
        "    # 'inc' keeps the data where the close price is higher than the open price\n",
        "    # 'dec' does the opposite of 'inc' \n",
        "    # https://docs.bokeh.org/en/latest/docs/user_guide/basic/data.html#filtering-data\n",
        "\n",
        "    inc = source.data['Close'] > source.data['Open']\n",
        "    dec = source.data['Close'] < source.data['Open']\n",
        "    \n",
        "    inc_view = CDSView(source=source, filters=[BooleanFilter(inc)])\n",
        "    dec_view =  CDSView(source=source, filters=[BooleanFilter(dec)])\n",
        "\n",
        "    ## 2.4: Draw the glyphs in the candlesticks\n",
        "\n",
        "    # A candlestick consists of a segment and a vbar\n",
        "    \n",
        "    # Set the width of the vbar\n",
        "    # Note that the unit of datetime axis is milliseconds\n",
        "    # while the interval of the stock data is week\n",
        "    # w = 6.048e+8 # 7 Days in ms\n",
        "    w = 5.616e+8 # 6.5 Days in ms for a cleaner look. Candles are separate when you zoom in.\n",
        "    \n",
        "    # Draw the segement and the vbar\n",
        "    # inc vbars are green, dec vbars are red\n",
        "    stock_segment = p.segment(x0='Date', x1='Date', y0='High', y1='Low', width=2, color=\"black\", source=source)\n",
        "\n",
        "    stock_inc = p.vbar(x='Date', width=w, top='Open', bottom='Close', fill_color=\"green\", line_color=\"green\", name=\"price\", source=source,view=inc_view)\n",
        "\n",
        "    stock_dec = p.vbar(x='Date', width=w, top='Open', bottom='Close', fill_color=\"red\", line_color=\"red\", name=\"price\", source=source,view=dec_view)\n",
        "\n",
        "\n",
        "    ## 2.5: Add volume bars in the candlestick chart\n",
        "    \n",
        "    # Note that volume data is different from stock price data in unit and scale\n",
        "    # You'll create a twin y axis for volume on the right side of the chart\n",
        "    # https://docs.bokeh.org/en/3.0.2/docs/user_guide/basic/axes.html#twin-axes\n",
        "    # https://docs.bokeh.org/en/latest/docs/reference/models/axes.html#bokeh.models.LinearAxis\n",
        "\n",
        "    y_volume = data.Volume\n",
        "    p.extra_y_ranges['volume'] =  Range1d(start=y_volume.min(), end=y_volume.max())\n",
        "    \n",
        "    # TODO\n",
        "    y_volume_axis =  LinearAxis(\n",
        "        y_range_name=\"volume\",\n",
        "        axis_label=\"Volume\",\n",
        "        formatter=NumeralTickFormatter(format=\"0a\"),\n",
        "    )\n",
        "\n",
        "    \n",
        "    p.add_layout(y_volume_axis, 'right')\n",
        "    \n",
        "    stock_volume = p.vbar(\n",
        "         x=\"Date\",\n",
        "        top=\"Volume\",\n",
        "        y_range_name=\"volume\",\n",
        "        source=source,\n",
        "        width=0.5,\n",
        "        alpha=0.2,\n",
        "        line_color=\"grey\",\n",
        "    )\n",
        "    \n",
        "    ## 2.6: Add a hover tool for the candlesticks\n",
        "\n",
        "    # https://stackoverflow.com/questions/61175554/how-to-get-bokeh-hovertool-working-for-candlesticks-chart\n",
        "    hover_stock = HoverTool()\n",
        "    hover_stock.tooltips = [\n",
        "        (\"Date\", \"@Date{%Y-%m-%d}\"),\n",
        "        (\"Open\", \"@Open{($0,0)}\"),\n",
        "        (\"Close\", \"@Close{($0,0)}\"),\n",
        "        (\"High\", \"@High{($0,0)}\"),\n",
        "        (\"Low\", \"@Low{($0,0)}\"),\n",
        "        (\"Volume\", \"@Volume{($0,0 a)}\"),\n",
        "    ]\n",
        "    hover_stock.formatters = {\n",
        "        \"@Date\": \"datetime\",\n",
        "    }\n",
        "\n",
        "    # This hover tool only shows tooltips on the vbars in the candlesticks, thus you need to specify the renderers\n",
        "    hover_stock.renderers = [\n",
        "        stock_inc, stock_dec\n",
        "    ]\n",
        "    p.add_tools(hover_stock)\n",
        "    \n",
        "    p.output_backend = 'svg'\n",
        "    \n",
        "    return p"
      ],
      "metadata": {
        "colab": {
          "base_uri": "https://localhost:8080/",
          "height": 17
        },
        "id": "8ajCvz7BTCG5",
        "outputId": "025e4cbe-ea7c-44f5-92e8-5fe68f08aeca"
      },
      "execution_count": 172,
      "outputs": [
        {
          "output_type": "display_data",
          "data": {
            "text/plain": [
              "<IPython.core.display.HTML object>"
            ],
            "text/html": [
              "\n",
              "  <style>\n",
              "    pre {\n",
              "        white-space: pre-wrap;\n",
              "    }\n",
              "  </style>\n",
              "  "
            ]
          },
          "metadata": {}
        },
        {
          "output_type": "display_data",
          "data": {
            "text/plain": [
              "<IPython.core.display.HTML object>"
            ],
            "text/html": [
              "\n",
              "  <style>\n",
              "    pre {\n",
              "        white-space: pre-wrap;\n",
              "    }\n",
              "  </style>\n",
              "  "
            ]
          },
          "metadata": {}
        },
        {
          "output_type": "display_data",
          "data": {
            "text/plain": [
              "<IPython.core.display.HTML object>"
            ],
            "text/html": [
              "\n",
              "  <style>\n",
              "    pre {\n",
              "        white-space: pre-wrap;\n",
              "    }\n",
              "  </style>\n",
              "  "
            ]
          },
          "metadata": {}
        },
        {
          "output_type": "display_data",
          "data": {
            "text/plain": [
              "<IPython.core.display.HTML object>"
            ],
            "text/html": [
              "\n",
              "  <style>\n",
              "    pre {\n",
              "        white-space: pre-wrap;\n",
              "    }\n",
              "  </style>\n",
              "  "
            ]
          },
          "metadata": {}
        },
        {
          "output_type": "display_data",
          "data": {
            "text/plain": [
              "<IPython.core.display.HTML object>"
            ],
            "text/html": [
              "\n",
              "  <style>\n",
              "    pre {\n",
              "        white-space: pre-wrap;\n",
              "    }\n",
              "  </style>\n",
              "  "
            ]
          },
          "metadata": {}
        },
        {
          "output_type": "display_data",
          "data": {
            "text/plain": [
              "<IPython.core.display.HTML object>"
            ],
            "text/html": [
              "\n",
              "  <style>\n",
              "    pre {\n",
              "        white-space: pre-wrap;\n",
              "    }\n",
              "  </style>\n",
              "  "
            ]
          },
          "metadata": {}
        },
        {
          "output_type": "display_data",
          "data": {
            "text/plain": [
              "<IPython.core.display.HTML object>"
            ],
            "text/html": [
              "\n",
              "  <style>\n",
              "    pre {\n",
              "        white-space: pre-wrap;\n",
              "    }\n",
              "  </style>\n",
              "  "
            ]
          },
          "metadata": {}
        },
        {
          "output_type": "display_data",
          "data": {
            "text/plain": [
              "<IPython.core.display.HTML object>"
            ],
            "text/html": [
              "\n",
              "  <style>\n",
              "    pre {\n",
              "        white-space: pre-wrap;\n",
              "    }\n",
              "  </style>\n",
              "  "
            ]
          },
          "metadata": {}
        },
        {
          "output_type": "display_data",
          "data": {
            "text/plain": [
              "<IPython.core.display.HTML object>"
            ],
            "text/html": [
              "\n",
              "  <style>\n",
              "    pre {\n",
              "        white-space: pre-wrap;\n",
              "    }\n",
              "  </style>\n",
              "  "
            ]
          },
          "metadata": {}
        }
      ]
    },
    {
      "cell_type": "code",
      "source": [
        "# Task 3: Add Metrics Plot to the Candlestick Chart\n",
        "\n",
        "def add_metrics_plot(main_plot):\n",
        "    \n",
        "    p = main_plot\n",
        "    symbol = p.title.text\n",
        "\n",
        "    # See how bokeh deals with data source containing nan values\n",
        "    # https://docs.bokeh.org/en/latest/docs/user_guide/basic/lines.html#missing-points\n",
        "    # Note that this might not work if the source is created from ColumnDataSource\n",
        "    data = metrics[metrics.Symbol == symbol]\n",
        "    source = ColumnDataSource(data)\n",
        "    \n",
        "    ## 3.1: Set the y axes for the metrics\n",
        "\n",
        "    # 'PE Ration' and 'EPS Growth' also have different units from the stock price\n",
        "    # You'll set a y axis for each metric\n",
        "    # and make the extra y axes invisible\n",
        "    y_pe = source.data['PE Ratio']\n",
        "    y_eps = source.data['EPS Growth']\n",
        "    \n",
        "    p.extra_y_ranges['pe'] = Range1d(y_pe.min() * 0.9, y_pe.max() * 1.1)\n",
        "    p.extra_y_ranges['eps'] = Range1d(y_eps.min() * 0.9, y_eps.max() * 1.1)\n",
        "\n",
        "    \n",
        "    y_pe_axis = LinearAxis( y_range_name=\"pe\",\n",
        "        visible=False)\n",
        "\n",
        "    y_eps_axis = LinearAxis( y_range_name=\"eps\",\n",
        "        visible=False)\n",
        "    \n",
        "    ## 3.2 Use scatter and line glyphs to plot the metrics\n",
        "    pe_l = p.line(\n",
        "      source=source,\n",
        "      y_range_name=\"pe\",\n",
        "      x=\"Quarter Ended\",\n",
        "      y=\"PE Ratio\",\n",
        "      legend_label = \"PE Ratio\",\n",
        "        line_color=\"grey\",\n",
        "    )\n",
        "    \n",
        "    pe_c = p.circle(\n",
        " source=source,\n",
        "      y_range_name=\"pe\",\n",
        "      x=\"Quarter Ended\",\n",
        "      y=\"PE Ratio\",\n",
        "      legend_label = \"PE Ratio\",\n",
        "      line_color=\"grey\", fill_color=\"white\", line_width=1\n",
        "    )\n",
        "    \n",
        "    eps_l = p.line(\n",
        "      source=source,\n",
        "      y_range_name=\"eps\",\n",
        "      x=\"Quarter Ended\",\n",
        "      y=\"EPS Growth\",\n",
        "      legend_label = \"EPS Growth\",\n",
        "        line_color=\"grey\",\n",
        "\n",
        "    )\n",
        "    \n",
        "    eps_c = p.circle(\n",
        "        source=source,\n",
        "      y_range_name=\"eps\",\n",
        "      x=\"Quarter Ended\",\n",
        "      y=\"EPS Growth\",\n",
        "      legend_label = \"EPS Growth\",\n",
        "      line_color=\"grey\", fill_color=\"grey\", line_width=1\n",
        "    )\n",
        "     ## 3.3: Make the legend of metrics interactive\n",
        "    \n",
        "    # Click on a legend to mute the corresponding glyph(s)\n",
        "    # https://docs.bokeh.org/en/latest/docs/user_guide/interaction/legends.html#hiding-glyphs\n",
        "    p.legend.click_policy= \"mute\"\n",
        "\n",
        "    # Set the attributes of the legend to adjust its postion, color and size\n",
        "    # https://docs.bokeh.org/en/latest/docs/reference/models/annotations.html#bokeh.models.Legend\n",
        "    p.legend.location = 'top_left'\n",
        "    p.legend.orientation = 'horizontal'\n",
        "    p.legend.background_fill_alpha = 0\n",
        "    p.legend.border_line_alpha = 0\n",
        "    p.legend.label_text_font_size = '10px'\n",
        "    p.legend.glyph_width = 16\n",
        "    \n",
        "    ## 3.4: Add a hovertool for the scatter glyphs\n",
        "\n",
        "    metrics_hover = HoverTool()\n",
        "    metrics_hover.tooltips=[\n",
        "        (\"Quarter Ended\", \"@{Quarter Ended}{%Y-%m-%d}\"),\n",
        "        (\"PE Ratio\", \"@{PE Ratio}\"),\n",
        "        (\"EPS Growth\", \"@{EPS Growth}\"),\n",
        "    ]\n",
        "    metrics_hover.formatters={\n",
        "       \"@{Quarter Ended}\": \"datetime\",\n",
        "    }\n",
        "    metrics_hover.mode='mouse' \n",
        "    metrics_hover.renderers = [pe_c, eps_c]                \n",
        "    p.add_tools(metrics_hover) \n",
        "    \n",
        "    return p\n"
      ],
      "metadata": {
        "colab": {
          "base_uri": "https://localhost:8080/",
          "height": 17
        },
        "id": "BBQWNYojmLK5",
        "outputId": "4c386d70-050a-4156-de0d-7d1199e37c89"
      },
      "execution_count": 173,
      "outputs": [
        {
          "output_type": "display_data",
          "data": {
            "text/plain": [
              "<IPython.core.display.HTML object>"
            ],
            "text/html": [
              "\n",
              "  <style>\n",
              "    pre {\n",
              "        white-space: pre-wrap;\n",
              "    }\n",
              "  </style>\n",
              "  "
            ]
          },
          "metadata": {}
        },
        {
          "output_type": "display_data",
          "data": {
            "text/plain": [
              "<IPython.core.display.HTML object>"
            ],
            "text/html": [
              "\n",
              "  <style>\n",
              "    pre {\n",
              "        white-space: pre-wrap;\n",
              "    }\n",
              "  </style>\n",
              "  "
            ]
          },
          "metadata": {}
        },
        {
          "output_type": "display_data",
          "data": {
            "text/plain": [
              "<IPython.core.display.HTML object>"
            ],
            "text/html": [
              "\n",
              "  <style>\n",
              "    pre {\n",
              "        white-space: pre-wrap;\n",
              "    }\n",
              "  </style>\n",
              "  "
            ]
          },
          "metadata": {}
        },
        {
          "output_type": "display_data",
          "data": {
            "text/plain": [
              "<IPython.core.display.HTML object>"
            ],
            "text/html": [
              "\n",
              "  <style>\n",
              "    pre {\n",
              "        white-space: pre-wrap;\n",
              "    }\n",
              "  </style>\n",
              "  "
            ]
          },
          "metadata": {}
        },
        {
          "output_type": "display_data",
          "data": {
            "text/plain": [
              "<IPython.core.display.HTML object>"
            ],
            "text/html": [
              "\n",
              "  <style>\n",
              "    pre {\n",
              "        white-space: pre-wrap;\n",
              "    }\n",
              "  </style>\n",
              "  "
            ]
          },
          "metadata": {}
        },
        {
          "output_type": "display_data",
          "data": {
            "text/plain": [
              "<IPython.core.display.HTML object>"
            ],
            "text/html": [
              "\n",
              "  <style>\n",
              "    pre {\n",
              "        white-space: pre-wrap;\n",
              "    }\n",
              "  </style>\n",
              "  "
            ]
          },
          "metadata": {}
        },
        {
          "output_type": "display_data",
          "data": {
            "text/plain": [
              "<IPython.core.display.HTML object>"
            ],
            "text/html": [
              "\n",
              "  <style>\n",
              "    pre {\n",
              "        white-space: pre-wrap;\n",
              "    }\n",
              "  </style>\n",
              "  "
            ]
          },
          "metadata": {}
        },
        {
          "output_type": "display_data",
          "data": {
            "text/plain": [
              "<IPython.core.display.HTML object>"
            ],
            "text/html": [
              "\n",
              "  <style>\n",
              "    pre {\n",
              "        white-space: pre-wrap;\n",
              "    }\n",
              "  </style>\n",
              "  "
            ]
          },
          "metadata": {}
        },
        {
          "output_type": "display_data",
          "data": {
            "text/plain": [
              "<IPython.core.display.HTML object>"
            ],
            "text/html": [
              "\n",
              "  <style>\n",
              "    pre {\n",
              "        white-space: pre-wrap;\n",
              "    }\n",
              "  </style>\n",
              "  "
            ]
          },
          "metadata": {}
        }
      ]
    },
    {
      "cell_type": "code",
      "source": [
        "if __name__ == \"__main__\":\n",
        "  p = create_candlestick_chart('AAPL')\n",
        "  p = add_metrics_plot(p)\n",
        "  #p = add_select_range(p)\n",
        "#output_file('dvc_ex2.html')\n",
        "#save(p)\n",
        "  show(p)"
      ],
      "metadata": {
        "colab": {
          "base_uri": "https://localhost:8080/",
          "height": 437
        },
        "id": "BIJsjIsLbTc9",
        "outputId": "d762dcf8-511d-42c7-f1c8-e2ba96bb66d0"
      },
      "execution_count": 174,
      "outputs": [
        {
          "output_type": "display_data",
          "data": {
            "text/plain": [
              "<IPython.core.display.HTML object>"
            ],
            "text/html": [
              "\n",
              "  <style>\n",
              "    pre {\n",
              "        white-space: pre-wrap;\n",
              "    }\n",
              "  </style>\n",
              "  "
            ]
          },
          "metadata": {}
        },
        {
          "output_type": "display_data",
          "data": {
            "text/plain": [
              "<IPython.core.display.HTML object>"
            ],
            "text/html": [
              "\n",
              "  <style>\n",
              "    pre {\n",
              "        white-space: pre-wrap;\n",
              "    }\n",
              "  </style>\n",
              "  "
            ]
          },
          "metadata": {}
        },
        {
          "output_type": "display_data",
          "data": {
            "text/plain": [
              "<IPython.core.display.HTML object>"
            ],
            "text/html": [
              "\n",
              "  <style>\n",
              "    pre {\n",
              "        white-space: pre-wrap;\n",
              "    }\n",
              "  </style>\n",
              "  "
            ]
          },
          "metadata": {}
        },
        {
          "output_type": "display_data",
          "data": {
            "text/plain": [
              "<IPython.core.display.HTML object>"
            ],
            "text/html": [
              "\n",
              "  <style>\n",
              "    pre {\n",
              "        white-space: pre-wrap;\n",
              "    }\n",
              "  </style>\n",
              "  "
            ]
          },
          "metadata": {}
        },
        {
          "output_type": "display_data",
          "data": {
            "text/plain": [
              "<IPython.core.display.HTML object>"
            ],
            "text/html": [
              "\n",
              "  <style>\n",
              "    pre {\n",
              "        white-space: pre-wrap;\n",
              "    }\n",
              "  </style>\n",
              "  "
            ]
          },
          "metadata": {}
        },
        {
          "output_type": "display_data",
          "data": {
            "text/plain": [
              "<IPython.core.display.HTML object>"
            ],
            "text/html": [
              "\n",
              "  <style>\n",
              "    pre {\n",
              "        white-space: pre-wrap;\n",
              "    }\n",
              "  </style>\n",
              "  "
            ]
          },
          "metadata": {}
        },
        {
          "output_type": "display_data",
          "data": {
            "text/plain": [
              "<IPython.core.display.HTML object>"
            ],
            "text/html": [
              "\n",
              "  <style>\n",
              "    pre {\n",
              "        white-space: pre-wrap;\n",
              "    }\n",
              "  </style>\n",
              "  "
            ]
          },
          "metadata": {}
        },
        {
          "output_type": "display_data",
          "data": {
            "text/plain": [
              "<IPython.core.display.HTML object>"
            ],
            "text/html": [
              "\n",
              "  <style>\n",
              "    pre {\n",
              "        white-space: pre-wrap;\n",
              "    }\n",
              "  </style>\n",
              "  "
            ]
          },
          "metadata": {}
        },
        {
          "output_type": "display_data",
          "data": {
            "text/plain": [
              "<IPython.core.display.HTML object>"
            ],
            "text/html": [
              "\n",
              "  <style>\n",
              "    pre {\n",
              "        white-space: pre-wrap;\n",
              "    }\n",
              "  </style>\n",
              "  "
            ]
          },
          "metadata": {}
        },
        {
          "output_type": "display_data",
          "data": {
            "application/javascript": [
              "(function(root) {\n",
              "  function now() {\n",
              "    return new Date();\n",
              "  }\n",
              "\n",
              "  const force = true;\n",
              "\n",
              "  if (typeof root._bokeh_onload_callbacks === \"undefined\" || force === true) {\n",
              "    root._bokeh_onload_callbacks = [];\n",
              "    root._bokeh_is_loading = undefined;\n",
              "  }\n",
              "\n",
              "const JS_MIME_TYPE = 'application/javascript';\n",
              "  const HTML_MIME_TYPE = 'text/html';\n",
              "  const EXEC_MIME_TYPE = 'application/vnd.bokehjs_exec.v0+json';\n",
              "  const CLASS_NAME = 'output_bokeh rendered_html';\n",
              "\n",
              "  /**\n",
              "   * Render data to the DOM node\n",
              "   */\n",
              "  function render(props, node) {\n",
              "    const script = document.createElement(\"script\");\n",
              "    node.appendChild(script);\n",
              "  }\n",
              "\n",
              "  /**\n",
              "   * Handle when an output is cleared or removed\n",
              "   */\n",
              "  function handleClearOutput(event, handle) {\n",
              "    const cell = handle.cell;\n",
              "\n",
              "    const id = cell.output_area._bokeh_element_id;\n",
              "    const server_id = cell.output_area._bokeh_server_id;\n",
              "    // Clean up Bokeh references\n",
              "    if (id != null && id in Bokeh.index) {\n",
              "      Bokeh.index[id].model.document.clear();\n",
              "      delete Bokeh.index[id];\n",
              "    }\n",
              "\n",
              "    if (server_id !== undefined) {\n",
              "      // Clean up Bokeh references\n",
              "      const cmd_clean = \"from bokeh.io.state import curstate; print(curstate().uuid_to_server['\" + server_id + \"'].get_sessions()[0].document.roots[0]._id)\";\n",
              "      cell.notebook.kernel.execute(cmd_clean, {\n",
              "        iopub: {\n",
              "          output: function(msg) {\n",
              "            const id = msg.content.text.trim();\n",
              "            if (id in Bokeh.index) {\n",
              "              Bokeh.index[id].model.document.clear();\n",
              "              delete Bokeh.index[id];\n",
              "            }\n",
              "          }\n",
              "        }\n",
              "      });\n",
              "      // Destroy server and session\n",
              "      const cmd_destroy = \"import bokeh.io.notebook as ion; ion.destroy_server('\" + server_id + \"')\";\n",
              "      cell.notebook.kernel.execute(cmd_destroy);\n",
              "    }\n",
              "  }\n",
              "\n",
              "  /**\n",
              "   * Handle when a new output is added\n",
              "   */\n",
              "  function handleAddOutput(event, handle) {\n",
              "    const output_area = handle.output_area;\n",
              "    const output = handle.output;\n",
              "\n",
              "    // limit handleAddOutput to display_data with EXEC_MIME_TYPE content only\n",
              "    if ((output.output_type != \"display_data\") || (!Object.prototype.hasOwnProperty.call(output.data, EXEC_MIME_TYPE))) {\n",
              "      return\n",
              "    }\n",
              "\n",
              "    const toinsert = output_area.element.find(\".\" + CLASS_NAME.split(' ')[0]);\n",
              "\n",
              "    if (output.metadata[EXEC_MIME_TYPE][\"id\"] !== undefined) {\n",
              "      toinsert[toinsert.length - 1].firstChild.textContent = output.data[JS_MIME_TYPE];\n",
              "      // store reference to embed id on output_area\n",
              "      output_area._bokeh_element_id = output.metadata[EXEC_MIME_TYPE][\"id\"];\n",
              "    }\n",
              "    if (output.metadata[EXEC_MIME_TYPE][\"server_id\"] !== undefined) {\n",
              "      const bk_div = document.createElement(\"div\");\n",
              "      bk_div.innerHTML = output.data[HTML_MIME_TYPE];\n",
              "      const script_attrs = bk_div.children[0].attributes;\n",
              "      for (let i = 0; i < script_attrs.length; i++) {\n",
              "        toinsert[toinsert.length - 1].firstChild.setAttribute(script_attrs[i].name, script_attrs[i].value);\n",
              "        toinsert[toinsert.length - 1].firstChild.textContent = bk_div.children[0].textContent\n",
              "      }\n",
              "      // store reference to server id on output_area\n",
              "      output_area._bokeh_server_id = output.metadata[EXEC_MIME_TYPE][\"server_id\"];\n",
              "    }\n",
              "  }\n",
              "\n",
              "  function register_renderer(events, OutputArea) {\n",
              "\n",
              "    function append_mime(data, metadata, element) {\n",
              "      // create a DOM node to render to\n",
              "      const toinsert = this.create_output_subarea(\n",
              "        metadata,\n",
              "        CLASS_NAME,\n",
              "        EXEC_MIME_TYPE\n",
              "      );\n",
              "      this.keyboard_manager.register_events(toinsert);\n",
              "      // Render to node\n",
              "      const props = {data: data, metadata: metadata[EXEC_MIME_TYPE]};\n",
              "      render(props, toinsert[toinsert.length - 1]);\n",
              "      element.append(toinsert);\n",
              "      return toinsert\n",
              "    }\n",
              "\n",
              "    /* Handle when an output is cleared or removed */\n",
              "    events.on('clear_output.CodeCell', handleClearOutput);\n",
              "    events.on('delete.Cell', handleClearOutput);\n",
              "\n",
              "    /* Handle when a new output is added */\n",
              "    events.on('output_added.OutputArea', handleAddOutput);\n",
              "\n",
              "    /**\n",
              "     * Register the mime type and append_mime function with output_area\n",
              "     */\n",
              "    OutputArea.prototype.register_mime_type(EXEC_MIME_TYPE, append_mime, {\n",
              "      /* Is output safe? */\n",
              "      safe: true,\n",
              "      /* Index of renderer in `output_area.display_order` */\n",
              "      index: 0\n",
              "    });\n",
              "  }\n",
              "\n",
              "  // register the mime type if in Jupyter Notebook environment and previously unregistered\n",
              "  if (root.Jupyter !== undefined) {\n",
              "    const events = require('base/js/events');\n",
              "    const OutputArea = require('notebook/js/outputarea').OutputArea;\n",
              "\n",
              "    if (OutputArea.prototype.mime_types().indexOf(EXEC_MIME_TYPE) == -1) {\n",
              "      register_renderer(events, OutputArea);\n",
              "    }\n",
              "  }\n",
              "  if (typeof (root._bokeh_timeout) === \"undefined\" || force === true) {\n",
              "    root._bokeh_timeout = Date.now() + 5000;\n",
              "    root._bokeh_failed_load = false;\n",
              "  }\n",
              "\n",
              "  const NB_LOAD_WARNING = {'data': {'text/html':\n",
              "     \"<div style='background-color: #fdd'>\\n\"+\n",
              "     \"<p>\\n\"+\n",
              "     \"BokehJS does not appear to have successfully loaded. If loading BokehJS from CDN, this \\n\"+\n",
              "     \"may be due to a slow or bad network connection. Possible fixes:\\n\"+\n",
              "     \"</p>\\n\"+\n",
              "     \"<ul>\\n\"+\n",
              "     \"<li>re-rerun `output_notebook()` to attempt to load from CDN again, or</li>\\n\"+\n",
              "     \"<li>use INLINE resources instead, as so:</li>\\n\"+\n",
              "     \"</ul>\\n\"+\n",
              "     \"<code>\\n\"+\n",
              "     \"from bokeh.resources import INLINE\\n\"+\n",
              "     \"output_notebook(resources=INLINE)\\n\"+\n",
              "     \"</code>\\n\"+\n",
              "     \"</div>\"}};\n",
              "\n",
              "  function display_loaded() {\n",
              "    const el = document.getElementById(null);\n",
              "    if (el != null) {\n",
              "      el.textContent = \"BokehJS is loading...\";\n",
              "    }\n",
              "    if (root.Bokeh !== undefined) {\n",
              "      if (el != null) {\n",
              "        el.textContent = \"BokehJS \" + root.Bokeh.version + \" successfully loaded.\";\n",
              "      }\n",
              "    } else if (Date.now() < root._bokeh_timeout) {\n",
              "      setTimeout(display_loaded, 100)\n",
              "    }\n",
              "  }\n",
              "\n",
              "  function run_callbacks() {\n",
              "    try {\n",
              "      root._bokeh_onload_callbacks.forEach(function(callback) {\n",
              "        if (callback != null)\n",
              "          callback();\n",
              "      });\n",
              "    } finally {\n",
              "      delete root._bokeh_onload_callbacks\n",
              "    }\n",
              "    console.debug(\"Bokeh: all callbacks have finished\");\n",
              "  }\n",
              "\n",
              "  function load_libs(css_urls, js_urls, callback) {\n",
              "    if (css_urls == null) css_urls = [];\n",
              "    if (js_urls == null) js_urls = [];\n",
              "\n",
              "    root._bokeh_onload_callbacks.push(callback);\n",
              "    if (root._bokeh_is_loading > 0) {\n",
              "      console.debug(\"Bokeh: BokehJS is being loaded, scheduling callback at\", now());\n",
              "      return null;\n",
              "    }\n",
              "    if (js_urls == null || js_urls.length === 0) {\n",
              "      run_callbacks();\n",
              "      return null;\n",
              "    }\n",
              "    console.debug(\"Bokeh: BokehJS not loaded, scheduling load and callback at\", now());\n",
              "    root._bokeh_is_loading = css_urls.length + js_urls.length;\n",
              "\n",
              "    function on_load() {\n",
              "      root._bokeh_is_loading--;\n",
              "      if (root._bokeh_is_loading === 0) {\n",
              "        console.debug(\"Bokeh: all BokehJS libraries/stylesheets loaded\");\n",
              "        run_callbacks()\n",
              "      }\n",
              "    }\n",
              "\n",
              "    function on_error(url) {\n",
              "      console.error(\"failed to load \" + url);\n",
              "    }\n",
              "\n",
              "    for (let i = 0; i < css_urls.length; i++) {\n",
              "      const url = css_urls[i];\n",
              "      const element = document.createElement(\"link\");\n",
              "      element.onload = on_load;\n",
              "      element.onerror = on_error.bind(null, url);\n",
              "      element.rel = \"stylesheet\";\n",
              "      element.type = \"text/css\";\n",
              "      element.href = url;\n",
              "      console.debug(\"Bokeh: injecting link tag for BokehJS stylesheet: \", url);\n",
              "      document.body.appendChild(element);\n",
              "    }\n",
              "\n",
              "    for (let i = 0; i < js_urls.length; i++) {\n",
              "      const url = js_urls[i];\n",
              "      const element = document.createElement('script');\n",
              "      element.onload = on_load;\n",
              "      element.onerror = on_error.bind(null, url);\n",
              "      element.async = false;\n",
              "      element.src = url;\n",
              "      console.debug(\"Bokeh: injecting script tag for BokehJS library: \", url);\n",
              "      document.head.appendChild(element);\n",
              "    }\n",
              "  };\n",
              "\n",
              "  function inject_raw_css(css) {\n",
              "    const element = document.createElement(\"style\");\n",
              "    element.appendChild(document.createTextNode(css));\n",
              "    document.body.appendChild(element);\n",
              "  }\n",
              "\n",
              "  const js_urls = [\"https://cdn.bokeh.org/bokeh/release/bokeh-2.4.3.min.js\", \"https://cdn.bokeh.org/bokeh/release/bokeh-gl-2.4.3.min.js\", \"https://cdn.bokeh.org/bokeh/release/bokeh-widgets-2.4.3.min.js\", \"https://cdn.bokeh.org/bokeh/release/bokeh-tables-2.4.3.min.js\", \"https://cdn.bokeh.org/bokeh/release/bokeh-mathjax-2.4.3.min.js\"];\n",
              "  const css_urls = [];\n",
              "\n",
              "  const inline_js = [    function(Bokeh) {\n",
              "      Bokeh.set_log_level(\"info\");\n",
              "    },\n",
              "function(Bokeh) {\n",
              "    }\n",
              "  ];\n",
              "\n",
              "  function run_inline_js() {\n",
              "    if (root.Bokeh !== undefined || force === true) {\n",
              "          for (let i = 0; i < inline_js.length; i++) {\n",
              "      inline_js[i].call(root, root.Bokeh);\n",
              "    }\n",
              "} else if (Date.now() < root._bokeh_timeout) {\n",
              "      setTimeout(run_inline_js, 100);\n",
              "    } else if (!root._bokeh_failed_load) {\n",
              "      console.log(\"Bokeh: BokehJS failed to load within specified timeout.\");\n",
              "      root._bokeh_failed_load = true;\n",
              "    } else if (force !== true) {\n",
              "      const cell = $(document.getElementById(null)).parents('.cell').data().cell;\n",
              "      cell.output_area.append_execute_result(NB_LOAD_WARNING)\n",
              "    }\n",
              "  }\n",
              "\n",
              "  if (root._bokeh_is_loading === 0) {\n",
              "    console.debug(\"Bokeh: BokehJS loaded, going straight to plotting\");\n",
              "    run_inline_js();\n",
              "  } else {\n",
              "    load_libs(css_urls, js_urls, function() {\n",
              "      console.debug(\"Bokeh: BokehJS plotting callback run at\", now());\n",
              "      run_inline_js();\n",
              "    });\n",
              "  }\n",
              "}(window));"
            ],
            "application/vnd.bokehjs_load.v0+json": "(function(root) {\n  function now() {\n    return new Date();\n  }\n\n  const force = true;\n\n  if (typeof root._bokeh_onload_callbacks === \"undefined\" || force === true) {\n    root._bokeh_onload_callbacks = [];\n    root._bokeh_is_loading = undefined;\n  }\n\n\n  if (typeof (root._bokeh_timeout) === \"undefined\" || force === true) {\n    root._bokeh_timeout = Date.now() + 5000;\n    root._bokeh_failed_load = false;\n  }\n\n  const NB_LOAD_WARNING = {'data': {'text/html':\n     \"<div style='background-color: #fdd'>\\n\"+\n     \"<p>\\n\"+\n     \"BokehJS does not appear to have successfully loaded. If loading BokehJS from CDN, this \\n\"+\n     \"may be due to a slow or bad network connection. Possible fixes:\\n\"+\n     \"</p>\\n\"+\n     \"<ul>\\n\"+\n     \"<li>re-rerun `output_notebook()` to attempt to load from CDN again, or</li>\\n\"+\n     \"<li>use INLINE resources instead, as so:</li>\\n\"+\n     \"</ul>\\n\"+\n     \"<code>\\n\"+\n     \"from bokeh.resources import INLINE\\n\"+\n     \"output_notebook(resources=INLINE)\\n\"+\n     \"</code>\\n\"+\n     \"</div>\"}};\n\n  function display_loaded() {\n    const el = document.getElementById(null);\n    if (el != null) {\n      el.textContent = \"BokehJS is loading...\";\n    }\n    if (root.Bokeh !== undefined) {\n      if (el != null) {\n        el.textContent = \"BokehJS \" + root.Bokeh.version + \" successfully loaded.\";\n      }\n    } else if (Date.now() < root._bokeh_timeout) {\n      setTimeout(display_loaded, 100)\n    }\n  }\n\n  function run_callbacks() {\n    try {\n      root._bokeh_onload_callbacks.forEach(function(callback) {\n        if (callback != null)\n          callback();\n      });\n    } finally {\n      delete root._bokeh_onload_callbacks\n    }\n    console.debug(\"Bokeh: all callbacks have finished\");\n  }\n\n  function load_libs(css_urls, js_urls, callback) {\n    if (css_urls == null) css_urls = [];\n    if (js_urls == null) js_urls = [];\n\n    root._bokeh_onload_callbacks.push(callback);\n    if (root._bokeh_is_loading > 0) {\n      console.debug(\"Bokeh: BokehJS is being loaded, scheduling callback at\", now());\n      return null;\n    }\n    if (js_urls == null || js_urls.length === 0) {\n      run_callbacks();\n      return null;\n    }\n    console.debug(\"Bokeh: BokehJS not loaded, scheduling load and callback at\", now());\n    root._bokeh_is_loading = css_urls.length + js_urls.length;\n\n    function on_load() {\n      root._bokeh_is_loading--;\n      if (root._bokeh_is_loading === 0) {\n        console.debug(\"Bokeh: all BokehJS libraries/stylesheets loaded\");\n        run_callbacks()\n      }\n    }\n\n    function on_error(url) {\n      console.error(\"failed to load \" + url);\n    }\n\n    for (let i = 0; i < css_urls.length; i++) {\n      const url = css_urls[i];\n      const element = document.createElement(\"link\");\n      element.onload = on_load;\n      element.onerror = on_error.bind(null, url);\n      element.rel = \"stylesheet\";\n      element.type = \"text/css\";\n      element.href = url;\n      console.debug(\"Bokeh: injecting link tag for BokehJS stylesheet: \", url);\n      document.body.appendChild(element);\n    }\n\n    for (let i = 0; i < js_urls.length; i++) {\n      const url = js_urls[i];\n      const element = document.createElement('script');\n      element.onload = on_load;\n      element.onerror = on_error.bind(null, url);\n      element.async = false;\n      element.src = url;\n      console.debug(\"Bokeh: injecting script tag for BokehJS library: \", url);\n      document.head.appendChild(element);\n    }\n  };\n\n  function inject_raw_css(css) {\n    const element = document.createElement(\"style\");\n    element.appendChild(document.createTextNode(css));\n    document.body.appendChild(element);\n  }\n\n  const js_urls = [\"https://cdn.bokeh.org/bokeh/release/bokeh-2.4.3.min.js\", \"https://cdn.bokeh.org/bokeh/release/bokeh-gl-2.4.3.min.js\", \"https://cdn.bokeh.org/bokeh/release/bokeh-widgets-2.4.3.min.js\", \"https://cdn.bokeh.org/bokeh/release/bokeh-tables-2.4.3.min.js\", \"https://cdn.bokeh.org/bokeh/release/bokeh-mathjax-2.4.3.min.js\"];\n  const css_urls = [];\n\n  const inline_js = [    function(Bokeh) {\n      Bokeh.set_log_level(\"info\");\n    },\nfunction(Bokeh) {\n    }\n  ];\n\n  function run_inline_js() {\n    if (root.Bokeh !== undefined || force === true) {\n          for (let i = 0; i < inline_js.length; i++) {\n      inline_js[i].call(root, root.Bokeh);\n    }\n} else if (Date.now() < root._bokeh_timeout) {\n      setTimeout(run_inline_js, 100);\n    } else if (!root._bokeh_failed_load) {\n      console.log(\"Bokeh: BokehJS failed to load within specified timeout.\");\n      root._bokeh_failed_load = true;\n    } else if (force !== true) {\n      const cell = $(document.getElementById(null)).parents('.cell').data().cell;\n      cell.output_area.append_execute_result(NB_LOAD_WARNING)\n    }\n  }\n\n  if (root._bokeh_is_loading === 0) {\n    console.debug(\"Bokeh: BokehJS loaded, going straight to plotting\");\n    run_inline_js();\n  } else {\n    load_libs(css_urls, js_urls, function() {\n      console.debug(\"Bokeh: BokehJS plotting callback run at\", now());\n      run_inline_js();\n    });\n  }\n}(window));"
          },
          "metadata": {}
        },
        {
          "output_type": "display_data",
          "data": {
            "text/html": [
              "\n",
              "  <div class=\"bk-root\" id=\"d4004f82-eb87-46d1-8b61-2a9e56027fae\" data-root-id=\"13728\"></div>\n"
            ]
          },
          "metadata": {}
        },
        {
          "output_type": "display_data",
          "data": {
            "application/javascript": [
              "(function(root) {\n",
              "  function embed_document(root) {\n",
              "  const docs_json = {\"647ad4e7-9925-48af-835e-b1d7955ca6f7\":{\"defs\":[],\"roots\":{\"references\":[{\"attributes\":{\"above\":[{\"id\":\"13739\"}],\"background_fill_color\":\"#fbfbfb\",\"center\":[{\"id\":\"13742\"},{\"id\":\"13746\"},{\"id\":\"13823\"}],\"extra_y_ranges\":{\"eps\":{\"id\":\"13790\"},\"pe\":{\"id\":\"13789\"},\"volume\":{\"id\":\"13776\"}},\"height\":400,\"left\":[{\"id\":\"13743\"}],\"output_backend\":\"svg\",\"renderers\":[{\"id\":\"13764\"},{\"id\":\"13770\"},{\"id\":\"13775\"},{\"id\":\"13784\"},{\"id\":\"13797\"},{\"id\":\"13829\"},{\"id\":\"13859\"},{\"id\":\"13890\"}],\"right\":[{\"id\":\"13778\"}],\"title\":{\"id\":\"13729\"},\"toolbar\":{\"id\":\"13750\"},\"width\":800,\"x_range\":{\"id\":\"13731\"},\"x_scale\":{\"id\":\"13735\"},\"y_range\":{\"id\":\"13733\"},\"y_scale\":{\"id\":\"13737\"}},\"id\":\"13728\",\"subtype\":\"Figure\",\"type\":\"Plot\"},{\"attributes\":{\"bottom\":{\"field\":\"Close\"},\"fill_color\":{\"value\":\"green\"},\"line_color\":{\"value\":\"green\"},\"top\":{\"field\":\"Open\"},\"width\":{\"value\":561600000.0},\"x\":{\"field\":\"Date\"}},\"id\":\"13767\",\"type\":\"VBar\"},{\"attributes\":{\"bottom\":{\"field\":\"Close\"},\"fill_alpha\":{\"value\":0.1},\"fill_color\":{\"value\":\"green\"},\"hatch_alpha\":{\"value\":0.1},\"line_alpha\":{\"value\":0.1},\"line_color\":{\"value\":\"green\"},\"top\":{\"field\":\"Open\"},\"width\":{\"value\":561600000.0},\"x\":{\"field\":\"Date\"}},\"id\":\"13768\",\"type\":\"VBar\"},{\"attributes\":{\"coordinates\":null,\"data_source\":{\"id\":\"13727\"},\"glyph\":{\"id\":\"13767\"},\"group\":null,\"hover_glyph\":null,\"muted_glyph\":{\"id\":\"13769\"},\"name\":\"price\",\"nonselection_glyph\":{\"id\":\"13768\"},\"view\":{\"id\":\"13757\"}},\"id\":\"13770\",\"type\":\"GlyphRenderer\"},{\"attributes\":{\"bottom\":{\"field\":\"Close\"},\"fill_alpha\":{\"value\":0.2},\"fill_color\":{\"value\":\"green\"},\"hatch_alpha\":{\"value\":0.2},\"line_alpha\":{\"value\":0.2},\"line_color\":{\"value\":\"green\"},\"top\":{\"field\":\"Open\"},\"width\":{\"value\":561600000.0},\"x\":{\"field\":\"Date\"}},\"id\":\"13769\",\"type\":\"VBar\"},{\"attributes\":{\"bottom\":{\"field\":\"Close\"},\"fill_color\":{\"value\":\"red\"},\"line_color\":{\"value\":\"red\"},\"top\":{\"field\":\"Open\"},\"width\":{\"value\":561600000.0},\"x\":{\"field\":\"Date\"}},\"id\":\"13772\",\"type\":\"VBar\"},{\"attributes\":{\"bottom\":{\"field\":\"Close\"},\"fill_alpha\":{\"value\":0.1},\"fill_color\":{\"value\":\"red\"},\"hatch_alpha\":{\"value\":0.1},\"line_alpha\":{\"value\":0.1},\"line_color\":{\"value\":\"red\"},\"top\":{\"field\":\"Open\"},\"width\":{\"value\":561600000.0},\"x\":{\"field\":\"Date\"}},\"id\":\"13773\",\"type\":\"VBar\"},{\"attributes\":{},\"id\":\"13807\",\"type\":\"UnionRenderers\"},{\"attributes\":{\"bottom\":{\"field\":\"Close\"},\"fill_alpha\":{\"value\":0.2},\"fill_color\":{\"value\":\"red\"},\"hatch_alpha\":{\"value\":0.2},\"line_alpha\":{\"value\":0.2},\"line_color\":{\"value\":\"red\"},\"top\":{\"field\":\"Open\"},\"width\":{\"value\":561600000.0},\"x\":{\"field\":\"Date\"}},\"id\":\"13774\",\"type\":\"VBar\"},{\"attributes\":{\"coordinates\":null,\"data_source\":{\"id\":\"13727\"},\"glyph\":{\"id\":\"13772\"},\"group\":null,\"hover_glyph\":null,\"muted_glyph\":{\"id\":\"13774\"},\"name\":\"price\",\"nonselection_glyph\":{\"id\":\"13773\"},\"view\":{\"id\":\"13759\"}},\"id\":\"13775\",\"type\":\"GlyphRenderer\"},{\"attributes\":{},\"id\":\"13808\",\"type\":\"Selection\"},{\"attributes\":{\"end\":1652518400,\"start\":214547400},\"id\":\"13776\",\"type\":\"Range1d\"},{\"attributes\":{\"line_color\":\"grey\",\"x\":{\"field\":\"Quarter Ended\"},\"y\":{\"field\":\"PE Ratio\"}},\"id\":\"13794\",\"type\":\"Line\"},{\"attributes\":{\"fill_alpha\":{\"value\":0.1},\"fill_color\":{\"value\":\"#1f77b4\"},\"hatch_alpha\":{\"value\":0.1},\"line_alpha\":{\"value\":0.1},\"line_color\":{\"value\":\"grey\"},\"top\":{\"field\":\"Volume\"},\"width\":{\"value\":0.5},\"x\":{\"field\":\"Date\"}},\"id\":\"13782\",\"type\":\"VBar\"},{\"attributes\":{\"format\":\"0a\"},\"id\":\"13777\",\"type\":\"NumeralTickFormatter\"},{\"attributes\":{\"axis_label\":\"Volume\",\"coordinates\":null,\"formatter\":{\"id\":\"13777\"},\"group\":null,\"major_label_policy\":{\"id\":\"13803\"},\"ticker\":{\"id\":\"13802\"},\"y_range_name\":\"volume\"},\"id\":\"13778\",\"type\":\"LinearAxis\"},{\"attributes\":{\"coordinates\":null,\"data_source\":{\"id\":\"13727\"},\"glyph\":{\"id\":\"13781\"},\"group\":null,\"hover_glyph\":null,\"muted_glyph\":{\"id\":\"13783\"},\"nonselection_glyph\":{\"id\":\"13782\"},\"view\":{\"id\":\"13785\"},\"y_range_name\":\"volume\"},\"id\":\"13784\",\"type\":\"GlyphRenderer\"},{\"attributes\":{\"fill_alpha\":{\"value\":0.2},\"fill_color\":{\"value\":\"#1f77b4\"},\"hatch_alpha\":{\"value\":0.2},\"line_alpha\":{\"value\":0.2},\"line_color\":{\"value\":\"grey\"},\"top\":{\"field\":\"Volume\"},\"width\":{\"value\":0.5},\"x\":{\"field\":\"Date\"}},\"id\":\"13781\",\"type\":\"VBar\"},{\"attributes\":{\"fill_alpha\":{\"value\":0.2},\"fill_color\":{\"value\":\"#1f77b4\"},\"hatch_alpha\":{\"value\":0.2},\"line_alpha\":{\"value\":0.2},\"line_color\":{\"value\":\"grey\"},\"top\":{\"field\":\"Volume\"},\"width\":{\"value\":0.5},\"x\":{\"field\":\"Date\"}},\"id\":\"13783\",\"type\":\"VBar\"},{\"attributes\":{\"source\":{\"id\":\"13788\"}},\"id\":\"13798\",\"type\":\"CDSView\"},{\"attributes\":{\"source\":{\"id\":\"13727\"}},\"id\":\"13785\",\"type\":\"CDSView\"},{\"attributes\":{\"callback\":null,\"formatters\":{\"@Date\":\"datetime\"},\"renderers\":[{\"id\":\"13770\"},{\"id\":\"13775\"}],\"tooltips\":[[\"Date\",\"@Date{%Y-%m-%d}\"],[\"Open\",\"@Open{($0,0)}\"],[\"Close\",\"@Close{($0,0)}\"],[\"High\",\"@High{($0,0)}\"],[\"Low\",\"@Low{($0,0)}\"],[\"Volume\",\"@Volume{($0,0 a)}\"]]},\"id\":\"13786\",\"type\":\"HoverTool\"},{\"attributes\":{\"line_alpha\":0.1,\"line_color\":\"grey\",\"x\":{\"field\":\"Quarter Ended\"},\"y\":{\"field\":\"PE Ratio\"}},\"id\":\"13795\",\"type\":\"Line\"},{\"attributes\":{\"label\":{\"value\":\"PE Ratio\"},\"renderers\":[{\"id\":\"13797\"},{\"id\":\"13829\"}]},\"id\":\"13824\",\"type\":\"LegendItem\"},{\"attributes\":{\"background_fill_alpha\":0,\"border_line_alpha\":0,\"click_policy\":\"mute\",\"coordinates\":null,\"glyph_width\":16,\"group\":null,\"items\":[{\"id\":\"13824\"},{\"id\":\"13885\"}],\"label_text_font_size\":\"10px\",\"location\":\"top_left\",\"orientation\":\"horizontal\"},\"id\":\"13823\",\"type\":\"Legend\"},{\"attributes\":{\"tools\":[{\"id\":\"13747\"},{\"id\":\"13748\"},{\"id\":\"13749\"},{\"id\":\"13786\"},{\"id\":\"13916\"}]},\"id\":\"13750\",\"type\":\"Toolbar\"},{\"attributes\":{\"format\":\"($ 0,0 a)\"},\"id\":\"13754\",\"type\":\"NumeralTickFormatter\"},{\"attributes\":{},\"id\":\"13801\",\"type\":\"AllLabels\"},{\"attributes\":{\"line_alpha\":0.2,\"line_color\":\"grey\",\"x\":{\"field\":\"Quarter Ended\"},\"y\":{\"field\":\"PE Ratio\"}},\"id\":\"13796\",\"type\":\"Line\"},{\"attributes\":{},\"id\":\"13802\",\"type\":\"BasicTicker\"},{\"attributes\":{},\"id\":\"13809\",\"type\":\"UnionRenderers\"},{\"attributes\":{},\"id\":\"13803\",\"type\":\"AllLabels\"},{\"attributes\":{},\"id\":\"13810\",\"type\":\"Selection\"},{\"attributes\":{},\"id\":\"13805\",\"type\":\"DatetimeTickFormatter\"},{\"attributes\":{\"fill_color\":{\"value\":\"grey\"},\"line_color\":{\"value\":\"grey\"},\"x\":{\"field\":\"Quarter Ended\"},\"y\":{\"field\":\"EPS Growth\"}},\"id\":\"13887\",\"type\":\"Circle\"},{\"attributes\":{},\"id\":\"13806\",\"type\":\"AllLabels\"},{\"attributes\":{\"fill_alpha\":{\"value\":0.1},\"fill_color\":{\"value\":\"grey\"},\"hatch_alpha\":{\"value\":0.1},\"line_alpha\":{\"value\":0.1},\"line_color\":{\"value\":\"grey\"},\"x\":{\"field\":\"Quarter Ended\"},\"y\":{\"field\":\"EPS Growth\"}},\"id\":\"13888\",\"type\":\"Circle\"},{\"attributes\":{\"fill_alpha\":{\"value\":0.2},\"fill_color\":{\"value\":\"grey\"},\"hatch_alpha\":{\"value\":0.2},\"line_alpha\":{\"value\":0.2},\"line_color\":{\"value\":\"grey\"},\"x\":{\"field\":\"Quarter Ended\"},\"y\":{\"field\":\"EPS Growth\"}},\"id\":\"13889\",\"type\":\"Circle\"},{\"attributes\":{\"source\":{\"id\":\"13788\"}},\"id\":\"13891\",\"type\":\"CDSView\"},{\"attributes\":{\"coordinates\":null,\"data_source\":{\"id\":\"13788\"},\"glyph\":{\"id\":\"13887\"},\"group\":null,\"hover_glyph\":null,\"muted_glyph\":{\"id\":\"13889\"},\"nonselection_glyph\":{\"id\":\"13888\"},\"view\":{\"id\":\"13891\"},\"y_range_name\":\"eps\"},\"id\":\"13890\",\"type\":\"GlyphRenderer\"},{\"attributes\":{\"data\":{\"Adj Close\":{\"__ndarray__\":\"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\",\"dtype\":\"float64\",\"order\":\"little\",\"shape\":[214]},\"Close\":{\"__ndarray__\":\"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\",\"dtype\":\"float64\",\"order\":\"little\",\"shape\":[214]},\"Date\":{\"__ndarray__\":\"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\",\"dtype\":\"float64\",\"order\":\"little\",\"shape\":[214]},\"High\":{\"__ndarray__\":\"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\",\"dtype\":\"float64\",\"order\":\"little\",\"shape\":[214]},\"Low\":{\"__ndarray__\":\"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\",\"dtype\":\"float64\",\"order\":\"little\",\"shape\":[214]},\"Open\":{\"__ndarray__\":\"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\",\"dtype\":\"float64\",\"order\":\"little\",\"shape\":[214]},\"Symbol\":[\"AAPL\",\"AAPL\",\"AAPL\",\"AAPL\",\"AAPL\",\"AAPL\",\"AAPL\",\"AAPL\",\"AAPL\",\"AAPL\",\"AAPL\",\"AAPL\",\"AAPL\",\"AAPL\",\"AAPL\",\"AAPL\",\"AAPL\",\"AAPL\",\"AAPL\",\"AAPL\",\"AAPL\",\"AAPL\",\"AAPL\",\"AAPL\",\"AAPL\",\"AAPL\",\"AAPL\",\"AAPL\",\"AAPL\",\"AAPL\",\"AAPL\",\"AAPL\",\"AAPL\",\"AAPL\",\"AAPL\",\"AAPL\",\"AAPL\",\"AAPL\",\"AAPL\",\"AAPL\",\"AAPL\",\"AAPL\",\"AAPL\",\"AAPL\",\"AAPL\",\"AAPL\",\"AAPL\",\"AAPL\",\"AAPL\",\"AAPL\",\"AAPL\",\"AAPL\",\"AAPL\",\"AAPL\",\"AAPL\",\"AAPL\",\"AAPL\",\"AAPL\",\"AAPL\",\"AAPL\",\"AAPL\",\"AAPL\",\"AAPL\",\"AAPL\",\"AAPL\",\"AAPL\",\"AAPL\",\"AAPL\",\"AAPL\",\"AAPL\",\"AAPL\",\"AAPL\",\"AAPL\",\"AAPL\",\"AAPL\",\"AAPL\",\"AAPL\",\"AAPL\",\"AAPL\",\"AAPL\",\"AAPL\",\"AAPL\",\"AAPL\",\"AAPL\",\"AAPL\",\"AAPL\",\"AAPL\",\"AAPL\",\"AAPL\",\"AAPL\",\"AAPL\",\"AAPL\",\"AAPL\",\"AAPL\",\"AAPL\",\"AAPL\",\"AAPL\",\"AAPL\",\"AAPL\",\"AAPL\",\"AAPL\",\"AAPL\",\"AAPL\",\"AAPL\",\"AAPL\",\"AAPL\",\"AAPL\",\"AAPL\",\"AAPL\",\"AAPL\",\"AAPL\",\"AAPL\",\"AAPL\",\"AAPL\",\"AAPL\",\"AAPL\",\"AAPL\",\"AAPL\",\"AAPL\",\"AAPL\",\"AAPL\",\"AAPL\",\"AAPL\",\"AAPL\",\"AAPL\",\"AAPL\",\"AAPL\",\"AAPL\",\"AAPL\",\"AAPL\",\"AAPL\",\"AAPL\",\"AAPL\",\"AAPL\",\"AAPL\",\"AAPL\",\"AAPL\",\"AAPL\",\"AAPL\",\"AAPL\",\"AAPL\",\"AAPL\",\"AAPL\",\"AAPL\",\"AAPL\",\"AAPL\",\"AAPL\",\"AAPL\",\"AAPL\",\"AAPL\",\"AAPL\",\"AAPL\",\"AAPL\",\"AAPL\",\"AAPL\",\"AAPL\",\"AAPL\",\"AAPL\",\"AAPL\",\"AAPL\",\"AAPL\",\"AAPL\",\"AAPL\",\"AAPL\",\"AAPL\",\"AAPL\",\"AAPL\",\"AAPL\",\"AAPL\",\"AAPL\",\"AAPL\",\"AAPL\",\"AAPL\",\"AAPL\",\"AAPL\",\"AAPL\",\"AAPL\",\"AAPL\",\"AAPL\",\"AAPL\",\"AAPL\",\"AAPL\",\"AAPL\",\"AAPL\",\"AAPL\",\"AAPL\",\"AAPL\",\"AAPL\",\"AAPL\",\"AAPL\",\"AAPL\",\"AAPL\",\"AAPL\",\"AAPL\",\"AAPL\",\"AAPL\",\"AAPL\",\"AAPL\",\"AAPL\",\"AAPL\",\"AAPL\",\"AAPL\",\"AAPL\",\"AAPL\",\"AAPL\",\"AAPL\",\"AAPL\",\"AAPL\",\"AAPL\",\"AAPL\",\"AAPL\",\"AAPL\",\"AAPL\",\"AAPL\"],\"Volume\":[966947200,725470000,491411200,554774800,830400800,563585200,364944800,412494000,505773600,485418400,609369200,799875200,607421200,438240400,494646400,392954000,401042400,786776000,794604400,670388800,473431200,580350000,560692000,401165200,540840800,505604400,283605200,372838000,370888400,346194800,1001960400,573201200,652109200,574140000,335784000,439186000,676862400,561191600,493028400,652883200,562827200,413529200,397447600,660920800,402510000,466215600,453142400,311548000,490154400,568261200,703106000,431980400,500996000,673236400,530523600,625625200,878583200,587901600,382914800,698830400,1517241200,1239148400,1652518400,1634592800,1215413600,870854800,664640000,828539600,665917200,806534400,685084800,823379600,397726400,606351600,512599200,854981200,776576800,878204000,483657600,637065600,617269600,696092000,1034572800,907726400,848709200,1062071200,943403100,942273900,911591900,1000150700,789171200,609133600,682558100,761634800,510781000,695483300,641220200,526245600,426269700,406474900,460672400,444751200,663605200,436544800,459917900,567873800,382408200,587298800,665619100,404360400,274245900,466936700,698380700,701525400,525004500,645852000,457732700,367736000,450589300,447023000,393788500,509851500,466738400,500339000,375200300,294522100,349372100,352897000,439899600,336603800,259155900,494859400,549384200,392563200,413769900,270588100,352470200,386197400,302954000,295691000,457301700,513959400,344705100,465592600,349040300,375235200,305822700,416607700,304512900,286001800,520664400,331213500,688359900,614967700,723561300,326597400,369816400,484226700,315890100,562335700,641505600,420262900,421836300,276066800,509350300,420033600,533647400,490203000,440644200,451491600,388877500,294237400,403810200,568706100,575450800,641293200,579327200,378195400,410521800,404876400,418961500,386168200,303341900,341361200,384595900,333191700,384754400,314862500,312586300,337582300,311481800,317085000,419073000,544856100,485408400,598509300,396527900,434540300,387947400,534812400,496091800,451034100,368029700,214547400,400668900,343136300,514858800,305027800,307110500,440671200,262492700,353332300,320847600,486015300],\"index\":[856,857,858,859,860,861,862,863,864,865,866,867,868,869,870,871,872,873,874,875,876,877,878,879,880,881,882,883,884,885,886,887,888,889,890,891,892,893,894,895,896,897,898,899,900,901,902,903,904,905,906,907,908,909,910,911,912,913,914,915,916,917,918,919,920,921,922,923,924,925,926,927,928,929,930,931,932,933,934,935,936,937,938,939,940,941,942,943,944,945,946,947,948,949,950,951,952,953,954,955,956,957,958,959,960,961,962,963,964,965,966,967,968,969,970,971,972,973,974,975,976,977,978,979,980,981,982,983,984,985,986,987,988,989,990,991,992,993,994,995,996,997,998,999,1000,1001,1002,1003,1004,1005,1006,1007,1008,1009,1010,1011,1012,1013,1014,1015,1016,1017,1018,1019,1020,1021,1022,1023,1024,1025,1026,1027,1028,1029,1030,1031,1032,1033,1034,1035,1036,1037,1038,1039,1040,1041,1042,1043,1044,1045,1046,1047,1048,1049,1050,1051,1052,1053,1054,1055,1056,1057,1058,1059,1060,1061,1062,1063,1064,1065,1066,1067,1068,1069]},\"selected\":{\"id\":\"13808\"},\"selection_policy\":{\"id\":\"13807\"}},\"id\":\"13727\",\"type\":\"ColumnDataSource\"},{\"attributes\":{\"callback\":null,\"formatters\":{\"@{Quarter Ended}\":\"datetime\"},\"renderers\":[{\"id\":\"13829\"},{\"id\":\"13890\"}],\"tooltips\":[[\"Quarter Ended\",\"@{Quarter Ended}{%Y-%m-%d}\"],[\"PE Ratio\",\"@{PE Ratio}\"],[\"EPS Growth\",\"@{EPS Growth}\"]]},\"id\":\"13916\",\"type\":\"HoverTool\"},{\"attributes\":{\"num_minor_ticks\":5,\"tickers\":[{\"id\":\"13811\"},{\"id\":\"13812\"},{\"id\":\"13813\"},{\"id\":\"13814\"},{\"id\":\"13815\"},{\"id\":\"13816\"},{\"id\":\"13817\"},{\"id\":\"13818\"},{\"id\":\"13819\"},{\"id\":\"13820\"},{\"id\":\"13821\"},{\"id\":\"13822\"}]},\"id\":\"13740\",\"type\":\"DatetimeTicker\"},{\"attributes\":{\"axis\":{\"id\":\"13743\"},\"coordinates\":null,\"dimension\":1,\"grid_line_alpha\":0.5,\"group\":null,\"ticker\":null},\"id\":\"13746\",\"type\":\"Grid\"},{\"attributes\":{\"line_alpha\":{\"value\":0.2},\"line_width\":{\"value\":2},\"x0\":{\"field\":\"Date\"},\"x1\":{\"field\":\"Date\"},\"y0\":{\"field\":\"High\"},\"y1\":{\"field\":\"Low\"}},\"id\":\"13763\",\"type\":\"Segment\"},{\"attributes\":{},\"id\":\"13735\",\"type\":\"LinearScale\"},{\"attributes\":{\"data\":{\"EPS Growth\":{\"__ndarray__\":\"a5p3nKIjub/f4AuTqYKxvzJVMCqpE6A/W9O84xQdyT9m9+RhodakP7U3+MJkqsg/OPjCZKpglL9qvHSTGATWPwAAAAAAAPM/AAAAAAAA8D+NKO0NvjDlPwAAAAAAANA/OGdEaW/wtT9y+Q/pt6+zvwfwFkhQ/Kg/wOyePCzUur8=\",\"dtype\":\"float64\",\"order\":\"little\",\"shape\":[16]},\"PE Ratio\":{\"__ndarray__\":\"16NwPQpXL0CamZmZmVkwQGZmZmZm5jFA4XoUrkdhNkAzMzMzM/MyQD0K16NwPTpAmpmZmZm5QEDNzMzMzIxBQOxRuB6FqzpA16NwPQqXOUBmZmZmZqY5QMP1KFyPwjxAuB6F61H4O0DD9ShcjwI3QLgehetRODhAuB6F61G4NUA=\",\"dtype\":\"float64\",\"order\":\"little\",\"shape\":[16]},\"Quarter Ended\":{\"__ndarray__\":\"AACAuxCddkIAAMDmWrp2QgAAwHf313ZCAADACJT1dkIAAAA03hJ3QgAAQF8oMHdCAABA8MRNd0IAAECBYWt3QgAAwEZZiHdCAAAAcqOld0IAAAADQMN3QgAAAJTc4HdCAACAWdT9d0IAAMCEHht4QgAAwBW7OHhCAADApldWeEI=\",\"dtype\":\"float64\",\"order\":\"little\",\"shape\":[16]},\"Revenue Growth (YoY)\":{\"__ndarray__\":\"C7Wmeccpqr+IhVrTvOOEP3/7OnDOiJI/c9cS8kHPtj+IhVrTvON0P6MjufyH9Ls/Dr4wmSoYhT+Y3ZOHhVrLP5oIG55eKeE/w2SqYFRS1z9MpgpGJXXSP5p3nKIjubw/WvW52or9tT8Spb3BFyaTP2b35GGh1rQ/5j+k374OrL8=\",\"dtype\":\"float64\",\"order\":\"little\",\"shape\":[16]},\"Symbol\":[\"AAPL\",\"AAPL\",\"AAPL\",\"AAPL\",\"AAPL\",\"AAPL\",\"AAPL\",\"AAPL\",\"AAPL\",\"AAPL\",\"AAPL\",\"AAPL\",\"AAPL\",\"AAPL\",\"AAPL\",\"AAPL\"],\"index\":[64,65,66,67,68,69,70,71,72,73,74,75,76,77,78,79]},\"selected\":{\"id\":\"13810\"},\"selection_policy\":{\"id\":\"13809\"}},\"id\":\"13788\",\"type\":\"ColumnDataSource\"},{\"attributes\":{\"booleans\":[true,false,false,true,false,true,false,false,false,false,false,false,true,false,true,false,false,false,true,true,true,true,false,true,false,false,true,false,false,false,true,false,false,true,false,false,false,true,false,false,false,false,false,false,false,false,true,true,false,false,false,false,false,false,false,true,true,false,false,true,true,true,true,true,false,false,false,true,false,false,false,true,false,true,false,false,false,true,false,false,false,true,false,false,false,false,false,true,false,true,false,false,false,true,true,true,false,false,true,false,false,true,false,false,true,false,true,false,true,false,true,true,false,true,false,true,true,false,false,false,true,true,true,false,false,true,false,false,false,false,false,false,true,false,true,false,false,true,false,false,true,true,false,true,false,false,false,true,false,true,false,true,false,false,true,false,false,true,false,true,false,true,true,true,false,true,true,false,false,false,true,true,true,true,true,true,true,false,true,true,true,false,true,false,false,false,false,false,false,true,true,true,false,true,true,true,true,false,false,false,true,false,true,true,false,true,true,false,true,true,false,false,false,false]},\"id\":\"13758\",\"type\":\"BooleanFilter\"},{\"attributes\":{\"source\":{\"id\":\"13788\"}},\"id\":\"13830\",\"type\":\"CDSView\"},{\"attributes\":{\"fill_color\":{\"value\":\"white\"},\"line_color\":{\"value\":\"grey\"},\"x\":{\"field\":\"Quarter Ended\"},\"y\":{\"field\":\"PE Ratio\"}},\"id\":\"13826\",\"type\":\"Circle\"},{\"attributes\":{\"source\":{\"id\":\"13727\"}},\"id\":\"13765\",\"type\":\"CDSView\"},{\"attributes\":{\"source\":{\"id\":\"13788\"}},\"id\":\"13860\",\"type\":\"CDSView\"},{\"attributes\":{\"mantissas\":[1,2,5],\"max_interval\":500.0,\"num_minor_ticks\":0},\"id\":\"13811\",\"type\":\"AdaptiveTicker\"},{\"attributes\":{\"fill_alpha\":{\"value\":0.1},\"fill_color\":{\"value\":\"white\"},\"hatch_alpha\":{\"value\":0.1},\"line_alpha\":{\"value\":0.1},\"line_color\":{\"value\":\"grey\"},\"x\":{\"field\":\"Quarter Ended\"},\"y\":{\"field\":\"PE Ratio\"}},\"id\":\"13827\",\"type\":\"Circle\"},{\"attributes\":{\"base\":60,\"mantissas\":[1,2,5,10,15,20,30],\"max_interval\":1800000.0,\"min_interval\":1000.0,\"num_minor_ticks\":0},\"id\":\"13812\",\"type\":\"AdaptiveTicker\"},{\"attributes\":{\"coordinates\":null,\"data_source\":{\"id\":\"13788\"},\"glyph\":{\"id\":\"13826\"},\"group\":null,\"hover_glyph\":null,\"muted_glyph\":{\"id\":\"13828\"},\"nonselection_glyph\":{\"id\":\"13827\"},\"view\":{\"id\":\"13830\"},\"y_range_name\":\"pe\"},\"id\":\"13829\",\"type\":\"GlyphRenderer\"},{\"attributes\":{\"base\":24,\"mantissas\":[1,2,4,6,8,12],\"max_interval\":43200000.0,\"min_interval\":3600000.0,\"num_minor_ticks\":0},\"id\":\"13813\",\"type\":\"AdaptiveTicker\"},{\"attributes\":{\"fill_alpha\":{\"value\":0.2},\"fill_color\":{\"value\":\"white\"},\"hatch_alpha\":{\"value\":0.2},\"line_alpha\":{\"value\":0.2},\"line_color\":{\"value\":\"grey\"},\"x\":{\"field\":\"Quarter Ended\"},\"y\":{\"field\":\"PE Ratio\"}},\"id\":\"13828\",\"type\":\"Circle\"},{\"attributes\":{},\"id\":\"13822\",\"type\":\"YearsTicker\"},{\"attributes\":{\"filters\":[{\"id\":\"13756\"}],\"source\":{\"id\":\"13727\"}},\"id\":\"13757\",\"type\":\"CDSView\"},{\"attributes\":{\"months\":[0,1,2,3,4,5,6,7,8,9,10,11]},\"id\":\"13818\",\"type\":\"MonthsTicker\"},{\"attributes\":{\"coordinates\":null,\"data_source\":{\"id\":\"13788\"},\"glyph\":{\"id\":\"13856\"},\"group\":null,\"hover_glyph\":null,\"muted_glyph\":{\"id\":\"13858\"},\"nonselection_glyph\":{\"id\":\"13857\"},\"view\":{\"id\":\"13860\"},\"y_range_name\":\"eps\"},\"id\":\"13859\",\"type\":\"GlyphRenderer\"},{\"attributes\":{},\"id\":\"13744\",\"type\":\"BasicTicker\"},{\"attributes\":{\"days\":[1,15]},\"id\":\"13817\",\"type\":\"DaysTicker\"},{\"attributes\":{\"axis\":{\"id\":\"13739\"},\"coordinates\":null,\"group\":null,\"ticker\":null},\"id\":\"13742\",\"type\":\"Grid\"},{\"attributes\":{\"days\":[1,2,3,4,5,6,7,8,9,10,11,12,13,14,15,16,17,18,19,20,21,22,23,24,25,26,27,28,29,30,31]},\"id\":\"13814\",\"type\":\"DaysTicker\"},{\"attributes\":{\"days\":[1,4,7,10,13,16,19,22,25,28]},\"id\":\"13815\",\"type\":\"DaysTicker\"},{\"attributes\":{\"end\":1.3062500000000001,\"start\":-0.09432},\"id\":\"13790\",\"type\":\"Range1d\"},{\"attributes\":{\"days\":[1,8,15,22]},\"id\":\"13816\",\"type\":\"DaysTicker\"},{\"attributes\":{\"months\":[0,6]},\"id\":\"13821\",\"type\":\"MonthsTicker\"},{\"attributes\":{\"months\":[0,2,4,6,8,10]},\"id\":\"13819\",\"type\":\"MonthsTicker\"},{\"attributes\":{\"end\":38.61000000000001,\"start\":14.103},\"id\":\"13789\",\"type\":\"Range1d\"},{\"attributes\":{\"coordinates\":null,\"data_source\":{\"id\":\"13727\"},\"glyph\":{\"id\":\"13761\"},\"group\":null,\"hover_glyph\":null,\"muted_glyph\":{\"id\":\"13763\"},\"nonselection_glyph\":{\"id\":\"13762\"},\"view\":{\"id\":\"13765\"}},\"id\":\"13764\",\"type\":\"GlyphRenderer\"},{\"attributes\":{\"months\":[0,4,8]},\"id\":\"13820\",\"type\":\"MonthsTicker\"},{\"attributes\":{},\"id\":\"13737\",\"type\":\"LinearScale\"},{\"attributes\":{\"booleans\":[false,true,true,false,true,false,true,true,true,true,true,true,false,true,false,true,true,true,false,false,false,false,true,false,true,true,false,true,true,true,false,true,true,false,true,true,true,false,true,true,true,true,true,true,true,true,false,false,true,true,true,true,true,true,true,false,false,true,true,false,false,false,false,false,true,true,true,false,true,true,true,false,true,false,true,true,true,false,true,true,true,false,true,true,true,true,true,false,true,false,true,true,true,false,false,false,true,true,false,true,true,false,true,true,false,true,false,true,false,true,false,false,true,false,true,false,false,true,true,true,false,false,false,true,true,false,true,true,true,true,true,true,false,true,false,true,true,false,true,true,false,false,true,false,true,true,true,false,true,false,true,false,true,true,false,true,true,false,true,false,true,false,false,false,true,false,false,true,true,true,false,false,false,false,false,false,false,true,false,false,false,true,false,true,true,true,true,true,true,false,false,false,true,false,false,false,false,true,true,true,false,true,false,false,true,false,false,true,false,false,true,true,true,true]},\"id\":\"13756\",\"type\":\"BooleanFilter\"},{\"attributes\":{\"axis_label\":\"Stock Price in USD\",\"coordinates\":null,\"formatter\":{\"id\":\"13754\"},\"group\":null,\"major_label_policy\":{\"id\":\"13801\"},\"ticker\":{\"id\":\"13744\"}},\"id\":\"13743\",\"type\":\"LinearAxis\"},{\"attributes\":{},\"id\":\"13749\",\"type\":\"ResetTool\"},{\"attributes\":{\"line_color\":\"grey\",\"x\":{\"field\":\"Quarter Ended\"},\"y\":{\"field\":\"EPS Growth\"}},\"id\":\"13856\",\"type\":\"Line\"},{\"attributes\":{\"line_alpha\":{\"value\":0.1},\"line_width\":{\"value\":2},\"x0\":{\"field\":\"Date\"},\"x1\":{\"field\":\"Date\"},\"y0\":{\"field\":\"High\"},\"y1\":{\"field\":\"Low\"}},\"id\":\"13762\",\"type\":\"Segment\"},{\"attributes\":{\"coordinates\":null,\"formatter\":{\"id\":\"13805\"},\"group\":null,\"major_label_policy\":{\"id\":\"13806\"},\"major_label_text_font_size\":\"10px\",\"ticker\":{\"id\":\"13740\"}},\"id\":\"13739\",\"type\":\"DatetimeAxis\"},{\"attributes\":{\"line_alpha\":0.2,\"line_color\":\"grey\",\"x\":{\"field\":\"Quarter Ended\"},\"y\":{\"field\":\"EPS Growth\"}},\"id\":\"13858\",\"type\":\"Line\"},{\"attributes\":{\"label\":{\"value\":\"EPS Growth\"},\"renderers\":[{\"id\":\"13859\"},{\"id\":\"13890\"}]},\"id\":\"13885\",\"type\":\"LegendItem\"},{\"attributes\":{\"end\":1675123200000.0,\"start\":1546300800000.0},\"id\":\"13731\",\"type\":\"Range1d\"},{\"attributes\":{\"line_alpha\":0.1,\"line_color\":\"grey\",\"x\":{\"field\":\"Quarter Ended\"},\"y\":{\"field\":\"EPS Growth\"}},\"id\":\"13857\",\"type\":\"Line\"},{\"attributes\":{\"coordinates\":null,\"group\":null,\"text\":\"AAPL\"},\"id\":\"13729\",\"type\":\"Title\"},{\"attributes\":{\"end\":201.23400220000002,\"start\":31.95},\"id\":\"13733\",\"type\":\"DataRange1d\"},{\"attributes\":{\"line_width\":{\"value\":2},\"x0\":{\"field\":\"Date\"},\"x1\":{\"field\":\"Date\"},\"y0\":{\"field\":\"High\"},\"y1\":{\"field\":\"Low\"}},\"id\":\"13761\",\"type\":\"Segment\"},{\"attributes\":{\"coordinates\":null,\"data_source\":{\"id\":\"13788\"},\"glyph\":{\"id\":\"13794\"},\"group\":null,\"hover_glyph\":null,\"muted_glyph\":{\"id\":\"13796\"},\"nonselection_glyph\":{\"id\":\"13795\"},\"view\":{\"id\":\"13798\"},\"y_range_name\":\"pe\"},\"id\":\"13797\",\"type\":\"GlyphRenderer\"},{\"attributes\":{\"filters\":[{\"id\":\"13758\"}],\"source\":{\"id\":\"13727\"}},\"id\":\"13759\",\"type\":\"CDSView\"},{\"attributes\":{},\"id\":\"13748\",\"type\":\"WheelZoomTool\"},{\"attributes\":{},\"id\":\"13747\",\"type\":\"PanTool\"}],\"root_ids\":[\"13728\"]},\"title\":\"Bokeh Application\",\"version\":\"2.4.3\"}};\n",
              "  const render_items = [{\"docid\":\"647ad4e7-9925-48af-835e-b1d7955ca6f7\",\"root_ids\":[\"13728\"],\"roots\":{\"13728\":\"d4004f82-eb87-46d1-8b61-2a9e56027fae\"}}];\n",
              "  root.Bokeh.embed.embed_items_notebook(docs_json, render_items);\n",
              "  }\n",
              "  if (root.Bokeh !== undefined) {\n",
              "    embed_document(root);\n",
              "  } else {\n",
              "    let attempts = 0;\n",
              "    const timer = setInterval(function(root) {\n",
              "      if (root.Bokeh !== undefined) {\n",
              "        clearInterval(timer);\n",
              "        embed_document(root);\n",
              "      } else {\n",
              "        attempts++;\n",
              "        if (attempts > 100) {\n",
              "          clearInterval(timer);\n",
              "          console.log(\"Bokeh: ERROR: Unable to run BokehJS code because BokehJS library is missing\");\n",
              "        }\n",
              "      }\n",
              "    }, 10, root)\n",
              "  }\n",
              "})(window);"
            ],
            "application/vnd.bokehjs_exec.v0+json": ""
          },
          "metadata": {
            "application/vnd.bokehjs_exec.v0+json": {
              "id": "13728"
            }
          }
        }
      ]
    }
  ]
}